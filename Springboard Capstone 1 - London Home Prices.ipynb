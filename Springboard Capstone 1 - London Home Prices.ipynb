{
 "cells": [
  {
   "cell_type": "code",
   "execution_count": 1,
   "metadata": {},
   "outputs": [],
   "source": [
    "## Intro to the problem that is being addressed.\n",
    "## Looking at residential home prices paid data from UK Data\n",
    "## Predicting home price paid"
   ]
  },
  {
   "cell_type": "code",
   "execution_count": 36,
   "metadata": {},
   "outputs": [],
   "source": [
    "## Import the relevant python packages\n",
    "\n",
    "## Core packages for data wrangling, analysis, and charting\n",
    "import pandas as pd\n",
    "import numpy as np\n",
    "import matplotlib.pyplot as plt\n",
    "import requests\n",
    "import seaborn as sns\n",
    "import datetime\n",
    "from collections import Counter\n",
    "\n",
    "## Mapping packages for presentation and geocoding\n",
    "import folium\n",
    "#from folium.features import Features, CustomIcon\n",
    "import geopandas\n",
    "import gmaps #Google Maps python package\n",
    "import branca\n",
    "import geopy\n",
    "from geopy.geocoders import Nominatim\n",
    "\n",
    "## Statistics and machine learning packages\n",
    "import scipy.stats as stats\n",
    "from sklearn.model_selection import train_test_split \n",
    "from sklearn.linear_model import LinearRegression\n",
    "from sklearn import metrics\n",
    "from sklearn.preprocessing import LabelEncoder, OneHotEncoder, LabelBinarizer\n",
    "\n",
    "%matplotlib inline"
   ]
  },
  {
   "cell_type": "code",
   "execution_count": 13,
   "metadata": {},
   "outputs": [],
   "source": [
    "## Introduce the dataset and provide a url\n",
    "\n",
    "## import the whole dataset for 2018\n",
    "## Data does not have column headers, so we set these up to add custom column names\n",
    "column_labels = ['transaction_ID', 'price', 'transfer_date', 'postcode','property_type', \n",
    "              'new_build','duration', 'PAON', 'SAON', 'street', 'locality', 'town_city', \n",
    "              'district', 'county', 'PPD_category_type', 'record_status']\n",
    "\n",
    "## Read in the UK Housing Prices Paid 2018 dataset\n",
    "## requires chunking (importing it in pieces) as it is a large file\n",
    "df_chunk = pd.read_csv(\"/Users/user/Desktop/Datasets/pp-2018.csv\", names=column_labels,\n",
    "                      iterator=True, chunksize=10000)\n",
    "\n",
    "## concatenate the chunks into one DataFrame \n",
    "chunk_list = []  # append each chunk here \n",
    "\n",
    "# Each chunk is in df format\n",
    "for chunk in df_chunk:      \n",
    "    # Once the data filtering is done, append the chunk to list\n",
    "    chunk_list.append(chunk)\n",
    "    \n",
    "# concat the list into dataframe \n",
    "df = pd.concat(chunk_list)"
   ]
  },
  {
   "cell_type": "code",
   "execution_count": null,
   "metadata": {},
   "outputs": [],
   "source": [
    "## Filter down to London only"
   ]
  },
  {
   "cell_type": "code",
   "execution_count": null,
   "metadata": {},
   "outputs": [],
   "source": [
    "## We will create a couple new columns, which will help in our later analysis.\n",
    "## These will be a trimmed postcode that correlates to postcode areas, as well as \n",
    "## month and year separated out from date column.\n",
    "\n",
    "## Trim the postcode column down to the first set of characters (removing last 3)\n",
    "df['postcode_area'] = [str(x)[:-4] for x in df.postcode]\n",
    "\n",
    "## Convert transfer date to DateTime object\n",
    "df['transfer_date'] = pd.to_datetime(df.transfer_date)\n",
    "\n",
    "## Add month and year columns\n",
    "df['month'] = df['transfer_date'].dt.month\n",
    "df['year'] = df['transfer_date'].dt.year"
   ]
  },
  {
   "cell_type": "code",
   "execution_count": 6,
   "metadata": {},
   "outputs": [],
   "source": [
    "prop_type_dict = {'D': 'Detached',\n",
    "                 'S': 'Semi-detached',\n",
    "                 'F': 'Flat',\n",
    "                 'T': 'Terraced',\n",
    "                 'O': 'Other'}\n",
    "\n",
    "new_build_dict = {'N': 'Old',\n",
    "                 'Y': 'New'}\n",
    "\n",
    "duration_dict = {'F': 'Freehold',\n",
    "                 'L': 'Leasehold'}"
   ]
  },
  {
   "cell_type": "markdown",
   "metadata": {},
   "source": [
    "We also add a conditional to this conversion so that if this notebook is run multiple times we won't get an error."
   ]
  },
  {
   "cell_type": "code",
   "execution_count": 16,
   "metadata": {},
   "outputs": [],
   "source": [
    "if len(df['property_type'][0]) == 1:\n",
    "    df['property_type'] = df['property_type'].map(prop_type_dict)"
   ]
  },
  {
   "cell_type": "code",
   "execution_count": 17,
   "metadata": {},
   "outputs": [],
   "source": [
    "## comment out to prevent future errors // \n",
    "if len(df['new_build'][0]) == 1:\n",
    "    df['new_build'] = df['new_build'].map(new_build_dict)"
   ]
  },
  {
   "cell_type": "code",
   "execution_count": 18,
   "metadata": {},
   "outputs": [],
   "source": [
    "## comment out to prevent future errors // \n",
    "if len(df['duration'][0]) == 1:\n",
    "    df['duration'] = df['duration'].map(duration_dict)"
   ]
  },
  {
   "cell_type": "code",
   "execution_count": null,
   "metadata": {},
   "outputs": [],
   "source": []
  },
  {
   "cell_type": "code",
   "execution_count": null,
   "metadata": {},
   "outputs": [],
   "source": [
    "## Function to compare the London buroughs\n",
    "\n",
    "def burough_comparison(burough1, burough2):\n",
    "    burough01 = df[df['county'] == burough1.upper()]\n",
    "    burough02 = df[df['county'] == burough2.upper()]\n",
    "    \n",
    "    if (len(burough0) == 0) or (len(burough02)) == 0:\n",
    "        print('One or both of your selected boroughs is not available or not spelled correctly')\n",
    "    \n",
    "    else:    \n",
    "        plt.boxplot([burough0.price, burough02.price],\n",
    "                         labels=[county1, county2], \n",
    "                         autorange=True, widths=0.15, vert=True)\n",
    "        plt.title('Distribution of Prices Paid - 2018')\n",
    "        plt.xlabel('Prices paid distribution')\n",
    "        plt.ylabel('Counties')\n",
    "        plt.show()\n",
    "    \n",
    "county_comparison('Greater London', 'Greater Manchester')"
   ]
  },
  {
   "cell_type": "code",
   "execution_count": null,
   "metadata": {},
   "outputs": [],
   "source": []
  },
  {
   "cell_type": "code",
   "execution_count": null,
   "metadata": {},
   "outputs": [],
   "source": [
    "## Add in the population density information to create a scatter plot of prices to density\n",
    "## Data source: Nomis UK population database of all postcode areas and population density from\n",
    "## 2011 - ONS Crown Copyright Reserved [from Nomis on 24 October 2019]\n",
    "pop_density = pd.read_csv('UK_pop_density_postcodes.csv')[8:]\n",
    "density_columns = ['long_code', 'postcode_area', 'population_density']\n",
    "pop_density.columns = density_columns\n",
    "pop_density = pop_density.drop(columns='long_code')\n",
    "pop_density.head(10)"
   ]
  },
  {
   "cell_type": "code",
   "execution_count": null,
   "metadata": {},
   "outputs": [],
   "source": [
    "## Add the population density data to the prices paid dataset by merging the tables\n",
    "## Used an if-statement to prevent multiple merges.\n",
    "if 'population_density' not in df.columns:\n",
    "    df = df.merge(pop_density, how='left', on='postcode_area')\n",
    "\n",
    "df[df['postcode_area'] == 'N4'].head()"
   ]
  },
  {
   "cell_type": "code",
   "execution_count": null,
   "metadata": {},
   "outputs": [],
   "source": []
  },
  {
   "cell_type": "code",
   "execution_count": 14,
   "metadata": {},
   "outputs": [],
   "source": [
    "## Add additional datasets that will be used - London boroughs and London wards"
   ]
  },
  {
   "cell_type": "code",
   "execution_count": 15,
   "metadata": {},
   "outputs": [],
   "source": [
    "## geotag the London data\n",
    "#1. geo = Nominatim(address, user_agent='my-application', country_bias='UK')\n",
    "#geo\n",
    "#2.  Or use the requests package to make API call with address details to Nominatim API\n",
    "#3. geopandas geocoding via geopy [ geopandas.tools.geocode(x) for x in dataset ]"
   ]
  },
  {
   "cell_type": "code",
   "execution_count": 16,
   "metadata": {},
   "outputs": [],
   "source": [
    "## Map the London dataset\n",
    "\n",
    "## Add the polygon boroughs and wards as optional layers\n",
    "## Add a heatmap of the properties as optional layer"
   ]
  },
  {
   "cell_type": "code",
   "execution_count": 21,
   "metadata": {},
   "outputs": [],
   "source": [
    "## Create a function that adds the number of nearby sales as an additional attribute to the homes dataset\n",
    "## for x in len(range(dataset)):\n",
    "#        geopandas.overlay(how='intersection')\n",
    "    \n",
    "from shapely.geometry import Polygon\n",
    "\n",
    "polys1 = geopandas.GeoSeries([Polygon([(0,0), (2,0), (2,2), (0,2)]),\n",
    "                               Polygon([(2,2), (4,2), (4,4), (2,4)])])\n",
    "\n",
    "polys2 = geopandas.GeoSeries([Polygon([(1,1), (3,1), (3,3), (1,3)]),\n",
    "                               Polygon([(3,3), (5,3), (5,5), (3,5)])])\n",
    "\n",
    "df1 = geopandas.GeoDataFrame({'geometry': polys1, 'df1':[1,2]})\n",
    "\n",
    "df2 = geopandas.GeoDataFrame({'geometry': polys2, 'df2':[1,2]})"
   ]
  },
  {
   "cell_type": "code",
   "execution_count": 23,
   "metadata": {},
   "outputs": [
    {
     "data": {
      "image/png": "[encoded data removed]",
      "text/plain": [
       "<Figure size 432x288 with 1 Axes>"
      ]
     },
     "metadata": {
      "needs_background": "light"
     },
     "output_type": "display_data"
    }
   ],
   "source": [
    "ax = df1.plot(color='red');\n",
    "\n",
    "df2.plot(ax=ax, color='green', alpha=0.5);"
   ]
  },
  {
   "cell_type": "code",
   "execution_count": 34,
   "metadata": {},
   "outputs": [
    {
     "data": {
      "image/png": "[encoded data removed]",
      "text/plain": [
       "<Figure size 432x288 with 1 Axes>"
      ]
     },
     "metadata": {
      "needs_background": "light"
     },
     "output_type": "display_data"
    }
   ],
   "source": [
    "res_union = geopandas.overlay(df1, df2, how='union') # or intersection, symmetric_difference, difference\n",
    "ax = res_union.plot(alpha=0.8, cmap='tab10')\n",
    "\n",
    "df1.plot(ax=ax, facecolor='none', edgecolor='k');\n",
    "\n",
    "df2.plot(ax=ax, facecolor='none', edgecolor='k');"
   ]
  },
  {
   "cell_type": "code",
   "execution_count": 35,
   "metadata": {},
   "outputs": [],
   "source": [
    "## prep dataset as earlier version for Decision Tree and Naive Bayes"
   ]
  },
  {
   "cell_type": "code",
   "execution_count": null,
   "metadata": {},
   "outputs": [],
   "source": [
    "## Present the results of the prediction with a few different scipy algorithms"
   ]
  },
  {
   "cell_type": "code",
   "execution_count": null,
   "metadata": {},
   "outputs": [],
   "source": []
  },
  {
   "cell_type": "markdown",
   "metadata": {},
   "source": [
    "### For predictive modelling, first we will preprocess the data to ensure it can by properly read by the scikit-learn packge. This involves converting ordinal (categorical) data into numerical data."
   ]
  },
  {
   "cell_type": "code",
   "execution_count": null,
   "metadata": {},
   "outputs": [],
   "source": [
    "## Create a new dataframe using the function created above to capture the \n",
    "## top 10 cities by sales counts\n",
    "\n",
    "df_ten = df[df['town_city'].isin(top_cities(1, 10).iloc[:,0])]"
   ]
  },
  {
   "cell_type": "code",
   "execution_count": null,
   "metadata": {},
   "outputs": [],
   "source": [
    "test_df = df_ten[['property_type', 'new_build', 'town_city']]\n",
    "test_df.head()"
   ]
  },
  {
   "cell_type": "code",
   "execution_count": null,
   "metadata": {},
   "outputs": [],
   "source": [
    "enc = OneHotEncoder(sparse=False)\n",
    "\n",
    "x_encoded = enc.fit_transform(test_df)\n",
    "\n",
    "x_encoded = pd.DataFrame(x_encoded)\n",
    "\n",
    "x_encoded"
   ]
  },
  {
   "cell_type": "code",
   "execution_count": null,
   "metadata": {},
   "outputs": [],
   "source": [
    "build_type = df_ten['new_build']\n",
    "prop_type = df_ten['property_type']\n",
    "cityID = df_ten['town_city']\n",
    "\n",
    "xencode = LabelEncoder()\n",
    "build_type = xencode.fit_transform(build_type)\n",
    "xkeys = xencode.classes_\n",
    "xkeys = list(xkeys)\n",
    "\n",
    "yencode = LabelEncoder()\n",
    "prop_type = yencode.fit_transform(prop_type)\n",
    "ykeys = yencode.classes_\n",
    "ykeys = list(ykeys)\n",
    "\n",
    "zencode = LabelEncoder()\n",
    "cityID = zencode.fit_transform(cityID)\n",
    "zkeys = zencode.classes_\n",
    "zkeys = list(zkeys)\n",
    "\n",
    "cols = xkeys + ykeys + zkeys\n",
    "cols"
   ]
  },
  {
   "cell_type": "code",
   "execution_count": null,
   "metadata": {},
   "outputs": [],
   "source": [
    "build_type = pd.DataFrame(build_type)\n",
    "prop_type = pd.DataFrame(prop_type)\n",
    "cityID = pd.DataFrame(cityID)\n",
    "\n",
    "data = pd.concat([build_type, prop_type, cityID], axis=1)\n",
    "data"
   ]
  },
  {
   "cell_type": "code",
   "execution_count": null,
   "metadata": {},
   "outputs": [],
   "source": [
    "data_ohe = OneHotEncoder().fit_transform(data).toarray()\n",
    "z = pd.DataFrame(data_ohe)\n",
    "\n",
    "z.columns = cols\n",
    "z['price'] = df_ten.price.reset_index().price\n",
    "z.head()"
   ]
  },
  {
   "cell_type": "markdown",
   "metadata": {},
   "source": [
    "### Assign the data to the scikit-learn packages, starting with Decision Trees"
   ]
  },
  {
   "cell_type": "code",
   "execution_count": null,
   "metadata": {},
   "outputs": [],
   "source": [
    "from sklearn.tree import DecisionTreeRegressor # Import Decision Tree Regressor\n",
    "from sklearn.model_selection import train_test_split # Import train_test_split function\n",
    "from sklearn import metrics #Import scikit-learn metrics module for accuracy calculation\n",
    "\n",
    "import locale\n",
    "\n",
    "locale.setlocale(locale.LC_ALL, \"\")\n",
    "\n",
    "feature_cols = cols\n",
    "\n",
    "X = z[feature_cols] #features\n",
    "y = z.price #target variable\n",
    "\n",
    "X_train, X_test, y_train, y_test = train_test_split(X, y, test_size=0.30, random_state=1)\n",
    "\n",
    "# Create Decision Tree classifer object\n",
    "reg = DecisionTreeRegressor()\n",
    "\n",
    "# Train Decision Tree Classifer\n",
    "model = reg.fit(X_train,y_train)\n",
    "\n",
    "#Predict the response for test dataset\n",
    "y_pred = model.predict(X_test)"
   ]
  },
  {
   "cell_type": "code",
   "execution_count": null,
   "metadata": {},
   "outputs": [],
   "source": [
    "y_train_pred = model.predict(X_train)\n",
    "\n",
    "np.sqrt(metrics.mean_squared_error(y_train, y_train_pred))"
   ]
  },
  {
   "cell_type": "code",
   "execution_count": null,
   "metadata": {},
   "outputs": [],
   "source": [
    "np.sqrt(metrics.mean_squared_error(y_test, y_pred))"
   ]
  },
  {
   "cell_type": "code",
   "execution_count": null,
   "metadata": {},
   "outputs": [],
   "source": [
    "rand = np.random.uniform(low=0, high=len(df_ten))\n",
    "\n",
    "X_new = df_ten.iloc[int(rand)]\n",
    "\n",
    "# Model Accuracy, how often is the regressor correct?\n",
    "print(\"City X: %s\" % X_new.loc['town_city'])\n",
    "print('X: £{:,.2f}, Predicted: £{:,.2f}'.format(X_new[0], y_pred[X_new[0]]))\n",
    "print('Difference (£): {:+,.0f}'.format(X_new[0] - y_pred[0]))\n",
    "print('Difference Predicted (%): {:+.2f}%'.format(((y_pred[0] - X_new[0]) / X_new[0]) * 100))"
   ]
  }
 ],
 "metadata": {
  "kernelspec": {
   "display_name": "Python 3",
   "language": "python",
   "name": "python3"
  },
  "language_info": {
   "codemirror_mode": {
    "name": "ipython",
    "version": 3
   },
   "file_extension": ".py",
   "mimetype": "text/x-python",
   "name": "python",
   "nbconvert_exporter": "python",
   "pygments_lexer": "ipython3",
   "version": "3.7.3"
  }
 },
 "nbformat": 4,
 "nbformat_minor": 2
}
