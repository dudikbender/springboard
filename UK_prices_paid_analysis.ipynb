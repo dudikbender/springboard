{
 "cells": [
  {
   "cell_type": "code",
   "execution_count": 23,
   "metadata": {},
   "outputs": [],
   "source": [
    "## Import packages to read in data\n",
    "import pandas as pd\n",
    "import numpy as np\n",
    "import matplotlib.pyplot as plt\n",
    "import seaborn as seabornInstance \n",
    "import datetime\n",
    "from sklearn.model_selection import train_test_split \n",
    "from sklearn.linear_model import LinearRegression\n",
    "from sklearn import metrics\n",
    "from sklearn.preprocessing import LabelEncoder, OneHotEncoder\n",
    "\n",
    "%matplotlib inline"
   ]
  },
  {
   "cell_type": "code",
   "execution_count": 2,
   "metadata": {
    "scrolled": true
   },
   "outputs": [
    {
     "name": "stdout",
     "output_type": "stream",
     "text": [
      "CPU times: user 8.23 s, sys: 1.33 s, total: 9.56 s\n",
      "Wall time: 10.6 s\n"
     ]
    }
   ],
   "source": [
    "%%time\n",
    "\n",
    "## Data does not have column headers, add these when importing\n",
    "\n",
    "column_labels = ['transaction_ID', 'price', 'transfer_date', 'postcode','property_type', \n",
    "              'new_build','duration', 'PAON', 'SAON', 'street', 'locality', 'town_city', \n",
    "              'district', 'county', 'PPD_category_type', 'record_status']\n",
    "\n",
    "## Read in the UK Housing Prices Paid 2018 dataset\n",
    "## requires chunking as it is a large file\n",
    "\n",
    "df_chunk = pd.read_csv(\"/Users/user/Desktop/Datasets/pp-2018.csv\", names=column_labels,\n",
    "                      iterator=True, chunksize=10000)\n",
    "\n",
    "## concatenate the chunks into one DataFrame \n",
    "chunk_list = []  # append each chunk here \n",
    "\n",
    "# Each chunk is in df format\n",
    "for chunk in df_chunk:      \n",
    "    # Once the data filtering is done, append the chunk to list\n",
    "    chunk_list.append(chunk)\n",
    "    \n",
    "# concat the list into dataframe \n",
    "df = pd.concat(chunk_list)"
   ]
  },
  {
   "cell_type": "code",
   "execution_count": 3,
   "metadata": {},
   "outputs": [],
   "source": [
    "## As we are interested in only selected columns, restructure the data for these columns\n",
    "## exclude transaction ID, secondary address (SAON), PPD category type, and record status\n",
    "df = df.drop(columns = ['transaction_ID', 'SAON', 'PPD_category_type', 'record_status'])"
   ]
  },
  {
   "cell_type": "code",
   "execution_count": 4,
   "metadata": {},
   "outputs": [
    {
     "data": {
      "text/html": [
       "<div>\n",
       "<style scoped>\n",
       "    .dataframe tbody tr th:only-of-type {\n",
       "        vertical-align: middle;\n",
       "    }\n",
       "\n",
       "    .dataframe tbody tr th {\n",
       "        vertical-align: top;\n",
       "    }\n",
       "\n",
       "    .dataframe thead th {\n",
       "        text-align: right;\n",
       "    }\n",
       "</style>\n",
       "<table border=\"1\" class=\"dataframe\">\n",
       "  <thead>\n",
       "    <tr style=\"text-align: right;\">\n",
       "      <th></th>\n",
       "      <th>price</th>\n",
       "      <th>month</th>\n",
       "      <th>year</th>\n",
       "    </tr>\n",
       "  </thead>\n",
       "  <tbody>\n",
       "    <tr>\n",
       "      <th>count</th>\n",
       "      <td>1.023150e+06</td>\n",
       "      <td>1.023150e+06</td>\n",
       "      <td>1023150.0</td>\n",
       "    </tr>\n",
       "    <tr>\n",
       "      <th>mean</th>\n",
       "      <td>3.497070e+05</td>\n",
       "      <td>6.775684e+00</td>\n",
       "      <td>2018.0</td>\n",
       "    </tr>\n",
       "    <tr>\n",
       "      <th>std</th>\n",
       "      <td>1.876659e+06</td>\n",
       "      <td>3.371084e+00</td>\n",
       "      <td>0.0</td>\n",
       "    </tr>\n",
       "    <tr>\n",
       "      <th>min</th>\n",
       "      <td>1.000000e+00</td>\n",
       "      <td>1.000000e+00</td>\n",
       "      <td>2018.0</td>\n",
       "    </tr>\n",
       "    <tr>\n",
       "      <th>25%</th>\n",
       "      <td>1.450000e+05</td>\n",
       "      <td>4.000000e+00</td>\n",
       "      <td>2018.0</td>\n",
       "    </tr>\n",
       "    <tr>\n",
       "      <th>50%</th>\n",
       "      <td>2.300000e+05</td>\n",
       "      <td>7.000000e+00</td>\n",
       "      <td>2018.0</td>\n",
       "    </tr>\n",
       "    <tr>\n",
       "      <th>75%</th>\n",
       "      <td>3.550000e+05</td>\n",
       "      <td>1.000000e+01</td>\n",
       "      <td>2018.0</td>\n",
       "    </tr>\n",
       "    <tr>\n",
       "      <th>max</th>\n",
       "      <td>5.692000e+08</td>\n",
       "      <td>1.200000e+01</td>\n",
       "      <td>2018.0</td>\n",
       "    </tr>\n",
       "  </tbody>\n",
       "</table>\n",
       "</div>"
      ],
      "text/plain": [
       "              price         month       year\n",
       "count  1.023150e+06  1.023150e+06  1023150.0\n",
       "mean   3.497070e+05  6.775684e+00     2018.0\n",
       "std    1.876659e+06  3.371084e+00        0.0\n",
       "min    1.000000e+00  1.000000e+00     2018.0\n",
       "25%    1.450000e+05  4.000000e+00     2018.0\n",
       "50%    2.300000e+05  7.000000e+00     2018.0\n",
       "75%    3.550000e+05  1.000000e+01     2018.0\n",
       "max    5.692000e+08  1.200000e+01     2018.0"
      ]
     },
     "execution_count": 4,
     "metadata": {},
     "output_type": "execute_result"
    }
   ],
   "source": [
    "## Convert transfer date to DateTime object\n",
    "df['transfer_date'] = pd.to_datetime(df.transfer_date)\n",
    "\n",
    "## Add month and year columns\n",
    "df['month'] = df['transfer_date'].dt.month\n",
    "df['year'] = df['transfer_date'].dt.year\n",
    "\n",
    "df.describe()"
   ]
  },
  {
   "cell_type": "markdown",
   "metadata": {},
   "source": [
    "### Summary of key statistics"
   ]
  },
  {
   "cell_type": "code",
   "execution_count": 5,
   "metadata": {},
   "outputs": [
    {
     "name": "stdout",
     "output_type": "stream",
     "text": [
      "Total number of homes sold in 2018: 1,023,150\n",
      "Overall 2018 average price was : £349,707\n",
      "Overall 2018 median price was : £230,000\n",
      "Average 2018 price paid in London was: £1,019,656\n"
     ]
    },
    {
     "data": {
      "image/png": "[encoded data removed]",
      "text/plain": [
       "<Figure size 432x288 with 1 Axes>"
      ]
     },
     "metadata": {},
     "output_type": "display_data"
    }
   ],
   "source": [
    "## Summary statistics of dataset\n",
    "avg_price = np.mean(df.price)\n",
    "median_price = np.median(df.price)\n",
    "year_select = 2018\n",
    "sales_count = len(df.year == year_select)\n",
    "\n",
    "## Key summary statistics and print out\n",
    "print(\"Total number of homes sold in \" + str(year_select) + \": \" + format(sales_count, \",\"))\n",
    "print(\"Overall 2018 average price was : £\" + format(avg_price, \",.0f\"))\n",
    "print(\"Overall 2018 median price was : £\" + format(median_price, \",.0f\"))\n",
    "\n",
    "## Average price paid in London\n",
    "city_select = 'London'\n",
    "avg_price_paid = round(df[df.town_city == city_select.upper()].price.mean(), 2)\n",
    "print(\"Average 2018 price paid in \" + city_select + \" was: £\" + format(avg_price_paid, \",.0f\"))\n",
    "\n",
    "## Graphing homes sold over time during the year\n",
    "count_by_month = df[['month','property_type','price']].groupby(['month', 'property_type']).count()\n",
    "count_by_month = count_by_month.unstack().plot(kind='line', legend=True, \n",
    "                                               title='Count of sales by property type')"
   ]
  },
  {
   "cell_type": "markdown",
   "metadata": {},
   "source": [
    "### Viewing the dataset by selecting criteria"
   ]
  },
  {
   "cell_type": "code",
   "execution_count": 6,
   "metadata": {},
   "outputs": [
    {
     "data": {
      "text/html": [
       "<div>\n",
       "<style scoped>\n",
       "    .dataframe tbody tr th:only-of-type {\n",
       "        vertical-align: middle;\n",
       "    }\n",
       "\n",
       "    .dataframe tbody tr th {\n",
       "        vertical-align: top;\n",
       "    }\n",
       "\n",
       "    .dataframe thead th {\n",
       "        text-align: right;\n",
       "    }\n",
       "</style>\n",
       "<table border=\"1\" class=\"dataframe\">\n",
       "  <thead>\n",
       "    <tr style=\"text-align: right;\">\n",
       "      <th></th>\n",
       "      <th>price</th>\n",
       "      <th>property_type</th>\n",
       "      <th>new_build</th>\n",
       "      <th>town_city</th>\n",
       "    </tr>\n",
       "  </thead>\n",
       "  <tbody>\n",
       "    <tr>\n",
       "      <th>0</th>\n",
       "      <td>1325000</td>\n",
       "      <td>D</td>\n",
       "      <td>Y</td>\n",
       "      <td>BISHOP'S STORTFORD</td>\n",
       "    </tr>\n",
       "    <tr>\n",
       "      <th>1</th>\n",
       "      <td>1250000</td>\n",
       "      <td>D</td>\n",
       "      <td>Y</td>\n",
       "      <td>HARPENDEN</td>\n",
       "    </tr>\n",
       "    <tr>\n",
       "      <th>2</th>\n",
       "      <td>1425000</td>\n",
       "      <td>D</td>\n",
       "      <td>Y</td>\n",
       "      <td>BISHOP'S STORTFORD</td>\n",
       "    </tr>\n",
       "    <tr>\n",
       "      <th>3</th>\n",
       "      <td>1150000</td>\n",
       "      <td>F</td>\n",
       "      <td>Y</td>\n",
       "      <td>WINCHESTER</td>\n",
       "    </tr>\n",
       "    <tr>\n",
       "      <th>4</th>\n",
       "      <td>1200000</td>\n",
       "      <td>D</td>\n",
       "      <td>Y</td>\n",
       "      <td>BISHOP'S STORTFORD</td>\n",
       "    </tr>\n",
       "  </tbody>\n",
       "</table>\n",
       "</div>"
      ],
      "text/plain": [
       "     price property_type new_build           town_city\n",
       "0  1325000             D         Y  BISHOP'S STORTFORD\n",
       "1  1250000             D         Y           HARPENDEN\n",
       "2  1425000             D         Y  BISHOP'S STORTFORD\n",
       "3  1150000             F         Y          WINCHESTER\n",
       "4  1200000             D         Y  BISHOP'S STORTFORD"
      ]
     },
     "execution_count": 6,
     "metadata": {},
     "output_type": "execute_result"
    }
   ],
   "source": [
    "## Explore the data with different criteria\n",
    "criteria01 = df.price > 1000000\n",
    "criteria02 = df.new_build == 'Y'\n",
    "\n",
    "## Return a table, with selected columns, based on those criteria\n",
    "df_query = df[criteria01 & criteria02].reset_index()\n",
    "df_query[['price', 'property_type', 'new_build', 'town_city']].head()"
   ]
  },
  {
   "cell_type": "markdown",
   "metadata": {},
   "source": [
    "### Compare multiple cities prices paid"
   ]
  },
  {
   "cell_type": "code",
   "execution_count": 7,
   "metadata": {
    "scrolled": true
   },
   "outputs": [
    {
     "data": {
      "image/png": "[encoded data removed]",
      "text/plain": [
       "<Figure size 432x288 with 1 Axes>"
      ]
     },
     "metadata": {},
     "output_type": "display_data"
    }
   ],
   "source": [
    "city_option01 = 'London'\n",
    "city_option02 = 'Manchester'\n",
    "\n",
    "city01 = df[df['town_city'] == city_option01.upper()]\n",
    "city02 = df[df['town_city'] == city_option02.upper()]\n",
    "\n",
    "plt.boxplot([city01.price, city02.price], labels=[city_option01, city_option02], \n",
    "            autorange=True, widths=0.15, vert=False)\n",
    "plt.title('Distribution of Prices Paid - 2018')\n",
    "plt.xlabel('Prices paid distribution')\n",
    "plt.ylabel('Cities')\n",
    "plt.show()"
   ]
  },
  {
   "cell_type": "markdown",
   "metadata": {},
   "source": [
    "### For predictive modelling, first we will preprocess the data to ensure it can by properly read by the scikit-learn packge. This involves converting ordinal (categorical) data into numerical data."
   ]
  },
  {
   "cell_type": "code",
   "execution_count": 8,
   "metadata": {},
   "outputs": [],
   "source": [
    "## Create new columns to enumerate the string data in Property Type and New Build columns\n",
    "prep_prop_type = {'D' : 1, \n",
    "                  'S' : 2, \n",
    "                  'T' : 3, \n",
    "                  'F' : 4, \n",
    "                  'O' : 5}\n",
    "\n",
    "prep_new_build = {'N': 0, \n",
    "                  'Y': 1}\n",
    "\n",
    "df['prep_prop_type'] = [prep_prop_type[x] for x in df.property_type]\n",
    "df['prep_new_build'] = [prep_new_build[x] for x in df.new_build]"
   ]
  },
  {
   "cell_type": "markdown",
   "metadata": {},
   "source": [
    "### Also, we need to generalize the postcodes by removing the last 3 letters to provide a better geographical grouping (6-7 character postcodes are overly specific)"
   ]
  },
  {
   "cell_type": "code",
   "execution_count": 9,
   "metadata": {},
   "outputs": [
    {
     "data": {
      "text/plain": [
       "0    0\n",
       "1    1\n",
       "2    2\n",
       "3    3\n",
       "4    4\n",
       "Name: prep_postcode, dtype: int64"
      ]
     },
     "execution_count": 9,
     "metadata": {},
     "output_type": "execute_result"
    }
   ],
   "source": [
    "## Create new column that trims the postcodes into generalized postcodes (remove last 4 charaacters)\n",
    "df['trim_postcode'] = [str(x)[:-4] for x in df.postcode.tolist()]\n",
    "\n",
    "# Create a new dictionary of only unique generalized postcodes\n",
    "p = df.trim_postcode.unique()\n",
    "unique_postcodes = dict(np.ndenumerate(p))\n",
    "# Flip the keys and values to get a numerical value for each unique generalized postcode\n",
    "unique_postcodes = {y:x for x,y in unique_postcodes.items()}\n",
    "\n",
    "# Assign the unique number of postcode to each instance (or row) in DataFrame\n",
    "df['prep_postcode'] = [unique_postcodes[x] for x in df.trim_postcode]\n",
    "# Then trim the values of non-numerical characters\n",
    "df['prep_postcode'] = [str(x)[1:-2] for x in df['prep_postcode']]\n",
    "# To convert it to an integer for use in the model\n",
    "df['prep_postcode'].astype(int).head()"
   ]
  },
  {
   "cell_type": "code",
   "execution_count": 43,
   "metadata": {},
   "outputs": [
    {
     "data": {
      "text/html": [
       "<div>\n",
       "<style scoped>\n",
       "    .dataframe tbody tr th:only-of-type {\n",
       "        vertical-align: middle;\n",
       "    }\n",
       "\n",
       "    .dataframe tbody tr th {\n",
       "        vertical-align: top;\n",
       "    }\n",
       "\n",
       "    .dataframe thead th {\n",
       "        text-align: right;\n",
       "    }\n",
       "</style>\n",
       "<table border=\"1\" class=\"dataframe\">\n",
       "  <thead>\n",
       "    <tr style=\"text-align: right;\">\n",
       "      <th></th>\n",
       "      <th>price</th>\n",
       "      <th>prep_postcode</th>\n",
       "      <th>prep_new_build</th>\n",
       "      <th>prep_prop_type</th>\n",
       "    </tr>\n",
       "  </thead>\n",
       "  <tbody>\n",
       "    <tr>\n",
       "      <th>0</th>\n",
       "      <td>770000</td>\n",
       "      <td>0</td>\n",
       "      <td>0</td>\n",
       "      <td>1</td>\n",
       "    </tr>\n",
       "    <tr>\n",
       "      <th>1</th>\n",
       "      <td>253500</td>\n",
       "      <td>1</td>\n",
       "      <td>0</td>\n",
       "      <td>1</td>\n",
       "    </tr>\n",
       "    <tr>\n",
       "      <th>2</th>\n",
       "      <td>231950</td>\n",
       "      <td>2</td>\n",
       "      <td>1</td>\n",
       "      <td>1</td>\n",
       "    </tr>\n",
       "    <tr>\n",
       "      <th>3</th>\n",
       "      <td>112500</td>\n",
       "      <td>3</td>\n",
       "      <td>0</td>\n",
       "      <td>2</td>\n",
       "    </tr>\n",
       "    <tr>\n",
       "      <th>4</th>\n",
       "      <td>184995</td>\n",
       "      <td>4</td>\n",
       "      <td>1</td>\n",
       "      <td>2</td>\n",
       "    </tr>\n",
       "  </tbody>\n",
       "</table>\n",
       "</div>"
      ],
      "text/plain": [
       "    price prep_postcode  prep_new_build  prep_prop_type\n",
       "0  770000             0               0               1\n",
       "1  253500             1               0               1\n",
       "2  231950             2               1               1\n",
       "3  112500             3               0               2\n",
       "4  184995             4               1               2"
      ]
     },
     "execution_count": 43,
     "metadata": {},
     "output_type": "execute_result"
    }
   ],
   "source": [
    "#enc = OneHotEncoder(categorical_features=[1])\n",
    "\n",
    "X = df[['price', 'prep_postcode', 'prep_new_build', 'prep_prop_type']]\n",
    "OneHotEncoder().fit_transform(X)\n",
    "X.head()"
   ]
  },
  {
   "cell_type": "markdown",
   "metadata": {},
   "source": [
    "### Assign the data to the scikit-learn regression packages, starting with multivariate analysis"
   ]
  },
  {
   "cell_type": "code",
   "execution_count": null,
   "metadata": {},
   "outputs": [],
   "source": [
    "## Multiple linear regression - packages have been imported above\n",
    "X = df[['prep_prop_type', 'prep_new_build', 'prep_postcode']].astype(int)\n",
    "y = df.price\n",
    "\n",
    "## Set the training parameters\n",
    "X_train, X_test, y_train, y_test = train_test_split(X, y, test_size=0.2, random_state=0)\n",
    "\n",
    "## Train the model\n",
    "regressor = LinearRegression()  \n",
    "regressor.fit(X_train, y_train)\n",
    "\n",
    "## Find the coefficients of the variables\n",
    "coeff_df = pd.DataFrame(regressor.coef_, X.columns, columns=['Coefficient'])  \n",
    "coeff_df\n",
    "\n",
    "## Perform a prediction on the test data\n",
    "y_pred = regressor.predict(X_test)\n",
    "\n",
    "## Check the difference between actual and predicted\n",
    "df1 = pd.DataFrame({'Actual': y_test, 'Predicted': y_pred})\n",
    "df1.head(25)\n",
    "\n",
    "## Next we plot the results\n",
    "df1.plot(kind='bar',figsize=(10,8))\n",
    "plt.grid(which='major', linestyle='-', linewidth='0.5', color='green')\n",
    "plt.grid(which='minor', linestyle=':', linewidth='0.5', color='black')\n",
    "plt.show()"
   ]
  },
  {
   "cell_type": "code",
   "execution_count": 129,
   "metadata": {
    "scrolled": true
   },
   "outputs": [
    {
     "data": {
      "image/png": "[encoded data removed]",
      "text/plain": [
       "<Figure size 432x288 with 1 Axes>"
      ]
     },
     "metadata": {},
     "output_type": "display_data"
    }
   ],
   "source": [
    "## Decision Tree regression model\n",
    "# Import the necessary modules and libraries\n",
    "from sklearn.tree import DecisionTreeRegressor\n",
    "\n",
    "# Create a random dataset\n",
    "rng = np.random.RandomState(1)\n",
    "X = np.sort(5 * rng.rand(80, 1), axis=0)\n",
    "y = np.sin(X).ravel()\n",
    "y[::5] += 3 * (0.5 - rng.rand(16))\n",
    "\n",
    "# Fit regression model\n",
    "regr_1 = DecisionTreeRegressor(max_depth=2)\n",
    "regr_2 = DecisionTreeRegressor(max_depth=5)\n",
    "regr_1.fit(X, y)\n",
    "regr_2.fit(X, y)\n",
    "\n",
    "# Predict\n",
    "X_test = np.arange(0.0, 5.0, 0.01)[:, np.newaxis]\n",
    "y_1 = regr_1.predict(X_test)\n",
    "y_2 = regr_2.predict(X_test)\n",
    "\n",
    "# Plot the results\n",
    "plt.figure()\n",
    "plt.scatter(X, y, s=20, edgecolor=\"black\",\n",
    "            c=\"darkorange\", label=\"data\")\n",
    "plt.plot(X_test, y_1, color=\"cornflowerblue\",\n",
    "         label=\"max_depth=2\", linewidth=2)\n",
    "plt.plot(X_test, y_2, color=\"yellowgreen\", label=\"max_depth=5\", linewidth=2)\n",
    "plt.xlabel(\"data\")\n",
    "plt.ylabel(\"target\")\n",
    "plt.title(\"Decision Tree Regression\")\n",
    "plt.legend()\n",
    "plt.show()"
   ]
  },
  {
   "cell_type": "code",
   "execution_count": 83,
   "metadata": {},
   "outputs": [
    {
     "data": {
      "image/png": "[encoded data removed]",
      "text/plain": [
       "<Figure size 432x288 with 1 Axes>"
      ]
     },
     "metadata": {},
     "output_type": "display_data"
    }
   ],
   "source": [
    "# City for graph\n",
    "city = 'Manchester'\n",
    "\n",
    "# number representing size\n",
    "x1 = df[df['town_city'] == city.upper()].prep_postcode\n",
    "\n",
    "# generate array of property types\n",
    "x2 = df[df['town_city'] == city.upper()].property_type\n",
    "\n",
    "# number representing price\n",
    "y = df[df['town_city'] == city.upper()].price\n",
    "\n",
    "# create mapping from property type to matplot colour\n",
    "property_type_colour_map = {'D' : 'blue', \n",
    "                            'S' : 'red', \n",
    "                            'T' : 'yellow', \n",
    "                            'F' : 'green', \n",
    "                            'O' : 'purple'}\n",
    "\n",
    "# create array of colours from list comprehension\n",
    "colour_array = [property_type_colour_map[i] for i in x2]\n",
    "\n",
    "plt.scatter(x1, y, c=colour_array, s=50)\n",
    "plt.xticks()\n",
    "plt.yticks()\n",
    "plt.xlabel('Postcodes')\n",
    "plt.ylabel('Price Paid')\n",
    "plt.legend()\n",
    "plt.show()"
   ]
  },
  {
   "cell_type": "code",
   "execution_count": null,
   "metadata": {},
   "outputs": [],
   "source": []
  }
 ],
 "metadata": {
  "kernelspec": {
   "display_name": "Python 3",
   "language": "python",
   "name": "python3"
  },
  "language_info": {
   "codemirror_mode": {
    "name": "ipython",
    "version": 3
   },
   "file_extension": ".py",
   "mimetype": "text/x-python",
   "name": "python",
   "nbconvert_exporter": "python",
   "pygments_lexer": "ipython3",
   "version": "3.6.5"
  }
 },
 "nbformat": 4,
 "nbformat_minor": 2
}
