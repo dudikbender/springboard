{
 "cells": [
  {
   "cell_type": "code",
   "execution_count": 1,
   "metadata": {},
   "outputs": [],
   "source": [
    "## Import packages to read in data\n",
    "import pandas as pd\n",
    "import numpy as np\n",
    "import matplotlib.pyplot as plt\n",
    "import datetime\n",
    "from sklearn.model_selection import train_test_split \n",
    "from sklearn.linear_model import LinearRegression\n",
    "from sklearn import metrics\n",
    "\n",
    "%matplotlib inline"
   ]
  },
  {
   "cell_type": "code",
   "execution_count": 2,
   "metadata": {},
   "outputs": [
    {
     "name": "stdout",
     "output_type": "stream",
     "text": [
      "CPU times: user 8.59 s, sys: 2.02 s, total: 10.6 s\n",
      "Wall time: 12.2 s\n"
     ]
    }
   ],
   "source": [
    "%%time\n",
    "\n",
    "## Data does not have column headers, add these when importing\n",
    "\n",
    "column_labels = ['transaction_ID', 'price', 'transfer_date', 'postcode','property_type', \n",
    "              'new_build','duration', 'PAON', 'SAON', 'street', 'locality', 'town_city', \n",
    "              'district', 'county', 'PPD_category_type', 'record_status']\n",
    "\n",
    "## Read in the UK Housing Prices Paid 2018 dataset\n",
    "## requires chunking as it is a large file\n",
    "\n",
    "df_chunk = pd.read_csv(\"/Users/user/Desktop/Datasets/pp-2018.csv\", names=column_labels,\n",
    "                      iterator=True, chunksize=10000)\n",
    "\n",
    "## concatenate the chunks into one DataFrame \n",
    "chunk_list = []  # append each chunk here \n",
    "\n",
    "# Each chunk is in df format\n",
    "for chunk in df_chunk:      \n",
    "    # Once the data filtering is done, append the chunk to list\n",
    "    chunk_list.append(chunk)\n",
    "    \n",
    "# concat the list into dataframe \n",
    "df = pd.concat(chunk_list)"
   ]
  },
  {
   "cell_type": "code",
   "execution_count": 3,
   "metadata": {},
   "outputs": [],
   "source": [
    "## As we are interested in only selected columns, restructure the data for these columns\n",
    "## exclude transaction ID, secondary address (SAON), PPD category type, and record status\n",
    "df = df.drop(columns = ['transaction_ID', 'SAON', 'PPD_category_type', 'record_status'])"
   ]
  },
  {
   "cell_type": "code",
   "execution_count": 4,
   "metadata": {},
   "outputs": [
    {
     "name": "stdout",
     "output_type": "stream",
     "text": [
      "<class 'pandas.core.frame.DataFrame'>\n",
      "RangeIndex: 1023150 entries, 0 to 1023149\n",
      "Data columns (total 14 columns):\n",
      "price            1023150 non-null int64\n",
      "transfer_date    1023150 non-null datetime64[ns]\n",
      "postcode         1017226 non-null object\n",
      "property_type    1023150 non-null object\n",
      "new_build        1023150 non-null object\n",
      "duration         1023150 non-null object\n",
      "PAON             1023150 non-null object\n",
      "street           1003520 non-null object\n",
      "locality         385531 non-null object\n",
      "town_city        1023150 non-null object\n",
      "district         1023150 non-null object\n",
      "county           1023150 non-null object\n",
      "month            1023150 non-null int64\n",
      "year             1023150 non-null int64\n",
      "dtypes: datetime64[ns](1), int64(3), object(10)\n",
      "memory usage: 109.3+ MB\n"
     ]
    }
   ],
   "source": [
    "## Convert transfer date to DateTime object\n",
    "df['transfer_date'] = pd.to_datetime(df.transfer_date)\n",
    "\n",
    "## Add month and year columns\n",
    "df['month'] = df['transfer_date'].dt.month\n",
    "df['year'] = df['transfer_date'].dt.year\n",
    "\n",
    "df.info()"
   ]
  },
  {
   "cell_type": "markdown",
   "metadata": {},
   "source": [
    "### Filter the data by specific criteria"
   ]
  },
  {
   "cell_type": "code",
   "execution_count": 5,
   "metadata": {},
   "outputs": [
    {
     "data": {
      "text/html": [
       "<div>\n",
       "<style scoped>\n",
       "    .dataframe tbody tr th:only-of-type {\n",
       "        vertical-align: middle;\n",
       "    }\n",
       "\n",
       "    .dataframe tbody tr th {\n",
       "        vertical-align: top;\n",
       "    }\n",
       "\n",
       "    .dataframe thead th {\n",
       "        text-align: right;\n",
       "    }\n",
       "</style>\n",
       "<table border=\"1\" class=\"dataframe\">\n",
       "  <thead>\n",
       "    <tr style=\"text-align: right;\">\n",
       "      <th></th>\n",
       "      <th>price</th>\n",
       "      <th>property_type</th>\n",
       "      <th>new_build</th>\n",
       "      <th>town_city</th>\n",
       "    </tr>\n",
       "  </thead>\n",
       "  <tbody>\n",
       "    <tr>\n",
       "      <th>0</th>\n",
       "      <td>1325000</td>\n",
       "      <td>D</td>\n",
       "      <td>Y</td>\n",
       "      <td>BISHOP'S STORTFORD</td>\n",
       "    </tr>\n",
       "    <tr>\n",
       "      <th>1</th>\n",
       "      <td>1250000</td>\n",
       "      <td>D</td>\n",
       "      <td>Y</td>\n",
       "      <td>HARPENDEN</td>\n",
       "    </tr>\n",
       "    <tr>\n",
       "      <th>2</th>\n",
       "      <td>1425000</td>\n",
       "      <td>D</td>\n",
       "      <td>Y</td>\n",
       "      <td>BISHOP'S STORTFORD</td>\n",
       "    </tr>\n",
       "    <tr>\n",
       "      <th>3</th>\n",
       "      <td>1150000</td>\n",
       "      <td>F</td>\n",
       "      <td>Y</td>\n",
       "      <td>WINCHESTER</td>\n",
       "    </tr>\n",
       "    <tr>\n",
       "      <th>4</th>\n",
       "      <td>1200000</td>\n",
       "      <td>D</td>\n",
       "      <td>Y</td>\n",
       "      <td>BISHOP'S STORTFORD</td>\n",
       "    </tr>\n",
       "  </tbody>\n",
       "</table>\n",
       "</div>"
      ],
      "text/plain": [
       "     price property_type new_build           town_city\n",
       "0  1325000             D         Y  BISHOP'S STORTFORD\n",
       "1  1250000             D         Y           HARPENDEN\n",
       "2  1425000             D         Y  BISHOP'S STORTFORD\n",
       "3  1150000             F         Y          WINCHESTER\n",
       "4  1200000             D         Y  BISHOP'S STORTFORD"
      ]
     },
     "execution_count": 5,
     "metadata": {},
     "output_type": "execute_result"
    }
   ],
   "source": [
    "## Explore the data with different criteria\n",
    "criteria01 = df.price > 1000000\n",
    "criteria02 = df.new_build == 'Y'\n",
    "\n",
    "## Return a table, with selected columns, based on those criteria\n",
    "df_query = df[criteria01 & criteria02].reset_index()\n",
    "df_query[['price', 'property_type', 'new_build','town_city']].head()"
   ]
  },
  {
   "cell_type": "code",
   "execution_count": 6,
   "metadata": {},
   "outputs": [
    {
     "name": "stdout",
     "output_type": "stream",
     "text": [
      "Overall 2018 average price was : £349,707\n",
      "Overall 2018 median price was : £230,000\n",
      "Average 2018 price paid in London was: £1,019,656\n"
     ]
    }
   ],
   "source": [
    "## Summary statistics of dataset\n",
    "avg_price = np.mean(df.price)\n",
    "median_price = np.median(df.price)\n",
    "\n",
    "print(\"Overall 2018 average price was : £\" + format(avg_price, \",.0f\"))\n",
    "print(\"Overall 2018 median price was : £\" + format(median_price, \",.0f\"))\n",
    "\n",
    "## Average price paid in London\n",
    "city_select = 'London'\n",
    "avg_price_paid = round(df[df.town_city == city_select.upper()].price.mean(), 2)\n",
    "print(\"Average 2018 price paid in \" + city_select + \" was: £\" + format(avg_price_paid, \",.0f\"))"
   ]
  },
  {
   "cell_type": "markdown",
   "metadata": {},
   "source": [
    "### Compare multiple cities prices paid"
   ]
  },
  {
   "cell_type": "code",
   "execution_count": 7,
   "metadata": {
    "scrolled": true
   },
   "outputs": [
    {
     "data": {
      "image/png": "[encoded data removed]",
      "text/plain": [
       "<Figure size 432x288 with 1 Axes>"
      ]
     },
     "metadata": {},
     "output_type": "display_data"
    }
   ],
   "source": [
    "city_option01 = 'London'\n",
    "city_option02 = 'Manchester'\n",
    "\n",
    "city01 = df[df['town_city'] == city_option01.upper()]\n",
    "city02 = df[df['town_city'] == city_option02.upper()]\n",
    "\n",
    "plt.boxplot([city01.price, city02.price], labels=[city_option01, city_option02], \n",
    "            autorange=True, widths=0.15, vert=False)\n",
    "plt.title('Distribution of Prices Paid - 2018')\n",
    "plt.xlabel('Prices paid distribution')\n",
    "plt.ylabel('Cities')\n",
    "plt.show()"
   ]
  },
  {
   "cell_type": "code",
   "execution_count": 111,
   "metadata": {},
   "outputs": [
    {
     "data": {
      "text/plain": [
       "0             0\n",
       "1             1\n",
       "2             2\n",
       "3             3\n",
       "4             4\n",
       "5             5\n",
       "6             6\n",
       "7             7\n",
       "8             7\n",
       "9             7\n",
       "10            8\n",
       "11            9\n",
       "12            4\n",
       "13           10\n",
       "14           11\n",
       "15           12\n",
       "16           13\n",
       "17           14\n",
       "18            4\n",
       "19           15\n",
       "20           16\n",
       "21           17\n",
       "22            4\n",
       "23            7\n",
       "24           13\n",
       "25           18\n",
       "26           19\n",
       "27           20\n",
       "28            4\n",
       "29           13\n",
       "           ... \n",
       "1023120     175\n",
       "1023121      30\n",
       "1023122      34\n",
       "1023123     837\n",
       "1023124      36\n",
       "1023125    1205\n",
       "1023126      34\n",
       "1023127     837\n",
       "1023128     174\n",
       "1023129     650\n",
       "1023130     172\n",
       "1023131     650\n",
       "1023132     182\n",
       "1023133     837\n",
       "1023134     921\n",
       "1023135     599\n",
       "1023136      40\n",
       "1023137     649\n",
       "1023138      34\n",
       "1023139     837\n",
       "1023140      29\n",
       "1023141      29\n",
       "1023142     822\n",
       "1023143      30\n",
       "1023144      34\n",
       "1023145     648\n",
       "1023146     645\n",
       "1023147      42\n",
       "1023148     837\n",
       "1023149      29\n",
       "Name: prep_postcode, Length: 1023150, dtype: int64"
      ]
     },
     "execution_count": 111,
     "metadata": {},
     "output_type": "execute_result"
    }
   ],
   "source": [
    "## Preprocess data for regression analysis\n",
    "## by converting cateogories into numerical values\n",
    "\n",
    "## Create new column that trims the postcodes into generalized postcodes (remove last 3 charaacters)\n",
    "df['trim_postcode'] = [str(x)[:-4] for x in df.postcode.tolist()]\n",
    "\n",
    "# Create a new dictionary of only unique generalized postcodes\n",
    "p = df.trim_postcode.unique()\n",
    "unique_postcodes = dict(np.ndenumerate(p))\n",
    "# Flip the keys and values to get a numerical value for each unique generalized postcode\n",
    "unique_postcodes = {y:x for x,y in unique_postcodes.items()}\n",
    "\n",
    "# Assign the unique number of postcode to each instance (or row) in DataFrame\n",
    "df['prep_postcode'] = [unique_postcodes[x] for x in df.trim_postcode]\n",
    "# Then trim the values of non-numerical characters\n",
    "df['prep_postcode'] = [str(x)[1:-2] for x in df['prep_postcode']]\n",
    "# To convert it to an integer for use in the model\n",
    "df['prep_postcode'].astype(int)"
   ]
  },
  {
   "cell_type": "code",
   "execution_count": 112,
   "metadata": {},
   "outputs": [],
   "source": [
    "## Create new columns to enumerate the string data in Property Type and New Build columns\n",
    "prep_prop_type = {'D' : 1, \n",
    "                  'S' : 2, \n",
    "                  'T' : 3, \n",
    "                  'F' : 4, \n",
    "                  'O' : 5}\n",
    "\n",
    "prep_new_build = {'N': 0, \n",
    "                  'Y': 1}\n",
    "\n",
    "df['prep_prop_type'] = [prep_prop_type[x] for x in df.property_type]\n",
    "df['prep_new_build'] = [prep_new_build[x] for x in df.new_build]"
   ]
  },
  {
   "cell_type": "code",
   "execution_count": 113,
   "metadata": {},
   "outputs": [
    {
     "name": "stdout",
     "output_type": "stream",
     "text": [
      "<class 'pandas.core.frame.DataFrame'>\n",
      "RangeIndex: 1023150 entries, 0 to 1023149\n",
      "Data columns (total 4 columns):\n",
      "price             1023150 non-null int64\n",
      "prep_prop_type    1023150 non-null int64\n",
      "prep_new_build    1023150 non-null int64\n",
      "prep_postcode     1023150 non-null object\n",
      "dtypes: int64(3), object(1)\n",
      "memory usage: 31.2+ MB\n"
     ]
    }
   ],
   "source": [
    "# Now we can put all the new numerical columns together\n",
    "df[['price','prep_prop_type', 'prep_new_build', 'prep_postcode']].info()"
   ]
  },
  {
   "cell_type": "code",
   "execution_count": 123,
   "metadata": {},
   "outputs": [
    {
     "data": {
      "image/png": "[encoded data removed]",
      "text/plain": [
       "<Figure size 432x288 with 1 Axes>"
      ]
     },
     "metadata": {},
     "output_type": "display_data"
    }
   ],
   "source": [
    "# City for graph\n",
    "city = 'Manchester'\n",
    "\n",
    "# random number representing size\n",
    "x1 = df[df['town_city'] == city.upper()].prep_postcode\n",
    "\n",
    "# generate random array of property types\n",
    "x2 = df[df['town_city'] == city.upper()].property_type\n",
    "\n",
    "# random number representing price\n",
    "y = df[df['town_city'] == city.upper()].price\n",
    "\n",
    "# create mapping from property type to matplot colour\n",
    "property_type_colour_map = {'D' : 'blue', \n",
    "                            'S' : 'red', \n",
    "                            'T' : 'yellow', \n",
    "                            'F' : 'green', \n",
    "                            'O' : 'purple'}\n",
    "\n",
    "# create array of colours from list comprehension\n",
    "colour_array = [property_type_colour_map[i] for i in x2]\n",
    "\n",
    "plt.scatter(x1, y, c=colour_array, s=50)\n",
    "plt.xticks()\n",
    "plt.yticks()\n",
    "plt.xlabel('Postcodes')\n",
    "plt.ylabel('Price Paid')\n",
    "plt.show()"
   ]
  },
  {
   "cell_type": "code",
   "execution_count": null,
   "metadata": {},
   "outputs": [],
   "source": []
  }
 ],
 "metadata": {
  "kernelspec": {
   "display_name": "Python 3",
   "language": "python",
   "name": "python3"
  },
  "language_info": {
   "codemirror_mode": {
    "name": "ipython",
    "version": 3
   },
   "file_extension": ".py",
   "mimetype": "text/x-python",
   "name": "python",
   "nbconvert_exporter": "python",
   "pygments_lexer": "ipython3",
   "version": "3.6.5"
  }
 },
 "nbformat": 4,
 "nbformat_minor": 2
}
