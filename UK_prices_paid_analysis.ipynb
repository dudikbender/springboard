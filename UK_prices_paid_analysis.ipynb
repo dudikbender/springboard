{
 "cells": [
  {
   "cell_type": "code",
   "execution_count": 1,
   "metadata": {},
   "outputs": [],
   "source": [
    "## Import packages to read in data\n",
    "import pandas as pd\n",
    "import numpy as np\n",
    "import matplotlib.pyplot as plt\n",
    "import seaborn as sns\n",
    "import datetime\n",
    "import seaborn as sns\n",
    "from sklearn.model_selection import train_test_split \n",
    "from sklearn.linear_model import LinearRegression\n",
    "from sklearn import metrics\n",
    "\n",
    "%matplotlib inline"
   ]
  },
  {
   "cell_type": "code",
   "execution_count": 41,
   "metadata": {},
   "outputs": [],
   "source": [
    "## Data does not have column headers, add these when importing\n",
    "\n",
    "column_labels = ['transaction_ID', 'price', 'transfer_date', 'postcode','property_type', \n",
    "              'new_build','duration', 'PAON', 'SAON', 'street', 'locality', 'town_city', \n",
    "              'district', 'county', 'PPD_category_type', 'record_status']\n",
    "\n",
    "## Read in the UK Housing Prices Paid 2018 dataset\n",
    "## requires chunking as it is a large file\n",
    "\n",
    "df_chunk = pd.read_csv(\"/Users/user/Desktop/Datasets/pp-2018.csv\", names=column_labels,\n",
    "                      iterator=True, chunksize=10000)\n",
    "\n",
    "## concatenate the chunks into one DataFrame \n",
    "chunk_list = []  # append each chunk here \n",
    "\n",
    "# Each chunk is in df format\n",
    "for chunk in df_chunk:      \n",
    "    # Once the data filtering is done, append the chunk to list\n",
    "    chunk_list.append(chunk)\n",
    "    \n",
    "# concat the list into dataframe \n",
    "df = pd.concat(chunk_list)"
   ]
  },
  {
   "cell_type": "code",
   "execution_count": 42,
   "metadata": {},
   "outputs": [],
   "source": [
    "## As we are interested in only selected columns, restructure the data for these columns\n",
    "## exclude transaction ID, secondary address (SAON), PPD category type, and record status\n",
    "df = df.drop(columns = ['transaction_ID', 'SAON', 'PPD_category_type', 'record_status'])"
   ]
  },
  {
   "cell_type": "code",
   "execution_count": 43,
   "metadata": {},
   "outputs": [
    {
     "name": "stdout",
     "output_type": "stream",
     "text": [
      "<class 'pandas.core.frame.DataFrame'>\n",
      "RangeIndex: 1023150 entries, 0 to 1023149\n",
      "Data columns (total 14 columns):\n",
      "price            1023150 non-null int64\n",
      "transfer_date    1023150 non-null datetime64[ns]\n",
      "postcode         1017226 non-null object\n",
      "property_type    1023150 non-null object\n",
      "new_build        1023150 non-null object\n",
      "duration         1023150 non-null object\n",
      "PAON             1023150 non-null object\n",
      "street           1003520 non-null object\n",
      "locality         385531 non-null object\n",
      "town_city        1023150 non-null object\n",
      "district         1023150 non-null object\n",
      "county           1023150 non-null object\n",
      "month            1023150 non-null int64\n",
      "year             1023150 non-null int64\n",
      "dtypes: datetime64[ns](1), int64(3), object(10)\n",
      "memory usage: 109.3+ MB\n"
     ]
    }
   ],
   "source": [
    "## Convert transfer date to DateTime object\n",
    "df['transfer_date'] = pd.to_datetime(df.transfer_date)\n",
    "\n",
    "## Add month and year columns\n",
    "df['month'] = df['transfer_date'].dt.month\n",
    "df['year'] = df['transfer_date'].dt.year\n",
    "\n",
    "df.info()"
   ]
  },
  {
   "cell_type": "markdown",
   "metadata": {},
   "source": [
    "### Filter the data by specific criteria"
   ]
  },
  {
   "cell_type": "code",
   "execution_count": 44,
   "metadata": {},
   "outputs": [
    {
     "data": {
      "text/html": [
       "<div>\n",
       "<style scoped>\n",
       "    .dataframe tbody tr th:only-of-type {\n",
       "        vertical-align: middle;\n",
       "    }\n",
       "\n",
       "    .dataframe tbody tr th {\n",
       "        vertical-align: top;\n",
       "    }\n",
       "\n",
       "    .dataframe thead th {\n",
       "        text-align: right;\n",
       "    }\n",
       "</style>\n",
       "<table border=\"1\" class=\"dataframe\">\n",
       "  <thead>\n",
       "    <tr style=\"text-align: right;\">\n",
       "      <th></th>\n",
       "      <th>price</th>\n",
       "      <th>property_type</th>\n",
       "      <th>new_build</th>\n",
       "      <th>town_city</th>\n",
       "    </tr>\n",
       "  </thead>\n",
       "  <tbody>\n",
       "    <tr>\n",
       "      <th>0</th>\n",
       "      <td>1325000</td>\n",
       "      <td>D</td>\n",
       "      <td>Y</td>\n",
       "      <td>BISHOP'S STORTFORD</td>\n",
       "    </tr>\n",
       "    <tr>\n",
       "      <th>1</th>\n",
       "      <td>1250000</td>\n",
       "      <td>D</td>\n",
       "      <td>Y</td>\n",
       "      <td>HARPENDEN</td>\n",
       "    </tr>\n",
       "    <tr>\n",
       "      <th>2</th>\n",
       "      <td>1425000</td>\n",
       "      <td>D</td>\n",
       "      <td>Y</td>\n",
       "      <td>BISHOP'S STORTFORD</td>\n",
       "    </tr>\n",
       "    <tr>\n",
       "      <th>3</th>\n",
       "      <td>1150000</td>\n",
       "      <td>F</td>\n",
       "      <td>Y</td>\n",
       "      <td>WINCHESTER</td>\n",
       "    </tr>\n",
       "    <tr>\n",
       "      <th>4</th>\n",
       "      <td>1200000</td>\n",
       "      <td>D</td>\n",
       "      <td>Y</td>\n",
       "      <td>BISHOP'S STORTFORD</td>\n",
       "    </tr>\n",
       "    <tr>\n",
       "      <th>5</th>\n",
       "      <td>1184389</td>\n",
       "      <td>F</td>\n",
       "      <td>Y</td>\n",
       "      <td>LONDON</td>\n",
       "    </tr>\n",
       "    <tr>\n",
       "      <th>6</th>\n",
       "      <td>1139750</td>\n",
       "      <td>F</td>\n",
       "      <td>Y</td>\n",
       "      <td>LONDON</td>\n",
       "    </tr>\n",
       "    <tr>\n",
       "      <th>7</th>\n",
       "      <td>1136650</td>\n",
       "      <td>F</td>\n",
       "      <td>Y</td>\n",
       "      <td>LONDON</td>\n",
       "    </tr>\n",
       "    <tr>\n",
       "      <th>8</th>\n",
       "      <td>1068750</td>\n",
       "      <td>F</td>\n",
       "      <td>Y</td>\n",
       "      <td>LONDON</td>\n",
       "    </tr>\n",
       "    <tr>\n",
       "      <th>9</th>\n",
       "      <td>1100000</td>\n",
       "      <td>F</td>\n",
       "      <td>Y</td>\n",
       "      <td>LONDON</td>\n",
       "    </tr>\n",
       "  </tbody>\n",
       "</table>\n",
       "</div>"
      ],
      "text/plain": [
       "     price property_type new_build           town_city\n",
       "0  1325000             D         Y  BISHOP'S STORTFORD\n",
       "1  1250000             D         Y           HARPENDEN\n",
       "2  1425000             D         Y  BISHOP'S STORTFORD\n",
       "3  1150000             F         Y          WINCHESTER\n",
       "4  1200000             D         Y  BISHOP'S STORTFORD\n",
       "5  1184389             F         Y              LONDON\n",
       "6  1139750             F         Y              LONDON\n",
       "7  1136650             F         Y              LONDON\n",
       "8  1068750             F         Y              LONDON\n",
       "9  1100000             F         Y              LONDON"
      ]
     },
     "execution_count": 44,
     "metadata": {},
     "output_type": "execute_result"
    }
   ],
   "source": [
    "## Explore the data with different criteria\n",
    "criteria01 = df.price > 1000000\n",
    "criteria02 = df.new_build == 'Y'\n",
    "\n",
    "## Return a table, with selected columns, based on those criteria\n",
    "df_query = df[criteria01 & criteria02].reset_index()\n",
    "df_query[['price', 'property_type', 'new_build','town_city']].head(10)"
   ]
  },
  {
   "cell_type": "code",
   "execution_count": 45,
   "metadata": {},
   "outputs": [
    {
     "name": "stdout",
     "output_type": "stream",
     "text": [
      "Overall 2018 average price was : £349,707\n",
      "Overall 2018 median price was : £230,000\n",
      "Average 2018 price paid in London was: £1,019,656\n"
     ]
    }
   ],
   "source": [
    "## Summary statistics of dataset\n",
    "avg_price = np.mean(df.price)\n",
    "median_price = np.median(df.price)\n",
    "\n",
    "print(\"Overall 2018 average price was : £\" + format(avg_price, \",.0f\"))\n",
    "print(\"Overall 2018 median price was : £\" + format(median_price, \",.0f\"))\n",
    "\n",
    "## Average price paid in London\n",
    "city_select = 'London'\n",
    "avg_price_paid = round(df[df.town_city == city_select.upper()].price.mean(), 2)\n",
    "print(\"Average 2018 price paid in \" + city_select + \" was: £\" + format(avg_price_paid, \",.0f\"))"
   ]
  },
  {
   "cell_type": "markdown",
   "metadata": {},
   "source": [
    "### Compare multiple cities prices paid"
   ]
  },
  {
   "cell_type": "code",
   "execution_count": 46,
   "metadata": {
    "scrolled": true
   },
   "outputs": [
    {
     "data": {
      "image/png": "[encoded data removed]",
      "text/plain": [
       "<Figure size 432x288 with 1 Axes>"
      ]
     },
     "metadata": {},
     "output_type": "display_data"
    }
   ],
   "source": [
    "city_option01 = 'London'\n",
    "city_option02 = 'Manchester'\n",
    "\n",
    "city01 = df[df['town_city'] == city_option01.upper()]\n",
    "city02 = df[df['town_city'] == city_option02.upper()]\n",
    "\n",
    "plt.boxplot([city01.price, city02.price], labels=[city_option01, city_option02], \n",
    "            autorange=True, widths=0.15, vert=False)\n",
    "plt.title('Distribution of Prices Paid - 2018')\n",
    "plt.xlabel('Prices paid distribution')\n",
    "plt.ylabel('Cities')\n",
    "plt.show()"
   ]
  },
  {
   "cell_type": "code",
   "execution_count": 124,
   "metadata": {},
   "outputs": [
    {
     "ename": "KeyError",
     "evalue": "'SK7'",
     "output_type": "error",
     "traceback": [
      "\u001b[0;31m---------------------------------------------------------------------------\u001b[0m",
      "\u001b[0;31mTypeError\u001b[0m                                 Traceback (most recent call last)",
      "\u001b[0;32mpandas/_libs/index.pyx\u001b[0m in \u001b[0;36mpandas._libs.index.IndexEngine.get_loc\u001b[0;34m()\u001b[0m\n",
      "\u001b[0;32mpandas/_libs/hashtable_class_helper.pxi\u001b[0m in \u001b[0;36mpandas._libs.hashtable.Int64HashTable.get_item\u001b[0;34m()\u001b[0m\n",
      "\u001b[0;31mTypeError\u001b[0m: an integer is required",
      "\nDuring handling of the above exception, another exception occurred:\n",
      "\u001b[0;31mKeyError\u001b[0m                                  Traceback (most recent call last)",
      "\u001b[0;32m<ipython-input-124-60c16d36535b>\u001b[0m in \u001b[0;36m<module>\u001b[0;34m()\u001b[0m\n\u001b[1;32m      8\u001b[0m \u001b[0;31m# Create a separate DataFrame for only unique generalized postcodes\u001b[0m\u001b[0;34m\u001b[0m\u001b[0;34m\u001b[0m\u001b[0m\n\u001b[1;32m      9\u001b[0m \u001b[0munique_postcodes\u001b[0m \u001b[0;34m=\u001b[0m \u001b[0mpd\u001b[0m\u001b[0;34m.\u001b[0m\u001b[0mDataFrame\u001b[0m\u001b[0;34m(\u001b[0m\u001b[0mdf\u001b[0m\u001b[0;34m.\u001b[0m\u001b[0mtrim_postcode\u001b[0m\u001b[0;34m.\u001b[0m\u001b[0munique\u001b[0m\u001b[0;34m(\u001b[0m\u001b[0;34m)\u001b[0m\u001b[0;34m,\u001b[0m \u001b[0mcolumns\u001b[0m \u001b[0;34m=\u001b[0m \u001b[0;34m[\u001b[0m\u001b[0;34m'trim_postcode'\u001b[0m\u001b[0;34m]\u001b[0m\u001b[0;34m)\u001b[0m\u001b[0;34m.\u001b[0m\u001b[0mreset_index\u001b[0m\u001b[0;34m(\u001b[0m\u001b[0;34m)\u001b[0m\u001b[0;34m\u001b[0m\u001b[0m\n\u001b[0;32m---> 10\u001b[0;31m \u001b[0mdf\u001b[0m\u001b[0;34m[\u001b[0m\u001b[0;34m'prep_postcodes'\u001b[0m\u001b[0;34m]\u001b[0m \u001b[0;34m=\u001b[0m \u001b[0;34m[\u001b[0m\u001b[0munique_postcodes\u001b[0m\u001b[0;34m[\u001b[0m\u001b[0;34m'trim_postcode'\u001b[0m\u001b[0;34m]\u001b[0m\u001b[0;34m[\u001b[0m\u001b[0mx\u001b[0m\u001b[0;34m]\u001b[0m \u001b[0;32mfor\u001b[0m \u001b[0mx\u001b[0m \u001b[0;32min\u001b[0m \u001b[0mdf\u001b[0m\u001b[0;34m.\u001b[0m\u001b[0mtrim_postcode\u001b[0m\u001b[0;34m]\u001b[0m\u001b[0;34m\u001b[0m\u001b[0m\n\u001b[0m\u001b[1;32m     11\u001b[0m \u001b[0mdf\u001b[0m\u001b[0;34m[\u001b[0m\u001b[0;34m'prep_postcodes'\u001b[0m\u001b[0;34m]\u001b[0m\u001b[0;34m.\u001b[0m\u001b[0mhead\u001b[0m\u001b[0;34m(\u001b[0m\u001b[0;34m)\u001b[0m\u001b[0;34m\u001b[0m\u001b[0m\n\u001b[1;32m     12\u001b[0m \u001b[0;31m#unique_postcodes.head()\u001b[0m\u001b[0;34m\u001b[0m\u001b[0;34m\u001b[0m\u001b[0m\n",
      "\u001b[0;32m<ipython-input-124-60c16d36535b>\u001b[0m in \u001b[0;36m<listcomp>\u001b[0;34m(.0)\u001b[0m\n\u001b[1;32m      8\u001b[0m \u001b[0;31m# Create a separate DataFrame for only unique generalized postcodes\u001b[0m\u001b[0;34m\u001b[0m\u001b[0;34m\u001b[0m\u001b[0m\n\u001b[1;32m      9\u001b[0m \u001b[0munique_postcodes\u001b[0m \u001b[0;34m=\u001b[0m \u001b[0mpd\u001b[0m\u001b[0;34m.\u001b[0m\u001b[0mDataFrame\u001b[0m\u001b[0;34m(\u001b[0m\u001b[0mdf\u001b[0m\u001b[0;34m.\u001b[0m\u001b[0mtrim_postcode\u001b[0m\u001b[0;34m.\u001b[0m\u001b[0munique\u001b[0m\u001b[0;34m(\u001b[0m\u001b[0;34m)\u001b[0m\u001b[0;34m,\u001b[0m \u001b[0mcolumns\u001b[0m \u001b[0;34m=\u001b[0m \u001b[0;34m[\u001b[0m\u001b[0;34m'trim_postcode'\u001b[0m\u001b[0;34m]\u001b[0m\u001b[0;34m)\u001b[0m\u001b[0;34m.\u001b[0m\u001b[0mreset_index\u001b[0m\u001b[0;34m(\u001b[0m\u001b[0;34m)\u001b[0m\u001b[0;34m\u001b[0m\u001b[0m\n\u001b[0;32m---> 10\u001b[0;31m \u001b[0mdf\u001b[0m\u001b[0;34m[\u001b[0m\u001b[0;34m'prep_postcodes'\u001b[0m\u001b[0;34m]\u001b[0m \u001b[0;34m=\u001b[0m \u001b[0;34m[\u001b[0m\u001b[0munique_postcodes\u001b[0m\u001b[0;34m[\u001b[0m\u001b[0;34m'trim_postcode'\u001b[0m\u001b[0;34m]\u001b[0m\u001b[0;34m[\u001b[0m\u001b[0mx\u001b[0m\u001b[0;34m]\u001b[0m \u001b[0;32mfor\u001b[0m \u001b[0mx\u001b[0m \u001b[0;32min\u001b[0m \u001b[0mdf\u001b[0m\u001b[0;34m.\u001b[0m\u001b[0mtrim_postcode\u001b[0m\u001b[0;34m]\u001b[0m\u001b[0;34m\u001b[0m\u001b[0m\n\u001b[0m\u001b[1;32m     11\u001b[0m \u001b[0mdf\u001b[0m\u001b[0;34m[\u001b[0m\u001b[0;34m'prep_postcodes'\u001b[0m\u001b[0;34m]\u001b[0m\u001b[0;34m.\u001b[0m\u001b[0mhead\u001b[0m\u001b[0;34m(\u001b[0m\u001b[0;34m)\u001b[0m\u001b[0;34m\u001b[0m\u001b[0m\n\u001b[1;32m     12\u001b[0m \u001b[0;31m#unique_postcodes.head()\u001b[0m\u001b[0;34m\u001b[0m\u001b[0;34m\u001b[0m\u001b[0m\n",
      "\u001b[0;32m/anaconda3/lib/python3.6/site-packages/pandas/core/series.py\u001b[0m in \u001b[0;36m__getitem__\u001b[0;34m(self, key)\u001b[0m\n\u001b[1;32m    764\u001b[0m         \u001b[0mkey\u001b[0m \u001b[0;34m=\u001b[0m \u001b[0mcom\u001b[0m\u001b[0;34m.\u001b[0m\u001b[0m_apply_if_callable\u001b[0m\u001b[0;34m(\u001b[0m\u001b[0mkey\u001b[0m\u001b[0;34m,\u001b[0m \u001b[0mself\u001b[0m\u001b[0;34m)\u001b[0m\u001b[0;34m\u001b[0m\u001b[0m\n\u001b[1;32m    765\u001b[0m         \u001b[0;32mtry\u001b[0m\u001b[0;34m:\u001b[0m\u001b[0;34m\u001b[0m\u001b[0m\n\u001b[0;32m--> 766\u001b[0;31m             \u001b[0mresult\u001b[0m \u001b[0;34m=\u001b[0m \u001b[0mself\u001b[0m\u001b[0;34m.\u001b[0m\u001b[0mindex\u001b[0m\u001b[0;34m.\u001b[0m\u001b[0mget_value\u001b[0m\u001b[0;34m(\u001b[0m\u001b[0mself\u001b[0m\u001b[0;34m,\u001b[0m \u001b[0mkey\u001b[0m\u001b[0;34m)\u001b[0m\u001b[0;34m\u001b[0m\u001b[0m\n\u001b[0m\u001b[1;32m    767\u001b[0m \u001b[0;34m\u001b[0m\u001b[0m\n\u001b[1;32m    768\u001b[0m             \u001b[0;32mif\u001b[0m \u001b[0;32mnot\u001b[0m \u001b[0mis_scalar\u001b[0m\u001b[0;34m(\u001b[0m\u001b[0mresult\u001b[0m\u001b[0;34m)\u001b[0m\u001b[0;34m:\u001b[0m\u001b[0;34m\u001b[0m\u001b[0m\n",
      "\u001b[0;32m/anaconda3/lib/python3.6/site-packages/pandas/core/indexes/base.py\u001b[0m in \u001b[0;36mget_value\u001b[0;34m(self, series, key)\u001b[0m\n\u001b[1;32m   3101\u001b[0m         \u001b[0;32mtry\u001b[0m\u001b[0;34m:\u001b[0m\u001b[0;34m\u001b[0m\u001b[0m\n\u001b[1;32m   3102\u001b[0m             return self._engine.get_value(s, k,\n\u001b[0;32m-> 3103\u001b[0;31m                                           tz=getattr(series.dtype, 'tz', None))\n\u001b[0m\u001b[1;32m   3104\u001b[0m         \u001b[0;32mexcept\u001b[0m \u001b[0mKeyError\u001b[0m \u001b[0;32mas\u001b[0m \u001b[0me1\u001b[0m\u001b[0;34m:\u001b[0m\u001b[0;34m\u001b[0m\u001b[0m\n\u001b[1;32m   3105\u001b[0m             \u001b[0;32mif\u001b[0m \u001b[0mlen\u001b[0m\u001b[0;34m(\u001b[0m\u001b[0mself\u001b[0m\u001b[0;34m)\u001b[0m \u001b[0;34m>\u001b[0m \u001b[0;36m0\u001b[0m \u001b[0;32mand\u001b[0m \u001b[0mself\u001b[0m\u001b[0;34m.\u001b[0m\u001b[0minferred_type\u001b[0m \u001b[0;32min\u001b[0m \u001b[0;34m[\u001b[0m\u001b[0;34m'integer'\u001b[0m\u001b[0;34m,\u001b[0m \u001b[0;34m'boolean'\u001b[0m\u001b[0;34m]\u001b[0m\u001b[0;34m:\u001b[0m\u001b[0;34m\u001b[0m\u001b[0m\n",
      "\u001b[0;32mpandas/_libs/index.pyx\u001b[0m in \u001b[0;36mpandas._libs.index.IndexEngine.get_value\u001b[0;34m()\u001b[0m\n",
      "\u001b[0;32mpandas/_libs/index.pyx\u001b[0m in \u001b[0;36mpandas._libs.index.IndexEngine.get_value\u001b[0;34m()\u001b[0m\n",
      "\u001b[0;32mpandas/_libs/index.pyx\u001b[0m in \u001b[0;36mpandas._libs.index.IndexEngine.get_loc\u001b[0;34m()\u001b[0m\n",
      "\u001b[0;31mKeyError\u001b[0m: 'SK7'"
     ]
    }
   ],
   "source": [
    "## Preprocess data for regression analysis\n",
    "## by converting cateogories into numerical values\n",
    "\n",
    "## Create new column that trims the postcodes into generalized postcodes (remove last 3 charaacters)\n",
    "df['trim_postcode'] = [str(x)[:-4] for x in df.postcode.tolist()]\n",
    "df['trim_postcode'].shape\n",
    "\n",
    "# Create a separate DataFrame for only unique generalized postcodes\n",
    "unique_postcodes = pd.DataFrame(df.trim_postcode.unique(), columns = ['trim_postcode']).reset_index()\n",
    "df['prep_postcodes'] = [unique_postcodes['trim_postcode'][x] for x in df.trim_postcode]\n",
    "df['prep_postcodes'].head()\n",
    "#unique_postcodes.head()\n",
    "#df['prep_postcodes']"
   ]
  },
  {
   "cell_type": "code",
   "execution_count": 117,
   "metadata": {},
   "outputs": [
    {
     "data": {
      "text/html": [
       "<div>\n",
       "<style scoped>\n",
       "    .dataframe tbody tr th:only-of-type {\n",
       "        vertical-align: middle;\n",
       "    }\n",
       "\n",
       "    .dataframe tbody tr th {\n",
       "        vertical-align: top;\n",
       "    }\n",
       "\n",
       "    .dataframe thead th {\n",
       "        text-align: right;\n",
       "    }\n",
       "</style>\n",
       "<table border=\"1\" class=\"dataframe\">\n",
       "  <thead>\n",
       "    <tr style=\"text-align: right;\">\n",
       "      <th></th>\n",
       "      <th>price</th>\n",
       "      <th>trim_postcode</th>\n",
       "      <th>property_type</th>\n",
       "      <th>prep_prop_type</th>\n",
       "      <th>new_build</th>\n",
       "      <th>prep_new_build</th>\n",
       "    </tr>\n",
       "  </thead>\n",
       "  <tbody>\n",
       "    <tr>\n",
       "      <th>0</th>\n",
       "      <td>770000</td>\n",
       "      <td>SK7</td>\n",
       "      <td>D</td>\n",
       "      <td>1</td>\n",
       "      <td>N</td>\n",
       "      <td>0</td>\n",
       "    </tr>\n",
       "    <tr>\n",
       "      <th>1</th>\n",
       "      <td>253500</td>\n",
       "      <td>M6</td>\n",
       "      <td>D</td>\n",
       "      <td>1</td>\n",
       "      <td>N</td>\n",
       "      <td>0</td>\n",
       "    </tr>\n",
       "    <tr>\n",
       "      <th>2</th>\n",
       "      <td>231950</td>\n",
       "      <td>WA3</td>\n",
       "      <td>D</td>\n",
       "      <td>1</td>\n",
       "      <td>Y</td>\n",
       "      <td>1</td>\n",
       "    </tr>\n",
       "    <tr>\n",
       "      <th>3</th>\n",
       "      <td>112500</td>\n",
       "      <td>OL6</td>\n",
       "      <td>S</td>\n",
       "      <td>2</td>\n",
       "      <td>N</td>\n",
       "      <td>0</td>\n",
       "    </tr>\n",
       "    <tr>\n",
       "      <th>4</th>\n",
       "      <td>184995</td>\n",
       "      <td>M46</td>\n",
       "      <td>S</td>\n",
       "      <td>2</td>\n",
       "      <td>Y</td>\n",
       "      <td>1</td>\n",
       "    </tr>\n",
       "  </tbody>\n",
       "</table>\n",
       "</div>"
      ],
      "text/plain": [
       "    price trim_postcode property_type  prep_prop_type new_build  \\\n",
       "0  770000           SK7             D               1         N   \n",
       "1  253500            M6             D               1         N   \n",
       "2  231950           WA3             D               1         Y   \n",
       "3  112500           OL6             S               2         N   \n",
       "4  184995           M46             S               2         Y   \n",
       "\n",
       "   prep_new_build  \n",
       "0               0  \n",
       "1               0  \n",
       "2               1  \n",
       "3               0  \n",
       "4               1  "
      ]
     },
     "execution_count": 117,
     "metadata": {},
     "output_type": "execute_result"
    }
   ],
   "source": [
    "## Create new columns to enumerate the string data in Property Type and New Build columns\n",
    "prep_prop_type = {'D' : 1, \n",
    "                  'S' : 2, \n",
    "                  'T' : 3, \n",
    "                  'F' : 4, \n",
    "                  'O' : 5}\n",
    "\n",
    "prep_new_build = {'N': 0, \n",
    "                  'Y': 1}\n",
    "\n",
    "df['prep_prop_type'] = [prep_prop_type[x] for x in df.property_type]\n",
    "df['prep_new_build'] = [prep_new_build[x] for x in df.new_build]\n",
    "df[['price','trim_postcode','property_type','prep_prop_type', 'new_build', 'prep_new_build']].head()"
   ]
  },
  {
   "cell_type": "code",
   "execution_count": 49,
   "metadata": {},
   "outputs": [
    {
     "data": {
      "text/plain": [
       "0    N\n",
       "1    N\n",
       "2    Y\n",
       "3    N\n",
       "4    Y\n",
       "5    Y\n",
       "6    N\n",
       "7    Y\n",
       "8    Y\n",
       "9    Y\n",
       "Name: new_build, dtype: object"
      ]
     },
     "execution_count": 49,
     "metadata": {},
     "output_type": "execute_result"
    }
   ],
   "source": [
    "df['new_build'].head(10)"
   ]
  },
  {
   "cell_type": "code",
   "execution_count": 50,
   "metadata": {},
   "outputs": [
    {
     "data": {
      "image/png": "[encoded data removed]",
      "text/plain": [
       "<Figure size 432x288 with 1 Axes>"
      ]
     },
     "metadata": {},
     "output_type": "display_data"
    }
   ],
   "source": [
    "# random number representing size\n",
    "x1 = np.random.random(10)\n",
    "\n",
    "# generate random array of property types\n",
    "property_types = ['condo', 'house', 'commercial']\n",
    "x2 = np.random.choice(property_types,10)\n",
    "\n",
    "# random number representing price\n",
    "y = np.random.random(10)\n",
    "\n",
    "# create mapping from property type to matplot colour\n",
    "property_type_colour_map = {'condo':'red','house':'blue','commercial':'yellow'}\n",
    "\n",
    "# create array of colours from list comprehension\n",
    "colour_array = [property_type_colour_map[i] for i in x2]\n",
    "\n",
    "plt.scatter(x1, y, c=colour_array, s=500)\n",
    "plt.show()"
   ]
  },
  {
   "cell_type": "code",
   "execution_count": null,
   "metadata": {},
   "outputs": [],
   "source": []
  }
 ],
 "metadata": {
  "kernelspec": {
   "display_name": "Python 3",
   "language": "python",
   "name": "python3"
  },
  "language_info": {
   "codemirror_mode": {
    "name": "ipython",
    "version": 3
   },
   "file_extension": ".py",
   "mimetype": "text/x-python",
   "name": "python",
   "nbconvert_exporter": "python",
   "pygments_lexer": "ipython3",
   "version": "3.6.5"
  }
 },
 "nbformat": 4,
 "nbformat_minor": 2
}
