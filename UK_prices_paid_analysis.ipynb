{
 "cells": [
  {
   "cell_type": "code",
   "execution_count": 1,
   "metadata": {},
   "outputs": [],
   "source": [
    "## Import packages to read in data\n",
    "import pandas as pd\n",
    "import numpy as np\n",
    "import matplotlib.pyplot as plt\n",
    "import seaborn as sns\n",
    "import datetime\n",
    "import seaborn as sns\n",
    "from sklearn.model_selection import train_test_split \n",
    "from sklearn.linear_model import LinearRegression\n",
    "from sklearn import metrics\n",
    "\n",
    "%matplotlib inline"
   ]
  },
  {
   "cell_type": "code",
   "execution_count": 2,
   "metadata": {},
   "outputs": [],
   "source": [
    "## Data does not have column headers, add these when importing\n",
    "\n",
    "column_labels = ['transaction_ID', 'price', 'transfer_date', 'postcode','property_type', \n",
    "              'old_vs_new','duration', 'PAON', 'SAON', 'street', 'locality', 'town_city', \n",
    "              'district', 'county', 'PPD_category_type', 'record_status']\n",
    "\n",
    "## Read in the UK Housing Prices Paid 2018 dataset\n",
    "## requires chunking as it is a large file\n",
    "\n",
    "df_chunk = pd.read_csv(\"/Users/user/Desktop/Datasets/pp-2018.csv\", names=column_labels,\n",
    "                      iterator=True, chunksize=10000)\n",
    "\n",
    "## concatenate the chunks into one DataFrame \n",
    "chunk_list = []  # append each chunk here \n",
    "\n",
    "# Each chunk is in df format\n",
    "for chunk in df_chunk:      \n",
    "    # Once the data filtering is done, append the chunk to list\n",
    "    chunk_list.append(chunk)\n",
    "    \n",
    "# concat the list into dataframe \n",
    "df = pd.concat(chunk_list)"
   ]
  },
  {
   "cell_type": "code",
   "execution_count": 3,
   "metadata": {},
   "outputs": [],
   "source": [
    "## As we are interested in only selected columns, restructure the data for these columns\n",
    "## exclude transaction ID, secondary address (SAON), PPD category type, and record status\n",
    "df = df.drop(columns = ['transaction_ID', 'SAON', 'PPD_category_type', 'record_status'])"
   ]
  },
  {
   "cell_type": "code",
   "execution_count": 8,
   "metadata": {},
   "outputs": [
    {
     "name": "stdout",
     "output_type": "stream",
     "text": [
      "<class 'pandas.core.frame.DataFrame'>\n",
      "RangeIndex: 1023150 entries, 0 to 1023149\n",
      "Data columns (total 14 columns):\n",
      "price            1023150 non-null int64\n",
      "transfer_date    1023150 non-null datetime64[ns]\n",
      "postcode         1017226 non-null object\n",
      "property_type    1023150 non-null object\n",
      "old_vs_new       1023150 non-null object\n",
      "duration         1023150 non-null object\n",
      "PAON             1023150 non-null object\n",
      "street           1003520 non-null object\n",
      "locality         385531 non-null object\n",
      "town_city        1023150 non-null object\n",
      "district         1023150 non-null object\n",
      "county           1023150 non-null object\n",
      "month            1023150 non-null int64\n",
      "year             1023150 non-null int64\n",
      "dtypes: datetime64[ns](1), int64(3), object(10)\n",
      "memory usage: 109.3+ MB\n"
     ]
    }
   ],
   "source": [
    "## Convert transfer date to DateTime object\n",
    "df['transfer_date'] = pd.to_datetime(df.transfer_date)\n",
    "\n",
    "## Add month and year columns\n",
    "df['month'] = df['transfer_date'].dt.month\n",
    "df['year'] = df['transfer_date'].dt.year\n",
    "\n",
    "df.info()"
   ]
  },
  {
   "cell_type": "markdown",
   "metadata": {},
   "source": [
    "### Filter the data by specific criteria"
   ]
  },
  {
   "cell_type": "code",
   "execution_count": 16,
   "metadata": {},
   "outputs": [
    {
     "data": {
      "text/html": [
       "<div>\n",
       "<style scoped>\n",
       "    .dataframe tbody tr th:only-of-type {\n",
       "        vertical-align: middle;\n",
       "    }\n",
       "\n",
       "    .dataframe tbody tr th {\n",
       "        vertical-align: top;\n",
       "    }\n",
       "\n",
       "    .dataframe thead th {\n",
       "        text-align: right;\n",
       "    }\n",
       "</style>\n",
       "<table border=\"1\" class=\"dataframe\">\n",
       "  <thead>\n",
       "    <tr style=\"text-align: right;\">\n",
       "      <th></th>\n",
       "      <th>price</th>\n",
       "      <th>property_type</th>\n",
       "      <th>old_vs_new</th>\n",
       "      <th>town_city</th>\n",
       "    </tr>\n",
       "  </thead>\n",
       "  <tbody>\n",
       "    <tr>\n",
       "      <th>0</th>\n",
       "      <td>770000</td>\n",
       "      <td>D</td>\n",
       "      <td>N</td>\n",
       "      <td>STOCKPORT</td>\n",
       "    </tr>\n",
       "    <tr>\n",
       "      <th>1</th>\n",
       "      <td>690000</td>\n",
       "      <td>D</td>\n",
       "      <td>N</td>\n",
       "      <td>WIGAN</td>\n",
       "    </tr>\n",
       "    <tr>\n",
       "      <th>2</th>\n",
       "      <td>699950</td>\n",
       "      <td>D</td>\n",
       "      <td>N</td>\n",
       "      <td>GRANTHAM</td>\n",
       "    </tr>\n",
       "    <tr>\n",
       "      <th>3</th>\n",
       "      <td>835000</td>\n",
       "      <td>T</td>\n",
       "      <td>N</td>\n",
       "      <td>STAMFORD</td>\n",
       "    </tr>\n",
       "    <tr>\n",
       "      <th>4</th>\n",
       "      <td>830000</td>\n",
       "      <td>D</td>\n",
       "      <td>N</td>\n",
       "      <td>LEICESTER</td>\n",
       "    </tr>\n",
       "  </tbody>\n",
       "</table>\n",
       "</div>"
      ],
      "text/plain": [
       "    price property_type old_vs_new  town_city\n",
       "0  770000             D          N  STOCKPORT\n",
       "1  690000             D          N      WIGAN\n",
       "2  699950             D          N   GRANTHAM\n",
       "3  835000             T          N   STAMFORD\n",
       "4  830000             D          N  LEICESTER"
      ]
     },
     "execution_count": 16,
     "metadata": {},
     "output_type": "execute_result"
    }
   ],
   "source": [
    "## Explore the data with different criteria\n",
    "criteria01 = df.price > 600000\n",
    "criteria02 = df.old_vs_new == 'N'\n",
    "\n",
    "## Return a table, with selected columns, based on those criteria\n",
    "df_query = df[criteria01 & criteria02].reset_index()\n",
    "df_query[['price', 'property_type', 'old_vs_new','town_city']].head()"
   ]
  },
  {
   "cell_type": "code",
   "execution_count": 10,
   "metadata": {},
   "outputs": [
    {
     "name": "stdout",
     "output_type": "stream",
     "text": [
      "Overall 2018 average price was : £349,707\n",
      "Overall 2018 median price was : £230,000\n",
      "Average 2018 price paid in London was: £1,019,656\n"
     ]
    }
   ],
   "source": [
    "## Summary statistics of dataset\n",
    "avg_price = np.mean(df.price)\n",
    "median_price = np.median(df.price)\n",
    "\n",
    "print(\"Overall 2018 average price was : £\" + format(avg_price, \",.0f\"))\n",
    "print(\"Overall 2018 median price was : £\" + format(median_price, \",.0f\"))\n",
    "\n",
    "## Average price paid in London\n",
    "city_select = 'London'\n",
    "avg_price_paid = round(df[df.town_city == city_select.upper()].price.mean(), 2)\n",
    "print(\"Average 2018 price paid in \" + city_select + \" was: £\" + format(avg_price_paid, \",.0f\"))"
   ]
  },
  {
   "cell_type": "markdown",
   "metadata": {},
   "source": [
    "### Compare multiple cities prices paid"
   ]
  },
  {
   "cell_type": "code",
   "execution_count": 11,
   "metadata": {
    "scrolled": true
   },
   "outputs": [
    {
     "data": {
      "image/png": "[encoded data removed]",
      "text/plain": [
       "<Figure size 432x288 with 1 Axes>"
      ]
     },
     "metadata": {},
     "output_type": "display_data"
    }
   ],
   "source": [
    "city_option01 = 'London'\n",
    "city_option02 = 'Manchester'\n",
    "\n",
    "city01 = df[df['town_city'] == city_option01.upper()]\n",
    "city02 = df[df['town_city'] == city_option02.upper()]\n",
    "\n",
    "plt.boxplot([city01.price, city02.price], labels=[city_option01, city_option02], \n",
    "            autorange=True, widths=0.15, vert=False)\n",
    "plt.title('Distribution of Prices Paid - 2018')\n",
    "plt.xlabel('Prices paid distribution')\n",
    "plt.ylabel('Cities')\n",
    "plt.show()"
   ]
  },
  {
   "cell_type": "code",
   "execution_count": 17,
   "metadata": {},
   "outputs": [
    {
     "data": {
      "text/plain": [
       "1032    1205000\n",
       "1037    5200000\n",
       "1046     616000\n",
       "1059     620000\n",
       "1340     211500\n",
       "Name: price, dtype: int64"
      ]
     },
     "execution_count": 17,
     "metadata": {},
     "output_type": "execute_result"
    }
   ],
   "source": [
    "## Create chart figure based on desired city\n",
    "selected = 'London'\n",
    "t = df[df['town_city'] == selected.upper()][['postcode', 'price', 'property_type']].dropna()\n",
    "x = t.postcode.sort_values()\n",
    "y = t.price\n",
    "\n",
    "x.head()\n",
    "y.head()\n",
    "# Use Seaborn package to render graph, adding colors and legend\n",
    "#sns.lmplot(x=\"postcode\", y=\"price\", data=t, hue='property_type', legend=True)\n",
    "\n",
    "#plt.legend(loc='upper right')\n",
    "\n",
    "#plt.show()\n",
    "\n",
    "#plt.scatter(x, y, s=2)\n",
    "#plt.show()"
   ]
  },
  {
   "cell_type": "code",
   "execution_count": null,
   "metadata": {},
   "outputs": [],
   "source": []
  }
 ],
 "metadata": {
  "kernelspec": {
   "display_name": "Python 3",
   "language": "python",
   "name": "python3"
  },
  "language_info": {
   "codemirror_mode": {
    "name": "ipython",
    "version": 3
   },
   "file_extension": ".py",
   "mimetype": "text/x-python",
   "name": "python",
   "nbconvert_exporter": "python",
   "pygments_lexer": "ipython3",
   "version": "3.6.5"
  }
 },
 "nbformat": 4,
 "nbformat_minor": 2
}
