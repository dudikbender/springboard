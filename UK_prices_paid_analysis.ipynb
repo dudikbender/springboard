{
 "cells": [
  {
   "cell_type": "code",
   "execution_count": 2,
   "metadata": {},
   "outputs": [],
   "source": [
    "## Import packages to read in data\n",
    "import pandas as pd\n",
    "import numpy as np\n",
    "import matplotlib.pyplot as plt\n",
    "import seaborn as sns\n",
    "import datetime\n",
    "import seaborn as sns\n",
    "from sklearn.model_selection import train_test_split \n",
    "from sklearn.linear_model import LinearRegression\n",
    "from sklearn import metrics\n",
    "\n",
    "%matplotlib inline"
   ]
  },
  {
   "cell_type": "code",
   "execution_count": 3,
   "metadata": {},
   "outputs": [],
   "source": [
    "## Data does not have column headers, add these when importing\n",
    "\n",
    "column_labels = ['transaction_ID', 'price', 'transfer_date', 'postcode','property_type', \n",
    "              'old_vs_new','duration', 'PAON', 'SAON', 'street', 'locality', 'town_city', \n",
    "              'district', 'county', 'PPD_category_type', 'record_status']\n",
    "\n",
    "## Read in the UK Housing Prices Paid 2018 dataset\n",
    "## requires chunking as it is a large file\n",
    "\n",
    "df_chunk = pd.read_csv(\"/Users/user/Desktop/Datasets/pp-2018.csv\", names=column_labels,\n",
    "                      iterator=True, chunksize=10000)\n",
    "\n",
    "## concatenate the chunks into one DataFrame \n",
    "chunk_list = []  # append each chunk here \n",
    "\n",
    "# Each chunk is in df format\n",
    "for chunk in df_chunk:      \n",
    "    # Once the data filtering is done, append the chunk to list\n",
    "    chunk_list.append(chunk)\n",
    "    \n",
    "# concat the list into dataframe \n",
    "df = pd.concat(chunk_list)"
   ]
  },
  {
   "cell_type": "code",
   "execution_count": 4,
   "metadata": {},
   "outputs": [],
   "source": [
    "## As we are interested in only selected columns, restructure the data for these columns\n",
    "## exclude transaction ID, secondary address (SAON), PPD category type, and record status\n",
    "df = df.drop(columns = ['transaction_ID', 'SAON', 'PPD_category_type', 'record_status'])"
   ]
  },
  {
   "cell_type": "code",
   "execution_count": 5,
   "metadata": {},
   "outputs": [
    {
     "name": "stdout",
     "output_type": "stream",
     "text": [
      "<class 'pandas.core.frame.DataFrame'>\n",
      "RangeIndex: 1023150 entries, 0 to 1023149\n",
      "Data columns (total 14 columns):\n",
      "price            1023150 non-null int64\n",
      "transfer_date    1023150 non-null datetime64[ns]\n",
      "postcode         1017226 non-null object\n",
      "property_type    1023150 non-null object\n",
      "old_vs_new       1023150 non-null object\n",
      "duration         1023150 non-null object\n",
      "PAON             1023150 non-null object\n",
      "street           1003520 non-null object\n",
      "locality         385531 non-null object\n",
      "town_city        1023150 non-null object\n",
      "district         1023150 non-null object\n",
      "county           1023150 non-null object\n",
      "month            1023150 non-null int64\n",
      "year             1023150 non-null int64\n",
      "dtypes: datetime64[ns](1), int64(3), object(10)\n",
      "memory usage: 109.3+ MB\n"
     ]
    }
   ],
   "source": [
    "## Convert transfer date to DateTime object\n",
    "df['transfer_date'] = pd.to_datetime(df.transfer_date)\n",
    "\n",
    "## Add month and year columns\n",
    "df['month'] = df['transfer_date'].dt.month\n",
    "df['year'] = df['transfer_date'].dt.year\n",
    "\n",
    "df.info()"
   ]
  },
  {
   "cell_type": "markdown",
   "metadata": {},
   "source": [
    "### Filter the data by specific criteria"
   ]
  },
  {
   "cell_type": "code",
   "execution_count": 135,
   "metadata": {},
   "outputs": [
    {
     "data": {
      "text/html": [
       "<div>\n",
       "<style scoped>\n",
       "    .dataframe tbody tr th:only-of-type {\n",
       "        vertical-align: middle;\n",
       "    }\n",
       "\n",
       "    .dataframe tbody tr th {\n",
       "        vertical-align: top;\n",
       "    }\n",
       "\n",
       "    .dataframe thead th {\n",
       "        text-align: right;\n",
       "    }\n",
       "</style>\n",
       "<table border=\"1\" class=\"dataframe\">\n",
       "  <thead>\n",
       "    <tr style=\"text-align: right;\">\n",
       "      <th></th>\n",
       "      <th>price</th>\n",
       "      <th>property_type</th>\n",
       "      <th>old_vs_new</th>\n",
       "      <th>town_city</th>\n",
       "    </tr>\n",
       "  </thead>\n",
       "  <tbody>\n",
       "    <tr>\n",
       "      <th>0</th>\n",
       "      <td>1200000</td>\n",
       "      <td>D</td>\n",
       "      <td>N</td>\n",
       "      <td>ROCHDALE</td>\n",
       "    </tr>\n",
       "    <tr>\n",
       "      <th>1</th>\n",
       "      <td>1550000</td>\n",
       "      <td>D</td>\n",
       "      <td>N</td>\n",
       "      <td>BRISTOL</td>\n",
       "    </tr>\n",
       "    <tr>\n",
       "      <th>2</th>\n",
       "      <td>1205000</td>\n",
       "      <td>T</td>\n",
       "      <td>N</td>\n",
       "      <td>LONDON</td>\n",
       "    </tr>\n",
       "    <tr>\n",
       "      <th>3</th>\n",
       "      <td>1920000</td>\n",
       "      <td>D</td>\n",
       "      <td>N</td>\n",
       "      <td>WEYBRIDGE</td>\n",
       "    </tr>\n",
       "    <tr>\n",
       "      <th>4</th>\n",
       "      <td>5200000</td>\n",
       "      <td>D</td>\n",
       "      <td>N</td>\n",
       "      <td>LONDON</td>\n",
       "    </tr>\n",
       "  </tbody>\n",
       "</table>\n",
       "</div>"
      ],
      "text/plain": [
       "     price property_type old_vs_new  town_city\n",
       "0  1200000             D          N   ROCHDALE\n",
       "1  1550000             D          N    BRISTOL\n",
       "2  1205000             T          N     LONDON\n",
       "3  1920000             D          N  WEYBRIDGE\n",
       "4  5200000             D          N     LONDON"
      ]
     },
     "execution_count": 135,
     "metadata": {},
     "output_type": "execute_result"
    }
   ],
   "source": [
    "## Explore the data with different criteria\n",
    "criteria01 = df.price > 1000000\n",
    "criteria02 = df.old_vs_new == 'N'\n",
    "\n",
    "## Return a table, with selected columns, based on those criteria\n",
    "df_query = df[criteria01 & criteria02].reset_index()\n",
    "df_query[['price', 'property_type', 'old_vs_new','town_city']].head()"
   ]
  },
  {
   "cell_type": "code",
   "execution_count": 136,
   "metadata": {},
   "outputs": [
    {
     "name": "stdout",
     "output_type": "stream",
     "text": [
      "Overall 2018 average price was : £349,707\n",
      "Overall 2018 median price was : £230,000\n",
      "Average 2018 price paid in Brighton was: £477,545\n"
     ]
    }
   ],
   "source": [
    "## Summary statistics of dataset\n",
    "avg_price = np.mean(df.price)\n",
    "median_price = np.median(df.price)\n",
    "\n",
    "print(\"Overall 2018 average price was : £\" + format(avg_price, \",.0f\"))\n",
    "print(\"Overall 2018 median price was : £\" + format(median_price, \",.0f\"))\n",
    "\n",
    "## Average price paid in London\n",
    "city_select = 'Brighton'\n",
    "avg_price_paid = round(df[df.town_city == city_select.upper()].price.mean(), 2)\n",
    "print(\"Average 2018 price paid in \" + city_select + \" was: £\" + format(avg_price_paid, \",.0f\"))"
   ]
  },
  {
   "cell_type": "markdown",
   "metadata": {},
   "source": [
    "### Compare multiple cities prices paid"
   ]
  },
  {
   "cell_type": "code",
   "execution_count": 139,
   "metadata": {
    "scrolled": true
   },
   "outputs": [
    {
     "data": {
      "image/png": "[encoded data removed]",
      "text/plain": [
       "<Figure size 432x288 with 1 Axes>"
      ]
     },
     "metadata": {},
     "output_type": "display_data"
    }
   ],
   "source": [
    "city_option01 = 'London'\n",
    "city_option02 = 'Manchester'\n",
    "\n",
    "city01 = df[df['town_city'] == city_option01.upper()]\n",
    "city02 = df[df['town_city'] == city_option02.upper()]\n",
    "\n",
    "plt.boxplot([city01.price, city02.price], labels=[city_option01, city_option02], \n",
    "            autorange=True, widths=0.15, vert=False)\n",
    "plt.title('Distribution of Prices Paid - 2018')\n",
    "plt.xlabel('Prices paid distribution')\n",
    "plt.ylabel('Cities')\n",
    "plt.show()"
   ]
  },
  {
   "cell_type": "code",
   "execution_count": 140,
   "metadata": {},
   "outputs": [
    {
     "data": {
      "text/html": [
       "<div>\n",
       "<style scoped>\n",
       "    .dataframe tbody tr th:only-of-type {\n",
       "        vertical-align: middle;\n",
       "    }\n",
       "\n",
       "    .dataframe tbody tr th {\n",
       "        vertical-align: top;\n",
       "    }\n",
       "\n",
       "    .dataframe thead th {\n",
       "        text-align: right;\n",
       "    }\n",
       "</style>\n",
       "<table border=\"1\" class=\"dataframe\">\n",
       "  <thead>\n",
       "    <tr style=\"text-align: right;\">\n",
       "      <th></th>\n",
       "      <th>number</th>\n",
       "      <th>postcode</th>\n",
       "    </tr>\n",
       "  </thead>\n",
       "  <tbody>\n",
       "    <tr>\n",
       "      <th>0</th>\n",
       "      <td>0</td>\n",
       "      <td></td>\n",
       "    </tr>\n",
       "    <tr>\n",
       "      <th>1</th>\n",
       "      <td>1</td>\n",
       "      <td>GU8</td>\n",
       "    </tr>\n",
       "    <tr>\n",
       "      <th>2</th>\n",
       "      <td>2</td>\n",
       "      <td>GU30</td>\n",
       "    </tr>\n",
       "    <tr>\n",
       "      <th>3</th>\n",
       "      <td>3</td>\n",
       "      <td>CR4</td>\n",
       "    </tr>\n",
       "    <tr>\n",
       "      <th>4</th>\n",
       "      <td>4</td>\n",
       "      <td>GU7</td>\n",
       "    </tr>\n",
       "  </tbody>\n",
       "</table>\n",
       "</div>"
      ],
      "text/plain": [
       "   number postcode\n",
       "0       0         \n",
       "1       1      GU8\n",
       "2       2     GU30\n",
       "3       3      CR4\n",
       "4       4      GU7"
      ]
     },
     "execution_count": 140,
     "metadata": {},
     "output_type": "execute_result"
    }
   ],
   "source": [
    "## Preprocess data for regression analysis\n",
    "## by converting cateogories into numerical values\n",
    "\n",
    "## Create new list of unique, generalized postcodes (remove last 3 charaacters)\n",
    "trim_postcode = [str(x)[:-4] for x in df.postcode.tolist()]\n",
    "unique_postcode = pd.DataFrame(list(set(trim_postcode))).dropna()\n",
    "\n",
    "unique_postcode.reset_index(level=0, inplace=True)\n",
    "unique_postcode.columns = ['number', 'postcode']\n",
    "unique_postcode.head()"
   ]
  },
  {
   "cell_type": "code",
   "execution_count": 127,
   "metadata": {},
   "outputs": [
    {
     "data": {
      "image/png": "[encoded data removed]",
      "text/plain": [
       "<Figure size 432x288 with 1 Axes>"
      ]
     },
     "metadata": {},
     "output_type": "display_data"
    }
   ],
   "source": [
    "# random number representing size\n",
    "x1 = np.random.random(10)\n",
    "\n",
    "# generate random array of property types\n",
    "property_types = ['condo', 'house', 'commercial']\n",
    "x2 = np.random.choice(property_types,10)\n",
    "\n",
    "# random number representing price\n",
    "y = np.random.random(10)\n",
    "\n",
    "# create mapping from property type to matplot colour\n",
    "property_type_colour_map = {'condo':'red','house':'blue','commercial':'yellow'}\n",
    "\n",
    "# create array of colours from list comprehension\n",
    "colour_array = [property_type_colour_map[i] for i in x2]\n",
    "\n",
    "plt.scatter(x1, y, c=colour_array, s=500)\n",
    "plt.show()"
   ]
  }
 ],
 "metadata": {
  "kernelspec": {
   "display_name": "Python 3",
   "language": "python",
   "name": "python3"
  },
  "language_info": {
   "codemirror_mode": {
    "name": "ipython",
    "version": 3
   },
   "file_extension": ".py",
   "mimetype": "text/x-python",
   "name": "python",
   "nbconvert_exporter": "python",
   "pygments_lexer": "ipython3",
   "version": "3.6.5"
  }
 },
 "nbformat": 4,
 "nbformat_minor": 2
}
