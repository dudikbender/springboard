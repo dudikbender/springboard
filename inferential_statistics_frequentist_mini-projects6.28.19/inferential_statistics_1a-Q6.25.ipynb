{
 "cells": [
  {
   "cell_type": "markdown",
   "metadata": {},
   "source": [
    "# Inferential Statistics Ia - Frequentism"
   ]
  },
  {
   "cell_type": "markdown",
   "metadata": {},
   "source": [
    "## Learning objectives"
   ]
  },
  {
   "cell_type": "markdown",
   "metadata": {},
   "source": [
    "Welcome to the first Frequentist inference mini-project! Over the course of working on this mini-project and the next frequentist mini-project, you'll learn the fundamental concepts associated with frequentist inference. The following list includes the topics you will become familiar with as you work through these two mini-projects:\n",
    "* the _z_-statistic\n",
    "* the _t_-statistic\n",
    "* the difference and relationship between the two\n",
    "* the Central Limit Theorem, including its assumptions and consequences\n",
    "* how to estimate the population mean and standard deviation from a sample\n",
    "* the concept of a sampling distribution of a test statistic, particularly for the mean\n",
    "* how to combine these concepts to calculate a confidence interval"
   ]
  },
  {
   "cell_type": "markdown",
   "metadata": {},
   "source": [
    "## Prerequisites"
   ]
  },
  {
   "cell_type": "markdown",
   "metadata": {},
   "source": [
    "For working through this notebook, you are expected to have a very basic understanding of:\n",
    "* what a random variable is\n",
    "* what a probability density function (pdf) is\n",
    "* what the cumulative density function is\n",
    "* a high-level sense of what the Normal distribution\n",
    "\n",
    "If these concepts are new to you, please take a few moments to Google these topics in order to get a sense of what they are and how you might use them.\n",
    "\n",
    "While it's great if you have previous knowledge about sampling distributions, this assignment will introduce the concept and set you up to practice working using sampling distributions. This notebook was designed to bridge the gap between having a basic understanding of probability and random variables and being able to apply these concepts in Python. The second frequentist inference mini-project focuses on a real-world application of this type of inference to give you further practice using these concepts. "
   ]
  },
  {
   "cell_type": "markdown",
   "metadata": {},
   "source": [
    "For this notebook, we will use data sampled from a known normal distribution. This allows us to compare our results with theoretical expectations."
   ]
  },
  {
   "cell_type": "markdown",
   "metadata": {},
   "source": [
    "## I An introduction to sampling from the Normal distribution"
   ]
  },
  {
   "cell_type": "markdown",
   "metadata": {},
   "source": [
    "First, let's explore the ways we can generate the Normal distribution. While there's a fair amount of interest in [sklearn](https://scikit-learn.org/stable/) within the machine learning community, you're likely to have heard of [scipy](https://docs.scipy.org/doc/scipy-0.15.1/reference/index.html) if you're coming from the sciences. For this assignment, you'll use [scipy.stats](https://docs.scipy.org/doc/scipy-0.15.1/reference/tutorial/stats.html) to complete your work."
   ]
  },
  {
   "cell_type": "code",
   "execution_count": 4,
   "metadata": {},
   "outputs": [],
   "source": [
    "from scipy.stats import norm\n",
    "from scipy.stats import t\n",
    "import numpy as np\n",
    "import pandas as pd\n",
    "from numpy.random import seed\n",
    "import matplotlib.pyplot as plt"
   ]
  },
  {
   "cell_type": "markdown",
   "metadata": {},
   "source": [
    "__Q:__ Call up the documentation for the `norm` function imported above. What is the second listed method?"
   ]
  },
  {
   "cell_type": "code",
   "execution_count": 5,
   "metadata": {},
   "outputs": [
    {
     "name": "stdout",
     "output_type": "stream",
     "text": [
      "Help on norm_gen in module scipy.stats._continuous_distns object:\n",
      "\n",
      "class norm_gen(scipy.stats._distn_infrastructure.rv_continuous)\n",
      " |  A normal continuous random variable.\n",
      " |  \n",
      " |  The location (``loc``) keyword specifies the mean.\n",
      " |  The scale (``scale``) keyword specifies the standard deviation.\n",
      " |  \n",
      " |  %(before_notes)s\n",
      " |  \n",
      " |  Notes\n",
      " |  -----\n",
      " |  The probability density function for `norm` is:\n",
      " |  \n",
      " |  .. math::\n",
      " |  \n",
      " |      f(x) = \\frac{\\exp(-x^2/2)}{\\sqrt{2\\pi}}\n",
      " |  \n",
      " |  for a real number :math:`x`.\n",
      " |  \n",
      " |  %(after_notes)s\n",
      " |  \n",
      " |  %(example)s\n",
      " |  \n",
      " |  Method resolution order:\n",
      " |      norm_gen\n",
      " |      scipy.stats._distn_infrastructure.rv_continuous\n",
      " |      scipy.stats._distn_infrastructure.rv_generic\n",
      " |      builtins.object\n",
      " |  \n",
      " |  Methods defined here:\n",
      " |  \n",
      " |  fit(self, data, **kwds)\n",
      " |      Return MLEs for shape (if applicable), location, and scale\n",
      " |      parameters from data.\n",
      " |      \n",
      " |      MLE stands for Maximum Likelihood Estimate.  Starting estimates for\n",
      " |      the fit are given by input arguments; for any arguments not provided\n",
      " |      with starting estimates, ``self._fitstart(data)`` is called to generate\n",
      " |      such.\n",
      " |      \n",
      " |      One can hold some parameters fixed to specific values by passing in\n",
      " |      keyword arguments ``f0``, ``f1``, ..., ``fn`` (for shape parameters)\n",
      " |      and ``floc`` and ``fscale`` (for location and scale parameters,\n",
      " |      respectively).\n",
      " |      \n",
      " |      Parameters\n",
      " |      ----------\n",
      " |      data : array_like\n",
      " |          Data to use in calculating the MLEs.\n",
      " |      args : floats, optional\n",
      " |          Starting value(s) for any shape-characterizing arguments (those not\n",
      " |          provided will be determined by a call to ``_fitstart(data)``).\n",
      " |          No default value.\n",
      " |      kwds : floats, optional\n",
      " |          Starting values for the location and scale parameters; no default.\n",
      " |          Special keyword arguments are recognized as holding certain\n",
      " |          parameters fixed:\n",
      " |      \n",
      " |          - f0...fn : hold respective shape parameters fixed.\n",
      " |            Alternatively, shape parameters to fix can be specified by name.\n",
      " |            For example, if ``self.shapes == \"a, b\"``, ``fa``and ``fix_a``\n",
      " |            are equivalent to ``f0``, and ``fb`` and ``fix_b`` are\n",
      " |            equivalent to ``f1``.\n",
      " |      \n",
      " |          - floc : hold location parameter fixed to specified value.\n",
      " |      \n",
      " |          - fscale : hold scale parameter fixed to specified value.\n",
      " |      \n",
      " |          - optimizer : The optimizer to use.  The optimizer must take ``func``,\n",
      " |            and starting position as the first two arguments,\n",
      " |            plus ``args`` (for extra arguments to pass to the\n",
      " |            function to be optimized) and ``disp=0`` to suppress\n",
      " |            output as keyword arguments.\n",
      " |      \n",
      " |      Returns\n",
      " |      -------\n",
      " |      mle_tuple : tuple of floats\n",
      " |          MLEs for any shape parameters (if applicable), followed by those\n",
      " |          for location and scale. For most random variables, shape statistics\n",
      " |          will be returned, but there are exceptions (e.g. ``norm``).\n",
      " |      \n",
      " |      Notes\n",
      " |      -----\n",
      " |      This function uses explicit formulas for the maximum likelihood\n",
      " |      estimation of the normal distribution parameters, so the\n",
      " |      `optimizer` argument is ignored.\n",
      " |      \n",
      " |      Examples\n",
      " |      --------\n",
      " |      \n",
      " |      Generate some data to fit: draw random variates from the `beta`\n",
      " |      distribution\n",
      " |      \n",
      " |      >>> from scipy.stats import beta\n",
      " |      >>> a, b = 1., 2.\n",
      " |      >>> x = beta.rvs(a, b, size=1000)\n",
      " |      \n",
      " |      Now we can fit all four parameters (``a``, ``b``, ``loc`` and ``scale``):\n",
      " |      \n",
      " |      >>> a1, b1, loc1, scale1 = beta.fit(x)\n",
      " |      \n",
      " |      We can also use some prior knowledge about the dataset: let's keep\n",
      " |      ``loc`` and ``scale`` fixed:\n",
      " |      \n",
      " |      >>> a1, b1, loc1, scale1 = beta.fit(x, floc=0, fscale=1)\n",
      " |      >>> loc1, scale1\n",
      " |      (0, 1)\n",
      " |      \n",
      " |      We can also keep shape parameters fixed by using ``f``-keywords. To\n",
      " |      keep the zero-th shape parameter ``a`` equal 1, use ``f0=1`` or,\n",
      " |      equivalently, ``fa=1``:\n",
      " |      \n",
      " |      >>> a1, b1, loc1, scale1 = beta.fit(x, fa=1, floc=0, fscale=1)\n",
      " |      >>> a1\n",
      " |      1\n",
      " |      \n",
      " |      Not all distributions return estimates for the shape parameters.\n",
      " |      ``norm`` for example just returns estimates for location and scale:\n",
      " |      \n",
      " |      >>> from scipy.stats import norm\n",
      " |      >>> x = norm.rvs(a, b, size=1000, random_state=123)\n",
      " |      >>> loc1, scale1 = norm.fit(x)\n",
      " |      >>> loc1, scale1\n",
      " |      (0.92087172783841631, 2.0015750750324668)\n",
      " |  \n",
      " |  ----------------------------------------------------------------------\n",
      " |  Methods inherited from scipy.stats._distn_infrastructure.rv_continuous:\n",
      " |  \n",
      " |  __init__(self, momtype=1, a=None, b=None, xtol=1e-14, badvalue=None, name=None, longname=None, shapes=None, extradoc=None, seed=None)\n",
      " |      Initialize self.  See help(type(self)) for accurate signature.\n",
      " |  \n",
      " |  cdf(self, x, *args, **kwds)\n",
      " |      Cumulative distribution function of the given RV.\n",
      " |      \n",
      " |      Parameters\n",
      " |      ----------\n",
      " |      x : array_like\n",
      " |          quantiles\n",
      " |      arg1, arg2, arg3,... : array_like\n",
      " |          The shape parameter(s) for the distribution (see docstring of the\n",
      " |          instance object for more information)\n",
      " |      loc : array_like, optional\n",
      " |          location parameter (default=0)\n",
      " |      scale : array_like, optional\n",
      " |          scale parameter (default=1)\n",
      " |      \n",
      " |      Returns\n",
      " |      -------\n",
      " |      cdf : ndarray\n",
      " |          Cumulative distribution function evaluated at `x`\n",
      " |  \n",
      " |  expect(self, func=None, args=(), loc=0, scale=1, lb=None, ub=None, conditional=False, **kwds)\n",
      " |      Calculate expected value of a function with respect to the\n",
      " |      distribution by numerical integration.\n",
      " |      \n",
      " |      The expected value of a function ``f(x)`` with respect to a\n",
      " |      distribution ``dist`` is defined as::\n",
      " |      \n",
      " |                  ub\n",
      " |          E[f(x)] = Integral(f(x) * dist.pdf(x)),\n",
      " |                  lb\n",
      " |      \n",
      " |      where ``ub`` and ``lb`` are arguments and ``x`` has the ``dist.pdf(x)``\n",
      " |      distribution. If the bounds ``lb`` and ``ub`` correspond to the\n",
      " |      support of the distribution, e.g. ``[-inf, inf]`` in the default\n",
      " |      case, then the integral is the unrestricted expectation of ``f(x)``.\n",
      " |      Also, the function ``f(x)`` may be defined such that ``f(x)`` is ``0``\n",
      " |      outside a finite interval in which case the expectation is\n",
      " |      calculated within the finite range ``[lb, ub]``.\n",
      " |      \n",
      " |      Parameters\n",
      " |      ----------\n",
      " |      func : callable, optional\n",
      " |          Function for which integral is calculated. Takes only one argument.\n",
      " |          The default is the identity mapping f(x) = x.\n",
      " |      args : tuple, optional\n",
      " |          Shape parameters of the distribution.\n",
      " |      loc : float, optional\n",
      " |          Location parameter (default=0).\n",
      " |      scale : float, optional\n",
      " |          Scale parameter (default=1).\n",
      " |      lb, ub : scalar, optional\n",
      " |          Lower and upper bound for integration. Default is set to the\n",
      " |          support of the distribution.\n",
      " |      conditional : bool, optional\n",
      " |          If True, the integral is corrected by the conditional probability\n",
      " |          of the integration interval.  The return value is the expectation\n",
      " |          of the function, conditional on being in the given interval.\n",
      " |          Default is False.\n",
      " |      \n",
      " |      Additional keyword arguments are passed to the integration routine.\n",
      " |      \n",
      " |      Returns\n",
      " |      -------\n",
      " |      expect : float\n",
      " |          The calculated expected value.\n",
      " |      \n",
      " |      Notes\n",
      " |      -----\n",
      " |      The integration behavior of this function is inherited from\n",
      " |      `scipy.integrate.quad`. Neither this function nor\n",
      " |      `scipy.integrate.quad` can verify whether the integral exists or is\n",
      " |      finite. For example ``cauchy(0).mean()`` returns ``np.nan`` and\n",
      " |      ``cauchy(0).expect()`` returns ``0.0``.\n",
      " |      \n",
      " |      Examples\n",
      " |      --------\n",
      " |      \n",
      " |      To understand the effect of the bounds of integration consider\n",
      " |      >>> from scipy.stats import expon\n",
      " |      >>> expon(1).expect(lambda x: 1, lb=0.0, ub=2.0)\n",
      " |      0.6321205588285578\n",
      " |      \n",
      " |      This is close to\n",
      " |      \n",
      " |      >>> expon(1).cdf(2.0) - expon(1).cdf(0.0)\n",
      " |      0.6321205588285577\n",
      " |      \n",
      " |      If ``conditional=True``\n",
      " |      \n",
      " |      >>> expon(1).expect(lambda x: 1, lb=0.0, ub=2.0, conditional=True)\n",
      " |      1.0000000000000002\n",
      " |      \n",
      " |      The slight deviation from 1 is due to numerical integration.\n",
      " |  \n",
      " |  fit_loc_scale(self, data, *args)\n",
      " |      Estimate loc and scale parameters from data using 1st and 2nd moments.\n",
      " |      \n",
      " |      Parameters\n",
      " |      ----------\n",
      " |      data : array_like\n",
      " |          Data to fit.\n",
      " |      arg1, arg2, arg3,... : array_like\n",
      " |          The shape parameter(s) for the distribution (see docstring of the\n",
      " |          instance object for more information).\n",
      " |      \n",
      " |      Returns\n",
      " |      -------\n",
      " |      Lhat : float\n",
      " |          Estimated location parameter for the data.\n",
      " |      Shat : float\n",
      " |          Estimated scale parameter for the data.\n",
      " |  \n",
      " |  isf(self, q, *args, **kwds)\n",
      " |      Inverse survival function (inverse of `sf`) at q of the given RV.\n",
      " |      \n",
      " |      Parameters\n",
      " |      ----------\n",
      " |      q : array_like\n",
      " |          upper tail probability\n",
      " |      arg1, arg2, arg3,... : array_like\n",
      " |          The shape parameter(s) for the distribution (see docstring of the\n",
      " |          instance object for more information)\n",
      " |      loc : array_like, optional\n",
      " |          location parameter (default=0)\n",
      " |      scale : array_like, optional\n",
      " |          scale parameter (default=1)\n",
      " |      \n",
      " |      Returns\n",
      " |      -------\n",
      " |      x : ndarray or scalar\n",
      " |          Quantile corresponding to the upper tail probability q.\n",
      " |  \n",
      " |  logcdf(self, x, *args, **kwds)\n",
      " |      Log of the cumulative distribution function at x of the given RV.\n",
      " |      \n",
      " |      Parameters\n",
      " |      ----------\n",
      " |      x : array_like\n",
      " |          quantiles\n",
      " |      arg1, arg2, arg3,... : array_like\n",
      " |          The shape parameter(s) for the distribution (see docstring of the\n",
      " |          instance object for more information)\n",
      " |      loc : array_like, optional\n",
      " |          location parameter (default=0)\n",
      " |      scale : array_like, optional\n",
      " |          scale parameter (default=1)\n",
      " |      \n",
      " |      Returns\n",
      " |      -------\n",
      " |      logcdf : array_like\n",
      " |          Log of the cumulative distribution function evaluated at x\n",
      " |  \n",
      " |  logpdf(self, x, *args, **kwds)\n",
      " |      Log of the probability density function at x of the given RV.\n",
      " |      \n",
      " |      This uses a more numerically accurate calculation if available.\n",
      " |      \n",
      " |      Parameters\n",
      " |      ----------\n",
      " |      x : array_like\n",
      " |          quantiles\n",
      " |      arg1, arg2, arg3,... : array_like\n",
      " |          The shape parameter(s) for the distribution (see docstring of the\n",
      " |          instance object for more information)\n",
      " |      loc : array_like, optional\n",
      " |          location parameter (default=0)\n",
      " |      scale : array_like, optional\n",
      " |          scale parameter (default=1)\n",
      " |      \n",
      " |      Returns\n",
      " |      -------\n",
      " |      logpdf : array_like\n",
      " |          Log of the probability density function evaluated at x\n",
      " |  \n",
      " |  logsf(self, x, *args, **kwds)\n",
      " |      Log of the survival function of the given RV.\n",
      " |      \n",
      " |      Returns the log of the \"survival function,\" defined as (1 - `cdf`),\n",
      " |      evaluated at `x`.\n",
      " |      \n",
      " |      Parameters\n",
      " |      ----------\n",
      " |      x : array_like\n",
      " |          quantiles\n",
      " |      arg1, arg2, arg3,... : array_like\n",
      " |          The shape parameter(s) for the distribution (see docstring of the\n",
      " |          instance object for more information)\n",
      " |      loc : array_like, optional\n",
      " |          location parameter (default=0)\n",
      " |      scale : array_like, optional\n",
      " |          scale parameter (default=1)\n",
      " |      \n",
      " |      Returns\n",
      " |      -------\n",
      " |      logsf : ndarray\n",
      " |          Log of the survival function evaluated at `x`.\n",
      " |  \n",
      " |  nnlf(self, theta, x)\n",
      " |      Return negative loglikelihood function.\n",
      " |      \n",
      " |      Notes\n",
      " |      -----\n",
      " |      This is ``-sum(log pdf(x, theta), axis=0)`` where `theta` are the\n",
      " |      parameters (including loc and scale).\n",
      " |  \n",
      " |  pdf(self, x, *args, **kwds)\n",
      " |      Probability density function at x of the given RV.\n",
      " |      \n",
      " |      Parameters\n",
      " |      ----------\n",
      " |      x : array_like\n",
      " |          quantiles\n",
      " |      arg1, arg2, arg3,... : array_like\n",
      " |          The shape parameter(s) for the distribution (see docstring of the\n",
      " |          instance object for more information)\n",
      " |      loc : array_like, optional\n",
      " |          location parameter (default=0)\n",
      " |      scale : array_like, optional\n",
      " |          scale parameter (default=1)\n",
      " |      \n",
      " |      Returns\n",
      " |      -------\n",
      " |      pdf : ndarray\n",
      " |          Probability density function evaluated at x\n",
      " |  \n",
      " |  ppf(self, q, *args, **kwds)\n",
      " |      Percent point function (inverse of `cdf`) at q of the given RV.\n",
      " |      \n",
      " |      Parameters\n",
      " |      ----------\n",
      " |      q : array_like\n",
      " |          lower tail probability\n",
      " |      arg1, arg2, arg3,... : array_like\n",
      " |          The shape parameter(s) for the distribution (see docstring of the\n",
      " |          instance object for more information)\n",
      " |      loc : array_like, optional\n",
      " |          location parameter (default=0)\n",
      " |      scale : array_like, optional\n",
      " |          scale parameter (default=1)\n",
      " |      \n",
      " |      Returns\n",
      " |      -------\n",
      " |      x : array_like\n",
      " |          quantile corresponding to the lower tail probability q.\n",
      " |  \n",
      " |  sf(self, x, *args, **kwds)\n",
      " |      Survival function (1 - `cdf`) at x of the given RV.\n",
      " |      \n",
      " |      Parameters\n",
      " |      ----------\n",
      " |      x : array_like\n",
      " |          quantiles\n",
      " |      arg1, arg2, arg3,... : array_like\n",
      " |          The shape parameter(s) for the distribution (see docstring of the\n",
      " |          instance object for more information)\n",
      " |      loc : array_like, optional\n",
      " |          location parameter (default=0)\n",
      " |      scale : array_like, optional\n",
      " |          scale parameter (default=1)\n",
      " |      \n",
      " |      Returns\n",
      " |      -------\n",
      " |      sf : array_like\n",
      " |          Survival function evaluated at x\n",
      " |  \n",
      " |  ----------------------------------------------------------------------\n",
      " |  Methods inherited from scipy.stats._distn_infrastructure.rv_generic:\n",
      " |  \n",
      " |  __call__(self, *args, **kwds)\n",
      " |      Freeze the distribution for the given arguments.\n",
      " |      \n",
      " |      Parameters\n",
      " |      ----------\n",
      " |      arg1, arg2, arg3,... : array_like\n",
      " |          The shape parameter(s) for the distribution.  Should include all\n",
      " |          the non-optional arguments, may include ``loc`` and ``scale``.\n",
      " |      \n",
      " |      Returns\n",
      " |      -------\n",
      " |      rv_frozen : rv_frozen instance\n",
      " |          The frozen distribution.\n",
      " |  \n",
      " |  __getstate__(self)\n",
      " |  \n",
      " |  __setstate__(self, state)\n",
      " |  \n",
      " |  entropy(self, *args, **kwds)\n",
      " |      Differential entropy of the RV.\n",
      " |      \n",
      " |      Parameters\n",
      " |      ----------\n",
      " |      arg1, arg2, arg3,... : array_like\n",
      " |          The shape parameter(s) for the distribution (see docstring of the\n",
      " |          instance object for more information).\n",
      " |      loc : array_like, optional\n",
      " |          Location parameter (default=0).\n",
      " |      scale : array_like, optional  (continuous distributions only).\n",
      " |          Scale parameter (default=1).\n",
      " |      \n",
      " |      Notes\n",
      " |      -----\n",
      " |      Entropy is defined base `e`:\n",
      " |      \n",
      " |      >>> drv = rv_discrete(values=((0, 1), (0.5, 0.5)))\n",
      " |      >>> np.allclose(drv.entropy(), np.log(2.0))\n",
      " |      True\n",
      " |  \n",
      " |  freeze(self, *args, **kwds)\n",
      " |      Freeze the distribution for the given arguments.\n",
      " |      \n",
      " |      Parameters\n",
      " |      ----------\n",
      " |      arg1, arg2, arg3,... : array_like\n",
      " |          The shape parameter(s) for the distribution.  Should include all\n",
      " |          the non-optional arguments, may include ``loc`` and ``scale``.\n",
      " |      \n",
      " |      Returns\n",
      " |      -------\n",
      " |      rv_frozen : rv_frozen instance\n",
      " |          The frozen distribution.\n",
      " |  \n",
      " |  interval(self, alpha, *args, **kwds)\n",
      " |      Confidence interval with equal areas around the median.\n",
      " |      \n",
      " |      Parameters\n",
      " |      ----------\n",
      " |      alpha : array_like of float\n",
      " |          Probability that an rv will be drawn from the returned range.\n",
      " |          Each value should be in the range [0, 1].\n",
      " |      arg1, arg2, ... : array_like\n",
      " |          The shape parameter(s) for the distribution (see docstring of the\n",
      " |          instance object for more information).\n",
      " |      loc : array_like, optional\n",
      " |          location parameter, Default is 0.\n",
      " |      scale : array_like, optional\n",
      " |          scale parameter, Default is 1.\n",
      " |      \n",
      " |      Returns\n",
      " |      -------\n",
      " |      a, b : ndarray of float\n",
      " |          end-points of range that contain ``100 * alpha %`` of the rv's\n",
      " |          possible values.\n",
      " |  \n",
      " |  mean(self, *args, **kwds)\n",
      " |      Mean of the distribution.\n",
      " |      \n",
      " |      Parameters\n",
      " |      ----------\n",
      " |      arg1, arg2, arg3,... : array_like\n",
      " |          The shape parameter(s) for the distribution (see docstring of the\n",
      " |          instance object for more information)\n",
      " |      loc : array_like, optional\n",
      " |          location parameter (default=0)\n",
      " |      scale : array_like, optional\n",
      " |          scale parameter (default=1)\n",
      " |      \n",
      " |      Returns\n",
      " |      -------\n",
      " |      mean : float\n",
      " |          the mean of the distribution\n",
      " |  \n",
      " |  median(self, *args, **kwds)\n",
      " |      Median of the distribution.\n",
      " |      \n",
      " |      Parameters\n",
      " |      ----------\n",
      " |      arg1, arg2, arg3,... : array_like\n",
      " |          The shape parameter(s) for the distribution (see docstring of the\n",
      " |          instance object for more information)\n",
      " |      loc : array_like, optional\n",
      " |          Location parameter, Default is 0.\n",
      " |      scale : array_like, optional\n",
      " |          Scale parameter, Default is 1.\n",
      " |      \n",
      " |      Returns\n",
      " |      -------\n",
      " |      median : float\n",
      " |          The median of the distribution.\n",
      " |      \n",
      " |      See Also\n",
      " |      --------\n",
      " |      rv_discrete.ppf\n",
      " |          Inverse of the CDF\n",
      " |  \n",
      " |  moment(self, n, *args, **kwds)\n",
      " |      n-th order non-central moment of distribution.\n",
      " |      \n",
      " |      Parameters\n",
      " |      ----------\n",
      " |      n : int, n >= 1\n",
      " |          Order of moment.\n",
      " |      arg1, arg2, arg3,... : float\n",
      " |          The shape parameter(s) for the distribution (see docstring of the\n",
      " |          instance object for more information).\n",
      " |      loc : array_like, optional\n",
      " |          location parameter (default=0)\n",
      " |      scale : array_like, optional\n",
      " |          scale parameter (default=1)\n",
      " |  \n",
      " |  rvs(self, *args, **kwds)\n",
      " |      Random variates of given type.\n",
      " |      \n",
      " |      Parameters\n",
      " |      ----------\n",
      " |      arg1, arg2, arg3,... : array_like\n",
      " |          The shape parameter(s) for the distribution (see docstring of the\n",
      " |          instance object for more information).\n",
      " |      loc : array_like, optional\n",
      " |          Location parameter (default=0).\n",
      " |      scale : array_like, optional\n",
      " |          Scale parameter (default=1).\n",
      " |      size : int or tuple of ints, optional\n",
      " |          Defining number of random variates (default is 1).\n",
      " |      random_state : None or int or ``np.random.RandomState`` instance, optional\n",
      " |          If int or RandomState, use it for drawing the random variates.\n",
      " |          If None, rely on ``self.random_state``.\n",
      " |          Default is None.\n",
      " |      \n",
      " |      Returns\n",
      " |      -------\n",
      " |      rvs : ndarray or scalar\n",
      " |          Random variates of given `size`.\n",
      " |  \n",
      " |  stats(self, *args, **kwds)\n",
      " |      Some statistics of the given RV.\n",
      " |      \n",
      " |      Parameters\n",
      " |      ----------\n",
      " |      arg1, arg2, arg3,... : array_like\n",
      " |          The shape parameter(s) for the distribution (see docstring of the\n",
      " |          instance object for more information)\n",
      " |      loc : array_like, optional\n",
      " |          location parameter (default=0)\n",
      " |      scale : array_like, optional (continuous RVs only)\n",
      " |          scale parameter (default=1)\n",
      " |      moments : str, optional\n",
      " |          composed of letters ['mvsk'] defining which moments to compute:\n",
      " |          'm' = mean,\n",
      " |          'v' = variance,\n",
      " |          's' = (Fisher's) skew,\n",
      " |          'k' = (Fisher's) kurtosis.\n",
      " |          (default is 'mv')\n",
      " |      \n",
      " |      Returns\n",
      " |      -------\n",
      " |      stats : sequence\n",
      " |          of requested moments.\n",
      " |  \n",
      " |  std(self, *args, **kwds)\n",
      " |      Standard deviation of the distribution.\n",
      " |      \n",
      " |      Parameters\n",
      " |      ----------\n",
      " |      arg1, arg2, arg3,... : array_like\n",
      " |          The shape parameter(s) for the distribution (see docstring of the\n",
      " |          instance object for more information)\n",
      " |      loc : array_like, optional\n",
      " |          location parameter (default=0)\n",
      " |      scale : array_like, optional\n",
      " |          scale parameter (default=1)\n",
      " |      \n",
      " |      Returns\n",
      " |      -------\n",
      " |      std : float\n",
      " |          standard deviation of the distribution\n",
      " |  \n",
      " |  support(self, *args, **kwargs)\n",
      " |      Return the support of the distribution.\n",
      " |      \n",
      " |      Parameters\n",
      " |      ----------\n",
      " |      arg1, arg2, ... : array_like\n",
      " |          The shape parameter(s) for the distribution (see docstring of the\n",
      " |          instance object for more information).\n",
      " |      loc : array_like, optional\n",
      " |          location parameter, Default is 0.\n",
      " |      scale : array_like, optional\n",
      " |          scale parameter, Default is 1.\n",
      " |      Returns\n",
      " |      -------\n",
      " |      a, b : float\n",
      " |          end-points of the distribution's support.\n",
      " |  \n",
      " |  var(self, *args, **kwds)\n",
      " |      Variance of the distribution.\n",
      " |      \n",
      " |      Parameters\n",
      " |      ----------\n",
      " |      arg1, arg2, arg3,... : array_like\n",
      " |          The shape parameter(s) for the distribution (see docstring of the\n",
      " |          instance object for more information)\n",
      " |      loc : array_like, optional\n",
      " |          location parameter (default=0)\n",
      " |      scale : array_like, optional\n",
      " |          scale parameter (default=1)\n",
      " |      \n",
      " |      Returns\n",
      " |      -------\n",
      " |      var : float\n",
      " |          the variance of the distribution\n",
      " |  \n",
      " |  ----------------------------------------------------------------------\n",
      " |  Data descriptors inherited from scipy.stats._distn_infrastructure.rv_generic:\n",
      " |  \n",
      " |  __dict__\n",
      " |      dictionary for instance variables (if defined)\n",
      " |  \n",
      " |  __weakref__\n",
      " |      list of weak references to the object (if defined)\n",
      " |  \n",
      " |  random_state\n",
      " |      Get or set the RandomState object for generating random variates.\n",
      " |      \n",
      " |      This can be either None or an existing RandomState object.\n",
      " |      \n",
      " |      If None (or np.random), use the RandomState singleton used by np.random.\n",
      " |      If already a RandomState instance, use it.\n",
      " |      If an int, use a new RandomState instance seeded with seed.\n",
      "\n"
     ]
    }
   ],
   "source": [
    "help(norm)"
   ]
  },
  {
   "cell_type": "markdown",
   "metadata": {},
   "source": [
    "__A:__ '__init__ is the second method listed."
   ]
  },
  {
   "cell_type": "markdown",
   "metadata": {},
   "source": [
    "__Q:__ Use the method that generates random variates to draw five samples from the standard normal distribution."
   ]
  },
  {
   "cell_type": "markdown",
   "metadata": {},
   "source": [
    "__A:__"
   ]
  },
  {
   "cell_type": "code",
   "execution_count": 6,
   "metadata": {},
   "outputs": [
    {
     "name": "stdout",
     "output_type": "stream",
     "text": [
      "0.15199052423385995\n",
      "2.3059063579489805\n",
      "1.9242079662180336\n",
      "1.6404118012330948\n",
      "-0.054736982927415134\n"
     ]
    },
    {
     "data": {
      "text/plain": [
       "[None, None, None, None, None]"
      ]
     },
     "execution_count": 6,
     "metadata": {},
     "output_type": "execute_result"
    }
   ],
   "source": [
    "seed(47)\n",
    "# draw five samples here\n",
    "samples = []\n",
    "for i in range(5):\n",
    "    x = np.random.normal(loc=1)\n",
    "    samples.append(x)\n",
    "\n",
    "[print(x) for x in samples]"
   ]
  },
  {
   "cell_type": "markdown",
   "metadata": {},
   "source": [
    "__Q:__ What is the mean of this sample? Is it exactly equal to the value you expected? Hint: the sample was drawn from the standard normal distribution."
   ]
  },
  {
   "cell_type": "code",
   "execution_count": 7,
   "metadata": {},
   "outputs": [
    {
     "name": "stdout",
     "output_type": "stream",
     "text": [
      "The mean of this sample is: 1.194\n"
     ]
    }
   ],
   "source": [
    "# Calculate and print the mean here, hint: use np.mean()\n",
    "mean = np.mean(samples)\n",
    "print('The mean of this sample is: {:.3f}'.format(mean))"
   ]
  },
  {
   "cell_type": "markdown",
   "metadata": {},
   "source": [
    "__A:__ The value of the mean is 1.194, which is slightly higher than expected because the method called for loc (or mean) and we indicated it as 1. This is due to the relatively small sample size, probably with a larger sample the mean of that sample would more closely resemble 1."
   ]
  },
  {
   "cell_type": "markdown",
   "metadata": {},
   "source": [
    "__Q:__ What is the standard deviation of these numbers? Calculate this manually here as $\\sqrt{\\frac{\\sum_i(x_i - \\bar{x})^2}{n}}$. Hint: np.sqrt() and np.sum() will be useful here and remember that numpy supports [broadcasting](https://docs.scipy.org/doc/numpy/user/basics.broadcasting.html)."
   ]
  },
  {
   "cell_type": "code",
   "execution_count": 8,
   "metadata": {},
   "outputs": [
    {
     "name": "stdout",
     "output_type": "stream",
     "text": [
      "The standard deviation is: 0.9606\n"
     ]
    }
   ],
   "source": [
    "# A:\n",
    "n = len(samples)\n",
    "var = [(x - np.mean(samples)) ** 2 for x in samples]\n",
    "sum_var = np.sum(var) / n\n",
    "std_dev = np.sqrt(sum_var)\n",
    "\n",
    "print('The standard deviation is: {:.4f}'.format(std_dev))"
   ]
  },
  {
   "cell_type": "code",
   "execution_count": 9,
   "metadata": {},
   "outputs": [
    {
     "name": "stdout",
     "output_type": "stream",
     "text": [
      "The standard deviation is: 0.9606\n"
     ]
    }
   ],
   "source": [
    "## As a function to apply in future\n",
    "def standard_deviation(items):\n",
    "        var = [(x - np.mean(items)) ** 2 for x in items]\n",
    "        sum_var = np.sum(var) / len(items)\n",
    "        std_dev = np.sqrt(sum_var)\n",
    "        return(std_dev)\n",
    "\n",
    "print('The standard deviation is: {:.4f}'.format(standard_deviation(samples)))"
   ]
  },
  {
   "cell_type": "markdown",
   "metadata": {},
   "source": [
    "Here we have calculated the actual standard deviation of a small (size 5) data set. But in this case, this small data set is actually a sample from our larger (infinite) population. In this case, the population is infinite because we could keep drawing our normal random variates until our computers die. In general, the sample mean we calculate will not be equal to the population mean (as we saw above). A consequence of this is that the sum of squares of the deviations from the _population_ mean will be bigger than the sum of squares of the deviations from the _sample_ mean. In other words, the sum of squares of the deviations from the _sample_ mean is too small to give an unbiased estimate of the _population_ variance. An example of this effect is given [here](https://en.wikipedia.org/wiki/Bessel%27s_correction#Source_of_bias). Scaling our estimate of the variance by the factor $n/(n-1)$ gives an unbiased estimator of the population variance. This factor is known as [Bessel's correction](https://en.wikipedia.org/wiki/Bessel%27s_correction). The consequence of this is that the $n$ in the denominator is replaced by $n-1$.\n",
    "\n",
    "__Q:__ If all we had to go on was our five samples, what would be our best estimate of the population standard deviation? Use Bessel's correction ($n-1$ in the denominator), thus $\\sqrt{\\frac{\\sum_i(x_i - \\bar{x})^2}{n-1}}$."
   ]
  },
  {
   "cell_type": "markdown",
   "metadata": {},
   "source": [
    "__A:__"
   ]
  },
  {
   "cell_type": "code",
   "execution_count": 10,
   "metadata": {},
   "outputs": [
    {
     "name": "stdout",
     "output_type": "stream",
     "text": [
      "The standard deviation is: 1.0740\n"
     ]
    }
   ],
   "source": [
    "n = len(samples)\n",
    "var = [(x - np.mean(samples)) ** 2 for x in samples]\n",
    "sum_var = np.sum(var) / (n -1)\n",
    "corr_std_dev = np.sqrt(sum_var)\n",
    "\n",
    "print('The standard deviation is: {:.4f}'.format(corr_std_dev))"
   ]
  },
  {
   "cell_type": "code",
   "execution_count": 11,
   "metadata": {},
   "outputs": [
    {
     "name": "stdout",
     "output_type": "stream",
     "text": [
      "The standard deviation is: 1.0740\n"
     ]
    }
   ],
   "source": [
    "## As a function to apply in future\n",
    "def corr_standard_deviation(items):\n",
    "        var = [(x - np.mean(items)) ** 2 for x in items]\n",
    "        sum_var = np.sum(var) / (len(items) -1)\n",
    "        std_dev = np.sqrt(sum_var)\n",
    "        return(std_dev)\n",
    "\n",
    "print('The standard deviation is: {:.4f}'.format(corr_standard_deviation(samples)))"
   ]
  },
  {
   "cell_type": "markdown",
   "metadata": {},
   "source": [
    "__Q:__ Now use numpy's std function to calculate the standard deviation of our random samples. Which of the above standard deviations did it return?"
   ]
  },
  {
   "cell_type": "markdown",
   "metadata": {},
   "source": [
    "__A:__ Numpy std function returns the uncorrected standard deviations"
   ]
  },
  {
   "cell_type": "code",
   "execution_count": 12,
   "metadata": {},
   "outputs": [
    {
     "data": {
      "text/plain": [
       "0.9606195639478641"
      ]
     },
     "execution_count": 12,
     "metadata": {},
     "output_type": "execute_result"
    }
   ],
   "source": [
    "np.std(samples)"
   ]
  },
  {
   "cell_type": "markdown",
   "metadata": {},
   "source": [
    "__Q:__ Consult the documentation for np.std() to see how to apply the correction for estimating the population parameter and verify this produces the expected result."
   ]
  },
  {
   "cell_type": "markdown",
   "metadata": {},
   "source": [
    "__A:__"
   ]
  },
  {
   "cell_type": "code",
   "execution_count": 13,
   "metadata": {},
   "outputs": [
    {
     "data": {
      "text/plain": [
       "1.0740053227518152"
      ]
     },
     "execution_count": 13,
     "metadata": {},
     "output_type": "execute_result"
    }
   ],
   "source": [
    "np.std(samples, ddof=1)"
   ]
  },
  {
   "cell_type": "code",
   "execution_count": null,
   "metadata": {},
   "outputs": [],
   "source": []
  },
  {
   "cell_type": "markdown",
   "metadata": {},
   "source": [
    "### Summary of section"
   ]
  },
  {
   "cell_type": "markdown",
   "metadata": {},
   "source": [
    "In this section, you've been introduced to the scipy.stats package and used it to draw a small sample from the standard normal distribution. You've calculated the average (the mean) of this sample and seen that this is not exactly equal to the expected population parameter (which we know because we're generating the random variates from a specific, known distribution). You've been introduced to two ways of calculating the standard deviation; one uses $n$ in the denominator and the other uses $n-1$ (Bessel's correction). You've also seen which of these calculations np.std() performs by default and how to get it to generate the other."
   ]
  },
  {
   "cell_type": "markdown",
   "metadata": {},
   "source": [
    "You use $n$ as the denominator if you want to calculate the standard deviation of a sequence of numbers. You use $n-1$ if you are using this sequence of numbers to estimate the population parameter. This brings us to some terminology that can be a little confusing.\n",
    "\n",
    "The population parameter is traditionally written as $\\sigma$ and the sample statistic as $s$. Rather unhelpfully, $s$ is also called the sample standard deviation (using $n-1$) whereas the standard deviation of the sample uses $n$. That's right, we have the sample standard deviation and the standard deviation of the sample and they're not the same thing!\n",
    "\n",
    "The sample standard deviation\n",
    "\\begin{equation}\n",
    "s = \\sqrt{\\frac{\\sum_i(x_i - \\bar{x})^2}{n-1}} \\approx \\sigma,\n",
    "\\end{equation}\n",
    "is our best (unbiased) estimate of the population parameter ($\\sigma$).\n",
    "\n",
    "If your data set _is_ your entire population, you simply want to calculate the population parameter, $\\sigma$, via\n",
    "\\begin{equation}\n",
    "\\sigma = \\sqrt{\\frac{\\sum_i(x_i - \\bar{x})^2}{n}}\n",
    "\\end{equation}\n",
    "as you have complete, full knowledge of your population. In other words, your sample _is_ your population. It's worth noting at this point if your sample is your population then you know absolutely everything about your population, there are no probabilities really to calculate and no inference to be done.\n",
    "\n",
    "If, however, you have sampled _from_ your population, you only have partial knowledge of the state of your population and the standard deviation of your sample is not an unbiased estimate of the standard deviation of the population, in which case you seek to estimate that population parameter via the sample standard deviation, which uses the $n-1$ denominator."
   ]
  },
  {
   "cell_type": "markdown",
   "metadata": {},
   "source": [
    "You're now firmly in frequentist theory territory. Great work so far! Now let's dive deeper."
   ]
  },
  {
   "cell_type": "markdown",
   "metadata": {},
   "source": [
    "## II Sampling distributions"
   ]
  },
  {
   "cell_type": "markdown",
   "metadata": {},
   "source": [
    "So far we've been dealing with the concept of taking a sample from a population to infer the population parameters. One statistic we calculated for a sample was the mean. As our samples will be expected to vary from one draw to another, so will our sample statistics. If we were to perform repeat draws of size $n$ and calculate the mean of each, we would expect to obtain a distribution of values. This is the sampling distribution of the mean. The Central Limit Theorem (CLT) tells us that such a distribution will approach a normal distribution as $n$ increases. For the sampling distribution of the mean, the standard deviation of this distribution is given by\n",
    "\n",
    "\\begin{equation}\n",
    "\\sigma_{mean} = \\frac{\\sigma}{\\sqrt n}\n",
    "\\end{equation}\n",
    "\n",
    "where $\\sigma_{mean}$ is the standard deviation of the sampling distribution of the mean and $\\sigma$ is the standard deviation of the population (the population parameter)."
   ]
  },
  {
   "cell_type": "markdown",
   "metadata": {},
   "source": [
    "This is important because typically we are dealing with samples from populations and all we know about the population is what we see in the sample. From this sample, we want to make inferences about the population. We may do this, for example, by looking at the histogram of the values and by calculating the mean and standard deviation (as estimates of the population parameters), and so we are intrinsically interested in how these quantities vary across samples. In other words, now that we've taken one sample of size $n$ and made some claims about the general population, what if we were to take another sample of size $n$? Would we get the same result? Would we make the same claims about the general population? This brings us to a fundamental question: _when we make some inference about a population based on our sample, how confident can we be that we've got it 'right'?_"
   ]
  },
  {
   "cell_type": "markdown",
   "metadata": {},
   "source": [
    "Let's give our normal distribution a little flavor. Also, for didactic purposes, the standard normal distribution, with its variance equal to its standard deviation of one, would not be a great illustration of a key point. Let us imagine we live in a town of 50000 people and we know the height of everyone in this town. We will have 50000 numbers that tell us everything about our population. We'll simulate these numbers now and put ourselves in one particular town, called 'town 47', where the population mean height is 172 cm and population standard deviation is 5 cm."
   ]
  },
  {
   "cell_type": "code",
   "execution_count": 14,
   "metadata": {},
   "outputs": [],
   "source": [
    "seed(47)\n",
    "pop_heights = norm.rvs(172, 5, size=50000)"
   ]
  },
  {
   "cell_type": "code",
   "execution_count": 15,
   "metadata": {},
   "outputs": [
    {
     "data": {
      "image/png": "[encoded data removed]",
      "text/plain": [
       "<Figure size 432x288 with 1 Axes>"
      ]
     },
     "metadata": {
      "needs_background": "light"
     },
     "output_type": "display_data"
    }
   ],
   "source": [
    "_ = plt.hist(pop_heights, bins=30)\n",
    "_ = plt.xlabel('height (cm)')\n",
    "_ = plt.ylabel('number of people')\n",
    "_ = plt.title('Distribution of heights in entire town population')\n",
    "_ = plt.axvline(172, color='r')\n",
    "_ = plt.axvline(172+5, color='r', linestyle='--')\n",
    "_ = plt.axvline(172-5, color='r', linestyle='--')\n",
    "_ = plt.axvline(172+10, color='r', linestyle='-.')\n",
    "_ = plt.axvline(172-10, color='r', linestyle='-.')"
   ]
  },
  {
   "cell_type": "markdown",
   "metadata": {},
   "source": [
    "Now, 50000 people is rather a lot to chase after with a tape measure. If all you want to know is the average height of the townsfolk, then can you just go out and measure a sample to get a pretty good estimate of the average height?"
   ]
  },
  {
   "cell_type": "code",
   "execution_count": 16,
   "metadata": {},
   "outputs": [],
   "source": [
    "def townsfolk_sampler(n):\n",
    "    return np.random.choice(pop_heights, n)"
   ]
  },
  {
   "cell_type": "markdown",
   "metadata": {},
   "source": [
    "Let's say you go out one day and randomly sample 10 people to measure."
   ]
  },
  {
   "cell_type": "code",
   "execution_count": 17,
   "metadata": {},
   "outputs": [],
   "source": [
    "seed(47)\n",
    "daily_sample1 = townsfolk_sampler(10)"
   ]
  },
  {
   "cell_type": "code",
   "execution_count": 18,
   "metadata": {},
   "outputs": [
    {
     "data": {
      "image/png": "[encoded data removed]",
      "text/plain": [
       "<Figure size 432x288 with 1 Axes>"
      ]
     },
     "metadata": {
      "needs_background": "light"
     },
     "output_type": "display_data"
    }
   ],
   "source": [
    "_ = plt.hist(daily_sample1, bins=10)\n",
    "_ = plt.xlabel('height (cm)')\n",
    "_ = plt.ylabel('number of people')\n",
    "_ = plt.title('Distribution of heights in sample size 10')"
   ]
  },
  {
   "cell_type": "markdown",
   "metadata": {},
   "source": [
    "The sample distribution doesn't look much like what we know (but wouldn't know in real-life) the population distribution looks like. What do we get for the mean?"
   ]
  },
  {
   "cell_type": "code",
   "execution_count": 19,
   "metadata": {},
   "outputs": [
    {
     "data": {
      "text/plain": [
       "173.47911444163503"
      ]
     },
     "execution_count": 19,
     "metadata": {},
     "output_type": "execute_result"
    }
   ],
   "source": [
    "np.mean(daily_sample1)"
   ]
  },
  {
   "cell_type": "markdown",
   "metadata": {},
   "source": [
    "And if we went out and repeated this experiment?"
   ]
  },
  {
   "cell_type": "code",
   "execution_count": 20,
   "metadata": {},
   "outputs": [],
   "source": [
    "daily_sample2 = townsfolk_sampler(10)"
   ]
  },
  {
   "cell_type": "code",
   "execution_count": 21,
   "metadata": {},
   "outputs": [
    {
     "data": {
      "text/plain": [
       "173.7317666636263"
      ]
     },
     "execution_count": 21,
     "metadata": {},
     "output_type": "execute_result"
    }
   ],
   "source": [
    "np.mean(daily_sample2)"
   ]
  },
  {
   "cell_type": "markdown",
   "metadata": {},
   "source": [
    "__Q:__ Simulate performing this random trial every day for a year, calculating the mean of each daily sample of 10, and plot the resultant sampling distribution of the mean."
   ]
  },
  {
   "cell_type": "markdown",
   "metadata": {},
   "source": [
    "__A:__"
   ]
  },
  {
   "cell_type": "code",
   "execution_count": 22,
   "metadata": {},
   "outputs": [
    {
     "data": {
      "image/png": "[encoded data removed]",
      "text/plain": [
       "<Figure size 432x288 with 1 Axes>"
      ]
     },
     "metadata": {
      "needs_background": "light"
     },
     "output_type": "display_data"
    }
   ],
   "source": [
    "seed(47)\n",
    "# take your samples here\n",
    "\n",
    "records10 = []\n",
    "\n",
    "for i in range(365):\n",
    "    x = np.mean(townsfolk_sampler(10))\n",
    "    records10.append(x)\n",
    "    \n",
    "_ = plt.hist(records10)\n",
    "_ = plt.axvline(np.mean(records10), color='red', linestyle = '--')\n",
    "_ = plt.xlabel('Heights in cm')"
   ]
  },
  {
   "cell_type": "markdown",
   "metadata": {},
   "source": [
    "The above is the distribution of the means of samples of size 10 taken from our population. The Central Limit Theorem tells us the expected mean of this distribution will be equal to the population mean, and standard deviation will be $\\sigma / \\sqrt n$, which, in this case, should be approximately 1.58."
   ]
  },
  {
   "cell_type": "markdown",
   "metadata": {},
   "source": [
    "__Q:__ Verify the above results from the CLT."
   ]
  },
  {
   "cell_type": "markdown",
   "metadata": {},
   "source": [
    "__A:__"
   ]
  },
  {
   "cell_type": "code",
   "execution_count": 23,
   "metadata": {},
   "outputs": [
    {
     "name": "stdout",
     "output_type": "stream",
     "text": [
      "mean of samples: 172 | mean of population: 172\n"
     ]
    }
   ],
   "source": [
    "mean_records = np.mean(records10)\n",
    "mean_pop = 172\n",
    "print('mean of samples: {:.0f}'.format(mean_records),\n",
    "      '|', \n",
    "      'mean of population: ' + str(mean_pop))"
   ]
  },
  {
   "cell_type": "code",
   "execution_count": 24,
   "metadata": {},
   "outputs": [
    {
     "name": "stdout",
     "output_type": "stream",
     "text": [
      "std of samples: 1.5757 | CLT of population: 1.5811\n"
     ]
    }
   ],
   "source": [
    "sample_std = np.std(records10)\n",
    "CLT = 5 / np.sqrt(10)\n",
    "\n",
    "print('std of samples: {:.4f}'.format(sample_std),\n",
    "      '|', \n",
    "      'CLT of population: {:.4f}'.format(CLT))"
   ]
  },
  {
   "cell_type": "markdown",
   "metadata": {},
   "source": [
    "Remember, in this instance, we knew our population parameters, that the average height really is 172 cm and the standard deviation is 5 cm, and we see some of our daily estimates of the population mean were as low as around 168 and some as high as 176."
   ]
  },
  {
   "cell_type": "markdown",
   "metadata": {},
   "source": [
    "__Q:__ Repeat the above year's worth of samples but for a sample size of 50 (perhaps you had a bigger budget for conducting surveys that year!) Would you expect your distribution of sample means to be wider (more variable) or narrower (more consistent)? Compare your resultant summary statistics to those predicted by the CLT."
   ]
  },
  {
   "cell_type": "markdown",
   "metadata": {},
   "source": [
    "__A:__ We would expect the results to be narrower, as more samples bring more consistency."
   ]
  },
  {
   "cell_type": "code",
   "execution_count": 25,
   "metadata": {
    "scrolled": true
   },
   "outputs": [
    {
     "data": {
      "image/png": "[encoded data removed]",
      "text/plain": [
       "<Figure size 432x288 with 1 Axes>"
      ]
     },
     "metadata": {
      "needs_background": "light"
     },
     "output_type": "display_data"
    }
   ],
   "source": [
    "seed(47)\n",
    "# calculate daily means from the larger sample size here\n",
    "records50 = []\n",
    "\n",
    "for i in range(365):\n",
    "    x = np.mean(townsfolk_sampler(50))\n",
    "    records50.append(x)\n",
    "    \n",
    "_ = plt.hist(records50)\n",
    "_ = plt.axvline(np.mean(records50), color='red', linestyle = '--')\n",
    "_ = plt.xlabel('Heights in cm')"
   ]
  },
  {
   "cell_type": "code",
   "execution_count": 26,
   "metadata": {},
   "outputs": [
    {
     "name": "stdout",
     "output_type": "stream",
     "text": [
      "mean of samples: 172 | mean of population: 172\n"
     ]
    }
   ],
   "source": [
    "mean_records = np.mean(records50)\n",
    "mean_pop = 172\n",
    "print('mean of samples: {:.0f}'.format(mean_records),\n",
    "      '|', \n",
    "      'mean of population: ' + str(mean_pop))"
   ]
  },
  {
   "cell_type": "code",
   "execution_count": 27,
   "metadata": {},
   "outputs": [
    {
     "name": "stdout",
     "output_type": "stream",
     "text": [
      "std of samples: 0.6736 | CLT of population: 0.7071\n"
     ]
    }
   ],
   "source": [
    "sample_std = np.std(records50)\n",
    "CLT = 5 / np.sqrt(50)\n",
    "\n",
    "print('std of samples: {:.4f}'.format(sample_std),\n",
    "      '|', \n",
    "      'CLT of population: {:.4f}'.format(CLT))"
   ]
  },
  {
   "cell_type": "markdown",
   "metadata": {},
   "source": [
    "What we've seen so far, then, is that we can estimate population parameters from a sample from the population, and that samples have their own distributions. Furthermore, the larger the sample size, the narrower are those sampling distributions."
   ]
  },
  {
   "cell_type": "markdown",
   "metadata": {},
   "source": [
    "### III Normally testing times!"
   ]
  },
  {
   "cell_type": "markdown",
   "metadata": {},
   "source": [
    "All of the above is well and good. We've been sampling from a population we know is normally distributed, we've come to understand when to use $n$ and when to use $n-1$ in the denominator to calculate the spread of a distribution, and we've  seen the Central Limit Theorem in action for a sampling distribution. All seems very well behaved in Frequentist land. But, well, why should we really care?"
   ]
  },
  {
   "cell_type": "markdown",
   "metadata": {},
   "source": [
    "Remember, we rarely (if ever) actually know our population parameters but you still have to estimate them somehow. If we want to make inferences such as \"is this observation unusual?\" or \"has my population mean changed?\" then you need to have some idea of what the underlying distribution is so you can calculate relevant probabilities. In frequentist inference, you use the formulas above to deduce these population parameters. Take a moment in the next part of this assignment to refresh your understanding of how these probabilities work."
   ]
  },
  {
   "cell_type": "markdown",
   "metadata": {},
   "source": [
    "Recall some basic properties of the standard Normal distribution, such as about 68% of observations being within plus or minus 1 standard deviation of the mean.\n",
    "\n",
    "__Q:__ Using this fact, calculate the probability of observing the value 1 or less in a single observation from the standard normal distribution. Hint: you may find it helpful to sketch the standard normal distribution (the familiar bell shape) and mark the number of standard deviations from the mean on the x-axis and shade the regions of the curve that contain certain percentages of the population."
   ]
  },
  {
   "cell_type": "markdown",
   "metadata": {},
   "source": [
    "__A:__"
   ]
  },
  {
   "cell_type": "code",
   "execution_count": 145,
   "metadata": {},
   "outputs": [
    {
     "data": {
      "image/png": "[encoded data removed]",
      "text/plain": [
       "<Figure size 432x288 with 1 Axes>"
      ]
     },
     "metadata": {
      "needs_background": "light"
     },
     "output_type": "display_data"
    },
    {
     "name": "stdout",
     "output_type": "stream",
     "text": [
      "True     841\n",
      "False    159\n",
      "Name: 0, dtype: int64 84.0\n"
     ]
    }
   ],
   "source": [
    "sample = np.random.normal(size=1000)\n",
    "expected = 68 + (100-68)/2\n",
    "_ = plt.hist(sample, color='grey', bins=30)\n",
    "_ = plt.axvline(np.mean(sample), color='black', linestyle='-')\n",
    "_ = plt.axvline(np.mean(sample) - np.std(sample), color='red', linestyle='--')\n",
    "_ = plt.axvline(np.mean(sample) + np.std(sample), color='red', linestyle='--')\n",
    "_ = plt.axvline(np.mean(sample) - (2*np.std(sample)), color='red', linestyle='-.')\n",
    "_ = plt.axvline(np.mean(sample) + (2*np.std(sample)), color='red', linestyle='-.')\n",
    "_ = plt.hlines(y=0.5, xmin=min(sample), xmax=1, color='yellow', linestyle='-',\n",
    "               linewidth=2, label='Area of value 1 or less')\n",
    "\n",
    "plt.show()\n",
    "\n",
    "sample_std = np.std(sample)\n",
    "sample_under_1std = sample < (np.mean(sample) + sample_std)\n",
    "sample_under_1std = pd.DataFrame(sample_under_1std)\n",
    "print(sample_under_1std[0].value_counts(), expected)"
   ]
  },
  {
   "cell_type": "markdown",
   "metadata": {},
   "source": [
    "Calculating this probability involved calculating the area under the pdf from the value of 1 and below. To put it another way, we need to integrate the pdf. We could just add together the known areas of chunks (from -Inf to 0 and then 0 to $+\\sigma$ in the example above. One way to do this is using look up tables (literally). Fortunately, scipy has this functionality built in with the cdf() function."
   ]
  },
  {
   "cell_type": "markdown",
   "metadata": {},
   "source": [
    "__Q:__ Use the cdf() function to answer the question above again and verify you get the same answer."
   ]
  },
  {
   "cell_type": "markdown",
   "metadata": {},
   "source": [
    "__A:__ The count of values returned by the cdf() function is 851."
   ]
  },
  {
   "cell_type": "code",
   "execution_count": 144,
   "metadata": {},
   "outputs": [
    {
     "data": {
      "text/plain": [
       "True     851\n",
       "False    149\n",
       "Name: 0, dtype: int64"
      ]
     },
     "execution_count": 144,
     "metadata": {},
     "output_type": "execute_result"
    }
   ],
   "source": [
    "cdf = norm.cdf(sample)\n",
    "under_1std = pd.DataFrame(cdf)[0] < 0.84\n",
    "under_1std.value_counts()"
   ]
  },
  {
   "cell_type": "code",
   "execution_count": 143,
   "metadata": {},
   "outputs": [
    {
     "data": {
      "image/png": "[encoded data removed]",
      "text/plain": [
       "<Figure size 432x288 with 1 Axes>"
      ]
     },
     "metadata": {
      "needs_background": "light"
     },
     "output_type": "display_data"
    },
    {
     "data": {
      "text/plain": [
       "True     851\n",
       "False    149\n",
       "Name: 0, dtype: int64"
      ]
     },
     "execution_count": 143,
     "metadata": {},
     "output_type": "execute_result"
    }
   ],
   "source": [
    "import seaborn as sns\n",
    "\n",
    "sns.distplot(cdf,\n",
    "             hist_kws=dict(cumulative=True),\n",
    "             kde_kws=dict(cumulative=True))\n",
    "\n",
    "plt.show()"
   ]
  },
  {
   "cell_type": "markdown",
   "metadata": {},
   "source": [
    " __Q:__ Using our knowledge of the population parameters for our townsfolk's heights, what is the probability of selecting one person at random and their height being 177 cm or less? Calculate this using both of the approaches given above."
   ]
  },
  {
   "cell_type": "markdown",
   "metadata": {},
   "source": [
    "__A:__"
   ]
  },
  {
   "cell_type": "code",
   "execution_count": 238,
   "metadata": {},
   "outputs": [
    {
     "name": "stdout",
     "output_type": "stream",
     "text": [
      "There are 42188 sample values under 177cm\n"
     ]
    }
   ],
   "source": [
    "obs_height = 177\n",
    "avg_height = 172\n",
    "town_std = 5\n",
    "\n",
    "town_sample = np.random.normal(loc=avg_height, scale=town_std, size=50000)\n",
    "norm_town = pd.DataFrame(town_sample)\n",
    "below_obs = norm_town[0] < obs_height\n",
    "below177 = below_obs[below_obs]\n",
    "print('There are {}'.format(len(below177)) + ' sample values under 177cm')"
   ]
  },
  {
   "cell_type": "code",
   "execution_count": 224,
   "metadata": {},
   "outputs": [
    {
     "data": {
      "text/plain": [
       "<matplotlib.axes._subplots.AxesSubplot at 0x1a35939a58>"
      ]
     },
     "execution_count": 224,
     "metadata": {},
     "output_type": "execute_result"
    },
    {
     "data": {
      "image/png": "[encoded data removed]",
      "text/plain": [
       "<Figure size 432x288 with 1 Axes>"
      ]
     },
     "metadata": {
      "needs_background": "light"
     },
     "output_type": "display_data"
    }
   ],
   "source": [
    "sns.distplot(norm_town)"
   ]
  },
  {
   "cell_type": "markdown",
   "metadata": {},
   "source": [
    "By taking the number of returned normally distributed values under 177 and dividing by sample size (in this case the town population of 50000) we can see that there is an 84% probability that a person in the town selected at random will be 177 cm or less."
   ]
  },
  {
   "cell_type": "markdown",
   "metadata": {},
   "source": [
    "## Is this the right way to do this? Taking the zscores and then calculating cdf to create the graph?"
   ]
  },
  {
   "cell_type": "code",
   "execution_count": 253,
   "metadata": {},
   "outputs": [],
   "source": [
    "zscores =  [ (x - avg_height) / town_std for x in norm_town[0] ] \n",
    "cdf_town = [ norm.cdf(x) for x in zscores ]"
   ]
  },
  {
   "cell_type": "code",
   "execution_count": 254,
   "metadata": {},
   "outputs": [
    {
     "data": {
      "text/plain": [
       "[0.8308642485365855,\n",
       " 0.3565523182851119,\n",
       " 0.4628817615420937,\n",
       " 0.7862384567703646,\n",
       " 0.2647060902718194,\n",
       " 0.03257812693395463,\n",
       " 0.2799168419087241,\n",
       " 0.30099982367248235,\n",
       " 0.6275306507054133,\n",
       " 0.9546935598524419,\n",
       " 0.057393982984714834,\n",
       " 0.281301250751435,\n",
       " 0.4440014184750338,\n",
       " 0.24773264998562067,\n",
       " 0.7383699438240229,\n",
       " 0.9840280384314437,\n",
       " 0.9969940012739845,\n",
       " 0.5141936651126908,\n",
       " 0.29091827153863026,\n",
       " 0.37622592370524444,\n",
       " 0.18569260479825,\n",
       " 0.5862774880581343,\n",
       " 0.018611865031482648,\n",
       " 0.6930830041050396,\n",
       " 0.558061124968962,\n",
       " 0.11461625808819187,\n",
       " 0.895136119945608,\n",
       " 0.1533008077710441,\n",
       " 0.6044075754714541,\n",
       " 0.3120011231645531,\n",
       " 0.947519989540409,\n",
       " 0.7215533431802299,\n",
       " 0.8139126370525234,\n",
       " 0.7448216848415259,\n",
       " 0.7247559617803938,\n",
       " 0.18847303406519716,\n",
       " 0.6460025559698538,\n",
       " 0.5803996061742889,\n",
       " 0.0577688416861987,\n",
       " 0.30945988627988724,\n",
       " 0.921675000621117,\n",
       " 0.7969263422508035,\n",
       " 0.8737356891512145,\n",
       " 0.4452490485842797,\n",
       " 0.3557711596795091,\n",
       " 0.720579311513886,\n",
       " 0.00877912135105712,\n",
       " 0.07904784515121754,\n",
       " 0.7190500282022472,\n",
       " 0.203458628476118,\n",
       " 0.7732174393329889,\n",
       " 0.7216754062055685,\n",
       " 0.38942736833943326,\n",
       " 0.5692243310968573,\n",
       " 0.4535076134268692,\n",
       " 0.18808625834605436,\n",
       " 0.8987728232252556,\n",
       " 0.5829401039988049,\n",
       " 0.045104958191462,\n",
       " 0.25483883072914343,\n",
       " 0.30334715942495094,\n",
       " 0.7072959784490999,\n",
       " 0.2751373543385529,\n",
       " 0.7532977462773469,\n",
       " 0.958217498869222,\n",
       " 0.8074656623966996,\n",
       " 0.35646501577264345,\n",
       " 0.9200256446853012,\n",
       " 0.9144195235011209,\n",
       " 0.824681999492815,\n",
       " 0.6766265323630039,\n",
       " 0.9841131796068937,\n",
       " 0.11733551486094346,\n",
       " 0.13476106364149637,\n",
       " 0.5167501344216796,\n",
       " 0.26007989179475166,\n",
       " 0.33051490469718925,\n",
       " 0.043710421106736994,\n",
       " 0.9015450469744702,\n",
       " 0.0020518307873941153,\n",
       " 0.8062118910249316,\n",
       " 0.7333638935357318,\n",
       " 0.8099510094601328,\n",
       " 0.8653210470344388,\n",
       " 0.453421457673405,\n",
       " 0.5657695872950225,\n",
       " 0.6489347462763745,\n",
       " 0.921582292148297,\n",
       " 0.5204503697874341,\n",
       " 0.08746769616942457,\n",
       " 0.9893935437506743,\n",
       " 0.3479777527786749,\n",
       " 0.4546201871288999,\n",
       " 0.7230001199726448,\n",
       " 0.48437181575428423,\n",
       " 0.6911864355480499,\n",
       " 0.5845397416768754,\n",
       " 0.8838524416034321,\n",
       " 0.5565750808034899,\n",
       " 0.5463477217299955,\n",
       " 0.05624361915330242,\n",
       " 0.6052051393363481,\n",
       " 0.2318421819255111,\n",
       " 0.29823069956532794,\n",
       " 0.5655871466555525,\n",
       " 0.28954396494136914,\n",
       " 0.2133451667362936,\n",
       " 0.6091895325654144,\n",
       " 0.004881935810047606,\n",
       " 0.25085816225867763,\n",
       " 0.9625722261142156,\n",
       " 0.037826260777558164,\n",
       " 0.622338899530219,\n",
       " 0.03570629319532501,\n",
       " 0.6950500327706391,\n",
       " 0.2358282497285233,\n",
       " 0.6841717436494457,\n",
       " 0.08748089583019891,\n",
       " 0.6071836795034132,\n",
       " 0.37998482540119083,\n",
       " 0.9986009907305378,\n",
       " 0.28353381872895056,\n",
       " 0.33595551029794213,\n",
       " 0.33368573428837844,\n",
       " 0.5459746475969727,\n",
       " 0.20461256505228242,\n",
       " 0.16850730075813092,\n",
       " 0.16098994560630187,\n",
       " 0.5195470560339898,\n",
       " 0.20689104893892946,\n",
       " 0.05513514334490765,\n",
       " 0.9840949012432427,\n",
       " 0.7570268576054722,\n",
       " 0.7650186226704716,\n",
       " 0.9937115471200157,\n",
       " 0.655548666029452,\n",
       " 0.8555533824569432,\n",
       " 0.9737330479658254,\n",
       " 0.5826684213775181,\n",
       " 0.33759124061925916,\n",
       " 0.9242583313995733,\n",
       " 0.3288782209695299,\n",
       " 0.7182673660122826,\n",
       " 0.8806622871035465,\n",
       " 0.9605734334019038,\n",
       " 0.2934528320899019,\n",
       " 0.8934243887744271,\n",
       " 0.8282489392798703,\n",
       " 0.06641269275573201,\n",
       " 0.8250171262893513,\n",
       " 0.07150889561838962,\n",
       " 0.3814059539663468,\n",
       " 0.953178655164038,\n",
       " 0.019299730064324387,\n",
       " 0.21735286172461082,\n",
       " 0.36435660224179467,\n",
       " 0.9529391997931624,\n",
       " 0.8395918712314462,\n",
       " 0.9722931851531227,\n",
       " 0.8263859839184053,\n",
       " 0.6930501523084022,\n",
       " 0.9597859108514243,\n",
       " 0.6497456790976295,\n",
       " 0.619011920028793,\n",
       " 0.5494083879029527,\n",
       " 0.5694422033207024,\n",
       " 0.6794782098274602,\n",
       " 0.44805518122581806,\n",
       " 0.7819816702383386,\n",
       " 0.32606272579672213,\n",
       " 0.35895806165507593,\n",
       " 0.10784393373358186,\n",
       " 0.5171500454321774,\n",
       " 0.9288339821982063,\n",
       " 0.5600037841682154,\n",
       " 0.4612145137968361,\n",
       " 0.5550442367465165,\n",
       " 0.19212022009932367,\n",
       " 0.9553468407982137,\n",
       " 0.8640285348277319,\n",
       " 0.8864548303926774,\n",
       " 0.7304085361065664,\n",
       " 0.5202129746417614,\n",
       " 0.5754162821309841,\n",
       " 0.7979588949624168,\n",
       " 0.6715139712816204,\n",
       " 0.8477638150107427,\n",
       " 0.41241397479173986,\n",
       " 0.4036908841757748,\n",
       " 0.013543627585167577,\n",
       " 0.8956870551896239,\n",
       " 0.41449256310573773,\n",
       " 0.7319565275090422,\n",
       " 0.2082366734179361,\n",
       " 0.3064733415531778,\n",
       " 0.7212477297468562,\n",
       " 0.335063987511502,\n",
       " 0.5586494189198298,\n",
       " 0.21236255262730608,\n",
       " 0.9982092224762596,\n",
       " 0.2730182908768654,\n",
       " 0.898335878327352,\n",
       " 0.28028179110012785,\n",
       " 0.5294316207262886,\n",
       " 0.6621717931793707,\n",
       " 0.23211531260659213,\n",
       " 0.5089053451703609,\n",
       " 0.9999145288998831,\n",
       " 0.474082969682868,\n",
       " 0.8596280973173553,\n",
       " 0.10228576307121184,\n",
       " 0.4919280983992663,\n",
       " 0.40484971120873003,\n",
       " 0.2883474705736288,\n",
       " 0.8392011511201833,\n",
       " 0.032878627520721015,\n",
       " 0.5496776633859,\n",
       " 0.13267951508620457,\n",
       " 0.36770866212623077,\n",
       " 0.9176909072432842,\n",
       " 0.4977172321845769,\n",
       " 0.5037439333649126,\n",
       " 0.7012613854942964,\n",
       " 0.3578567681533188,\n",
       " 0.5708976289496085,\n",
       " 0.9137249941121874,\n",
       " 0.33807689547107844,\n",
       " 0.3597254465408553,\n",
       " 0.9359059969712435,\n",
       " 0.21162801867919306,\n",
       " 0.8085172241771281,\n",
       " 0.20758723937229268,\n",
       " 0.9855612487623473,\n",
       " 0.7345107959814243,\n",
       " 0.8324297262096245,\n",
       " 0.7717671115033988,\n",
       " 0.5193909571473914,\n",
       " 0.5470621691826396,\n",
       " 0.27193631870657786,\n",
       " 0.8303919042013433,\n",
       " 0.6552952645054237,\n",
       " 0.31695090766685696,\n",
       " 0.10713062734197448,\n",
       " 0.9154294542825226,\n",
       " 0.33413329022660343,\n",
       " 0.9461422095073186,\n",
       " 0.9522797041414067,\n",
       " 0.846018310609624,\n",
       " 0.3910967953766872,\n",
       " 0.4885609594763804,\n",
       " 0.6577592289860994,\n",
       " 0.0028942314967364334,\n",
       " 0.05004070401593904,\n",
       " 0.3969966241604949,\n",
       " 0.48489580505139585,\n",
       " 0.4292643890679153,\n",
       " 0.36138773685275727,\n",
       " 0.6148950134241911,\n",
       " 0.5350944367685264,\n",
       " 0.2916233160251989,\n",
       " 0.9543859585255562,\n",
       " 0.9287441978035379,\n",
       " 0.09021786369347412,\n",
       " 0.09829901159733234,\n",
       " 0.1741752422770403,\n",
       " 0.8433476747914028,\n",
       " 0.40799559058819607,\n",
       " 0.22423201834504686,\n",
       " 0.23412460234226956,\n",
       " 0.041959087521632535,\n",
       " 0.2683868813178561,\n",
       " 0.6678851977491349,\n",
       " 0.5266866932465639,\n",
       " 0.3674569267876141,\n",
       " 0.6155231769466971,\n",
       " 0.38337495823960555,\n",
       " 0.8138595701484597,\n",
       " 0.9519862694382889,\n",
       " 0.9560331684911333,\n",
       " 0.27352335495889823,\n",
       " 0.5402128102204447,\n",
       " 0.5904449190187645,\n",
       " 0.5470488425290553,\n",
       " 0.4559418309029086,\n",
       " 0.3288036410076135,\n",
       " 0.3676034479179216,\n",
       " 0.16923885997821947,\n",
       " 0.1863301091137795,\n",
       " 0.9155385852203476,\n",
       " 0.9900593799669701,\n",
       " 0.004340790118919761,\n",
       " 0.2097036759438367,\n",
       " 0.23530898758933605,\n",
       " 0.44458769939169707,\n",
       " 0.49776221305492063,\n",
       " 0.026653882329455,\n",
       " 0.2020570987555771,\n",
       " 0.3732575675050025,\n",
       " 0.09850688616478925,\n",
       " 0.7355479409055146,\n",
       " 0.5267891638797482,\n",
       " 0.8116148611025715,\n",
       " 0.13797567634295865,\n",
       " 0.6780660721343581,\n",
       " 0.22606196886900165,\n",
       " 0.6913517658480035,\n",
       " 0.9949558834961698,\n",
       " 0.7605869406790151,\n",
       " 0.3119519921560721,\n",
       " 0.25143717019202516,\n",
       " 0.9893628897513362,\n",
       " 0.5460663818991661,\n",
       " 0.18426315619766193,\n",
       " 0.1201063563022689,\n",
       " 0.35744797508826004,\n",
       " 0.006986933665938254,\n",
       " 0.43901276253410815,\n",
       " 0.20204244069526633,\n",
       " 0.004573743833023518,\n",
       " 0.05284210927997586,\n",
       " 0.02569303644720257,\n",
       " 0.9793538705520822,\n",
       " 0.0533541782399227,\n",
       " 0.4754922319392645,\n",
       " 0.8153954456546442,\n",
       " 0.6871312339274261,\n",
       " 0.7993645581943971,\n",
       " 0.7317544553267706,\n",
       " 0.29654117073701836,\n",
       " 0.5992137643412261,\n",
       " 0.4997492678323337,\n",
       " 0.8673692469747012,\n",
       " 0.8522209047897593,\n",
       " 0.4297682584822775,\n",
       " 0.46809559951441243,\n",
       " 0.3294316450816447,\n",
       " 0.5339944569206762,\n",
       " 0.2114807952428664,\n",
       " 0.4049034112602533,\n",
       " 0.6615458404457554,\n",
       " 0.24135913145018045,\n",
       " 0.24407576790941254,\n",
       " 0.19052348409027153,\n",
       " 0.26857868065079,\n",
       " 0.07847032634777173,\n",
       " 0.7719480429560421,\n",
       " 0.3951114834985734,\n",
       " 0.2690463875103567,\n",
       " 0.4895484857088216,\n",
       " 0.6732052923840803,\n",
       " 0.7673603949599042,\n",
       " 0.6145869482761361,\n",
       " 0.1573663387634821,\n",
       " 0.5637399979026294,\n",
       " 0.5566519148495694,\n",
       " 0.0009318483119821439,\n",
       " 0.5828706369570932,\n",
       " 0.1863805873390763,\n",
       " 0.6778900424074271,\n",
       " 0.7964931785890829,\n",
       " 0.5654680531387637,\n",
       " 0.9874060642196109,\n",
       " 0.7010896575871886,\n",
       " 0.05650628630507277,\n",
       " 0.05251852205142983,\n",
       " 0.2253226542258222,\n",
       " 0.8008835207568121,\n",
       " 0.9274133670116985,\n",
       " 0.22208612811509842,\n",
       " 0.7491198998093282,\n",
       " 0.7944759058325173,\n",
       " 0.2680719316695748,\n",
       " 0.47918533819018233,\n",
       " 0.5241841344545541,\n",
       " 0.007217744377394815,\n",
       " 0.7128314169195655,\n",
       " 0.9165019369308877,\n",
       " 0.48908922504893293,\n",
       " 0.17735743495028833,\n",
       " 0.5978819659976463,\n",
       " 0.5860490607718272,\n",
       " 0.06880447625791813,\n",
       " 0.8092227353435066,\n",
       " 0.7602984392944003,\n",
       " 0.22187995580688158,\n",
       " 0.24240810877658042,\n",
       " 0.7456611240858161,\n",
       " 0.0634628661955755,\n",
       " 0.8783499980372609,\n",
       " 0.5411662948892674,\n",
       " 0.727931124230996,\n",
       " 0.3981005640891058,\n",
       " 0.834475889070085,\n",
       " 0.3495342003285893,\n",
       " 0.0046354767451398955,\n",
       " 0.9838348325781449,\n",
       " 0.3360359458934141,\n",
       " 0.2634614761302282,\n",
       " 0.7594177999947964,\n",
       " 0.16573932617132392,\n",
       " 0.678338554501499,\n",
       " 0.7772995280205557,\n",
       " 0.8980275736997406,\n",
       " 0.35245132895835174,\n",
       " 0.8481398762020793,\n",
       " 0.2193047518638817,\n",
       " 0.24556647795344516,\n",
       " 0.7792992610126287,\n",
       " 0.5262110853242022,\n",
       " 0.397297872859691,\n",
       " 0.44595153200735177,\n",
       " 0.7155329541701478,\n",
       " 0.1577567990965002,\n",
       " 0.312598706591739,\n",
       " 0.3795041822925152,\n",
       " 0.3784299590997182,\n",
       " 0.4617992336333869,\n",
       " 0.7062411718692023,\n",
       " 0.1390808620444141,\n",
       " 0.007482996814323068,\n",
       " 0.1658717779007728,\n",
       " 0.9774408765398952,\n",
       " 0.13100055088665774,\n",
       " 0.4060462907868737,\n",
       " 0.44802043904599376,\n",
       " 0.8599193603174692,\n",
       " 0.06243066508537355,\n",
       " 0.7373142939723807,\n",
       " 0.30397572636960385,\n",
       " 0.5549363894929266,\n",
       " 0.5414686917302116,\n",
       " 0.15816743524061572,\n",
       " 0.9631852879625526,\n",
       " 0.897759913775849,\n",
       " 0.14967640577412922,\n",
       " 0.29243077522953076,\n",
       " 0.8157582667473408,\n",
       " 0.9527120678529455,\n",
       " 0.3772133174732146,\n",
       " 0.4811570911072705,\n",
       " 0.7759787942982211,\n",
       " 0.8560790975917393,\n",
       " 0.7247248538818263,\n",
       " 0.7552997430125912,\n",
       " 0.20343190834935065,\n",
       " 0.582839724174313,\n",
       " 0.6986943431250825,\n",
       " 0.04589444750153173,\n",
       " 0.39823527508926926,\n",
       " 0.9588939192702763,\n",
       " 0.9382791886491266,\n",
       " 0.053039848543979286,\n",
       " 0.24516264799588683,\n",
       " 0.4535310814556743,\n",
       " 0.00810993531154533,\n",
       " 0.21469504275857892,\n",
       " 0.4137961976762812,\n",
       " 0.6713261262785851,\n",
       " 0.46980620390443784,\n",
       " 0.8906273006058851,\n",
       " 0.8442489427208358,\n",
       " 0.6912332749794703,\n",
       " 0.3373373252722612,\n",
       " 0.2794770855496125,\n",
       " 0.8358403839599615,\n",
       " 0.6459720898140936,\n",
       " 0.4187204746717317,\n",
       " 0.5866467772519905,\n",
       " 0.44772511390862535,\n",
       " 0.486009267061836,\n",
       " 0.3142862478621125,\n",
       " 0.857010876895951,\n",
       " 0.8991603853716372,\n",
       " 0.86038198357803,\n",
       " 0.4483402018083086,\n",
       " 0.9572802828470653,\n",
       " 0.018982197478816805,\n",
       " 0.530745617100832,\n",
       " 0.6573807193739851,\n",
       " 0.5906760201415338,\n",
       " 0.9761684609143106,\n",
       " 0.5679944167370543,\n",
       " 0.41195721076750125,\n",
       " 0.9776383888754551,\n",
       " 0.5584135586733875,\n",
       " 0.007922824520441216,\n",
       " 0.557488820743269,\n",
       " 0.1015976459675032,\n",
       " 0.9481091415584831,\n",
       " 0.2762245589107431,\n",
       " 0.9057940100715121,\n",
       " 0.7124958593258988,\n",
       " 0.09907614837318351,\n",
       " 0.46763700299428934,\n",
       " 0.38499900059939957,\n",
       " 0.381712433054339,\n",
       " 0.24858499814367563,\n",
       " 0.5878703764396477,\n",
       " 0.85264309434346,\n",
       " 0.5859036179662915,\n",
       " 0.06462484094077967,\n",
       " 0.064911778201886,\n",
       " 0.11554652343683386,\n",
       " 0.31100247168186224,\n",
       " 0.00904277041911853,\n",
       " 0.6135336973080437,\n",
       " 0.09870217109054136,\n",
       " 0.8890464234135654,\n",
       " 0.515708672329192,\n",
       " 0.5674323040306678,\n",
       " 0.3527567888082852,\n",
       " 0.7149936821636067,\n",
       " 0.35613866253133764,\n",
       " 0.19717699177595838,\n",
       " 0.880472748438736,\n",
       " 0.32877939960769437,\n",
       " 0.5951519913980693,\n",
       " 0.29333573168891813,\n",
       " 0.727086239943768,\n",
       " 0.6493349097312476,\n",
       " 0.3365380892309372,\n",
       " 0.7324677111860587,\n",
       " 0.9424403779702509,\n",
       " 0.668287089033039,\n",
       " 0.4758486176147828,\n",
       " 0.24277628915532257,\n",
       " 0.9211464941690957,\n",
       " 0.16366589640419055,\n",
       " 0.5832554685149481,\n",
       " 0.8652709475330764,\n",
       " 0.7366399333205932,\n",
       " 0.1317038205346498,\n",
       " 0.8719604634049257,\n",
       " 0.24819149752253483,\n",
       " 0.6936741254402465,\n",
       " 0.5359330436529318,\n",
       " 0.7902631503438711,\n",
       " 0.1812285298243177,\n",
       " 0.7517569080682136,\n",
       " 0.20132207044694095,\n",
       " 0.17144103809339473,\n",
       " 0.6880124500227885,\n",
       " 0.8136632571920365,\n",
       " 0.22687494724132723,\n",
       " 0.9031433771784992,\n",
       " 0.38492002676544634,\n",
       " 0.7326395626623344,\n",
       " 0.3815979198018921,\n",
       " 0.9646287094847128,\n",
       " 0.8344452996673506,\n",
       " 0.7865836027717252,\n",
       " 0.888388589591623,\n",
       " 0.04442417916117977,\n",
       " 0.03628939961318859,\n",
       " 0.5099802324292048,\n",
       " 0.33758680285916975,\n",
       " 0.6025375670744476,\n",
       " 0.34876976633816337,\n",
       " 0.6796435354424234,\n",
       " 0.035811770388404614,\n",
       " 0.5590897145402578,\n",
       " 0.5929718384959889,\n",
       " 0.05200921796174282,\n",
       " 0.7031815666865469,\n",
       " 0.15454209375326677,\n",
       " 0.17771333029740277,\n",
       " 0.5690640443637967,\n",
       " 0.6708287923849046,\n",
       " 0.04680264656367329,\n",
       " 0.5278789706180412,\n",
       " 0.8212101945482915,\n",
       " 0.16456098317130197,\n",
       " 0.8642907514532592,\n",
       " 0.7867742188207572,\n",
       " 0.49282643369962537,\n",
       " 0.23073085507652286,\n",
       " 0.12429531133025562,\n",
       " 0.9951358538931188,\n",
       " 0.8313513263512543,\n",
       " 0.5769702595503094,\n",
       " 0.9094942490310121,\n",
       " 0.44175230425879813,\n",
       " 0.17080194141549382,\n",
       " 0.13843027933377455,\n",
       " 0.5608821245460262,\n",
       " 0.6450846710870782,\n",
       " 0.7649629887218278,\n",
       " 0.2998077997171982,\n",
       " 0.36244860283853203,\n",
       " 0.23164001398606604,\n",
       " 0.3315716601846785,\n",
       " 0.03816338723062477,\n",
       " 0.2833794294700265,\n",
       " 0.18075901491197016,\n",
       " 0.8575192359755422,\n",
       " 0.7207418570581852,\n",
       " 0.031388573353197065,\n",
       " 0.6712192085749402,\n",
       " 0.3549411541668053,\n",
       " 0.8847375373105146,\n",
       " 0.7007612501219426,\n",
       " 0.7669340895362877,\n",
       " 0.5985389665071223,\n",
       " 0.9470718007449093,\n",
       " 0.2767355157721326,\n",
       " 0.4723487817119192,\n",
       " 0.22877745430015878,\n",
       " 0.4035291201588143,\n",
       " 0.7938376980885856,\n",
       " 0.6518897432278568,\n",
       " 0.9160079186763412,\n",
       " 0.2607790517539641,\n",
       " 0.9947134783415439,\n",
       " 0.009603443708587721,\n",
       " 0.7069098369357601,\n",
       " 0.8660920883054389,\n",
       " 0.9241368133449935,\n",
       " 0.5243965815286185,\n",
       " 0.36894242381835424,\n",
       " 0.00310914195250167,\n",
       " 0.8816475582513127,\n",
       " 0.9697640439450551,\n",
       " 0.9263528500568234,\n",
       " 0.4569144436620498,\n",
       " 0.8641372573934619,\n",
       " 0.3267335233932333,\n",
       " 0.09631641087964177,\n",
       " 0.04042660383805128,\n",
       " 0.2844014215232118,\n",
       " 0.9948020793162541,\n",
       " 0.7745284866177975,\n",
       " 0.6241990666506484,\n",
       " 0.9339113026662418,\n",
       " 0.8543710969409277,\n",
       " 0.616389605968579,\n",
       " 0.7743950254052512,\n",
       " 0.3597656421800097,\n",
       " 0.25537936874690326,\n",
       " 0.016191024441490467,\n",
       " 0.566001131131632,\n",
       " 0.5006198861235573,\n",
       " 0.6780012464114127,\n",
       " 0.06409667022776587,\n",
       " 0.23240261973198856,\n",
       " 0.11772739361644347,\n",
       " 0.435345868459481,\n",
       " 0.7747482640290115,\n",
       " 0.2796396740864412,\n",
       " 0.4983985681995012,\n",
       " 0.0762126313820416,\n",
       " 0.8790806296220384,\n",
       " 0.01842478988522231,\n",
       " 0.7208269362010966,\n",
       " 0.6715477426508119,\n",
       " 0.30496900571911867,\n",
       " 0.6541921379596061,\n",
       " 0.18345071270164937,\n",
       " 0.8023343160033134,\n",
       " 0.5828555450607519,\n",
       " 0.8008536909335622,\n",
       " 0.024234382847448867,\n",
       " 0.6167401292302024,\n",
       " 0.3535970949841821,\n",
       " 0.7028644795811696,\n",
       " 0.5003011672970792,\n",
       " 0.4415741200772073,\n",
       " 0.8143892038083744,\n",
       " 0.6662032665711256,\n",
       " 0.8345547632427339,\n",
       " 0.7994794050603277,\n",
       " 0.8379531641056595,\n",
       " 0.23854357647648894,\n",
       " 0.44918720059102935,\n",
       " 0.7995882390756682,\n",
       " 0.46567408252833115,\n",
       " 0.4506637914369672,\n",
       " 0.6526135530732733,\n",
       " 0.4249096904158128,\n",
       " 0.02579038137886936,\n",
       " 0.4349525941910508,\n",
       " 0.6011575952854653,\n",
       " 0.21069643722460785,\n",
       " 0.2287570537677484,\n",
       " 0.26347882008516327,\n",
       " 0.3504250071472824,\n",
       " 0.9528978007998314,\n",
       " 0.5032571011218142,\n",
       " 0.8453062998663899,\n",
       " 0.04047974967355698,\n",
       " 0.890256744078807,\n",
       " 0.3765674038743171,\n",
       " 0.9705303950881341,\n",
       " 0.8560975185968012,\n",
       " 0.33065021155537216,\n",
       " 0.7470173123361487,\n",
       " 0.3018870347474183,\n",
       " 0.4622042979018067,\n",
       " 0.14278365842668078,\n",
       " 0.9016673846604184,\n",
       " 0.7970203148800054,\n",
       " 0.6657748048046362,\n",
       " 0.6391032591678494,\n",
       " 0.025605992798331603,\n",
       " 0.17980451000601072,\n",
       " 0.84185203846204,\n",
       " 0.4862013405037986,\n",
       " 0.642909645008409,\n",
       " 0.9576364226434411,\n",
       " 0.7386753676471348,\n",
       " 0.9033527827545702,\n",
       " 0.5949390759046637,\n",
       " 0.9745329644604587,\n",
       " 0.9391992375228666,\n",
       " 0.7592841849108283,\n",
       " 0.9560561743649024,\n",
       " 0.7860780816838263,\n",
       " 0.6217369223643612,\n",
       " 0.6888731380771926,\n",
       " 0.4771377733329983,\n",
       " 0.9804570784185599,\n",
       " 0.762175532758663,\n",
       " 0.9934838250953835,\n",
       " 0.8302263563322615,\n",
       " 0.46529991739560045,\n",
       " 0.802759005106245,\n",
       " 0.8918906975408173,\n",
       " 0.3022593565993606,\n",
       " 0.833526595133881,\n",
       " 0.20547210793786097,\n",
       " 0.8228832115643923,\n",
       " 0.7425367220323008,\n",
       " 0.855614845776647,\n",
       " 0.42453454380278005,\n",
       " 0.2801556730875787,\n",
       " 0.6948382172968535,\n",
       " 0.44059192859292967,\n",
       " 0.46802515225453717,\n",
       " 0.3213071481773892,\n",
       " 0.3040387607049587,\n",
       " 0.3519924698200692,\n",
       " 0.8868734627904233,\n",
       " 0.38139256139273325,\n",
       " 0.6798598978201609,\n",
       " 0.9400087662160489,\n",
       " 0.7332010434866638,\n",
       " 0.8187271199174191,\n",
       " 0.770479350140268,\n",
       " 0.5560311506426758,\n",
       " 0.704782427097815,\n",
       " 0.6443472766524517,\n",
       " 0.05002602604250473,\n",
       " 0.23061334039667852,\n",
       " 0.724652173559751,\n",
       " 0.5903696054963207,\n",
       " 0.8052033384587556,\n",
       " 0.4920001757414804,\n",
       " 0.7756568249131217,\n",
       " 0.10892770275727032,\n",
       " 0.8296380749344922,\n",
       " 0.8722554192262895,\n",
       " 0.4261151201427495,\n",
       " 0.6879365473411869,\n",
       " 0.6111684042913407,\n",
       " 0.17669613015090374,\n",
       " 0.8785935010842063,\n",
       " 0.2496054200412286,\n",
       " 0.48315322502601477,\n",
       " 0.34860761404070284,\n",
       " 0.6193513018476418,\n",
       " 0.38508269939596906,\n",
       " 0.9501851237120874,\n",
       " 0.6764070111119304,\n",
       " 0.9445829285061204,\n",
       " 0.08637569071963569,\n",
       " 0.5329747610959331,\n",
       " 0.4918725403544097,\n",
       " 0.6296526856098013,\n",
       " 0.5241218381684379,\n",
       " 0.5158417085811989,\n",
       " 0.5560366261928034,\n",
       " 0.29970702934400767,\n",
       " 0.7575311566556608,\n",
       " 0.7814567855489964,\n",
       " 0.3737848875276897,\n",
       " 0.7721925141608112,\n",
       " 0.8627581025220521,\n",
       " 0.2102031998653482,\n",
       " 0.9519719993262619,\n",
       " 0.5613290717039324,\n",
       " 0.7040942876424884,\n",
       " 0.8187327956919365,\n",
       " 0.12741829577446812,\n",
       " 0.41097723332994573,\n",
       " 0.029419409618432077,\n",
       " 0.5915703170404147,\n",
       " 0.22975434053923993,\n",
       " 0.356160354885093,\n",
       " 0.5098075952001119,\n",
       " 0.8425683484100424,\n",
       " 0.7306596604604779,\n",
       " 0.9259662237683114,\n",
       " 0.20466952800142585,\n",
       " 0.043972380259980154,\n",
       " 0.6836530728655186,\n",
       " 0.34079806881411895,\n",
       " 0.010594230807983853,\n",
       " 0.5025571040957522,\n",
       " 0.9985174830109684,\n",
       " 0.6448321490015128,\n",
       " 0.7789377653166776,\n",
       " 0.437759729358677,\n",
       " 0.5657911139544303,\n",
       " 0.7224263719981425,\n",
       " 0.9819824750348458,\n",
       " 0.16653123768918354,\n",
       " 0.01782940976966958,\n",
       " 0.9937863416007099,\n",
       " 0.9262565951093619,\n",
       " 0.6336157584975819,\n",
       " 0.3476794547972547,\n",
       " 0.4133595472405013,\n",
       " 0.799420886179332,\n",
       " 0.32006436972587987,\n",
       " 0.981938114201013,\n",
       " 0.8864863633262382,\n",
       " 0.6325454232930056,\n",
       " 0.35825064078263946,\n",
       " 0.5300406985662088,\n",
       " 0.4254308825011365,\n",
       " 0.47318820097315484,\n",
       " 0.2378083327592322,\n",
       " 0.7449255397746263,\n",
       " 0.00026988645923322783,\n",
       " 0.9102693751013555,\n",
       " 0.3582790020058447,\n",
       " 0.8454357748337493,\n",
       " 0.6124981915271819,\n",
       " 0.7277216191814062,\n",
       " 0.37673381108393467,\n",
       " 0.5125981681960887,\n",
       " 0.646224096598672,\n",
       " 0.6749595472185373,\n",
       " 0.13005094730515804,\n",
       " 0.05318052428468968,\n",
       " 0.48027493612721883,\n",
       " 0.42390026921729096,\n",
       " 0.30671968987747683,\n",
       " 0.23957797138968628,\n",
       " 0.2520421218466883,\n",
       " 0.8712700973123801,\n",
       " 0.07883884270305286,\n",
       " 0.14987105042224153,\n",
       " 0.0737010744079433,\n",
       " 0.7552335100626033,\n",
       " 0.35727656147097353,\n",
       " 0.6608293009716146,\n",
       " 0.17295816781711026,\n",
       " 0.10194389525810554,\n",
       " 0.9733517304264233,\n",
       " 0.45352606244522026,\n",
       " 0.2165624226886948,\n",
       " 0.23935414470100808,\n",
       " 0.09363012256783732,\n",
       " 0.724792518908381,\n",
       " 0.5194546150266467,\n",
       " 0.5123216378690745,\n",
       " 0.6850745263205597,\n",
       " 0.6248612448700995,\n",
       " 0.9718182016313459,\n",
       " 0.6289112042988521,\n",
       " 0.43541492444099683,\n",
       " 0.2239474191958995,\n",
       " 0.9885946189230491,\n",
       " 0.2529440221871013,\n",
       " 0.2780392834039233,\n",
       " 0.877477851783607,\n",
       " 0.2599746865377255,\n",
       " 0.6749310666828765,\n",
       " 0.16592007912581008,\n",
       " 0.3649603052896384,\n",
       " 0.582473583352554,\n",
       " 0.6001264221624528,\n",
       " 0.24285552596204568,\n",
       " 0.8138951186096363,\n",
       " 0.2601465286434841,\n",
       " 0.43704962656037627,\n",
       " 0.49635692464158704,\n",
       " 0.6539175713849923,\n",
       " 0.27876293037306676,\n",
       " 0.4880110221063973,\n",
       " 0.4044939128598374,\n",
       " 0.18023871055808965,\n",
       " 0.4213136202164791,\n",
       " 0.9660203494495858,\n",
       " 0.5299292710787815,\n",
       " 0.40251448496559694,\n",
       " 0.9624689364696375,\n",
       " 0.09683278598674533,\n",
       " 0.6878222083776844,\n",
       " 0.16326971451630923,\n",
       " 0.3978599758269458,\n",
       " 0.4546863448186285,\n",
       " 0.42182017753211887,\n",
       " 0.588812712659207,\n",
       " 0.3633901709992349,\n",
       " 0.7461670216312056,\n",
       " 0.45774127284641447,\n",
       " 0.3744237706491155,\n",
       " 0.5608700574271048,\n",
       " 0.9959891335127525,\n",
       " 0.47017351852704753,\n",
       " 0.9181555348681857,\n",
       " 0.5178243247967872,\n",
       " 0.49264097402690465,\n",
       " 0.9993600682229236,\n",
       " 0.3340500279899676,\n",
       " 0.6363187245998269,\n",
       " 0.49982292732837735,\n",
       " 0.006331504483861238,\n",
       " 0.9336312566049059,\n",
       " 0.890207860971795,\n",
       " 0.3779864943981655,\n",
       " 0.2511794361519899,\n",
       " 0.12960831219591135,\n",
       " 0.8442771410237513,\n",
       " 0.7955128537112761,\n",
       " 0.21679375918028843,\n",
       " 0.0908142643093317,\n",
       " 0.8322380343790443,\n",
       " 0.0794969284396484,\n",
       " 0.7232249731517666,\n",
       " 0.9773144868069996,\n",
       " 0.260301982988688,\n",
       " 0.25784677658829247,\n",
       " 0.8667532572305787,\n",
       " 0.5386252344283717,\n",
       " 0.894242317594394,\n",
       " 0.9612623248771099,\n",
       " 0.33897292121277894,\n",
       " 0.034408229866386975,\n",
       " 0.0700727284795641,\n",
       " 0.6711748184419359,\n",
       " 0.4770522287520081,\n",
       " 0.6583947276087262,\n",
       " 0.13961676543862894,\n",
       " 0.570334495666363,\n",
       " 0.9958974482409315,\n",
       " 0.39768618181113374,\n",
       " 0.2418818907999461,\n",
       " 0.4588413541630764,\n",
       " 0.8779315833751413,\n",
       " 0.4046729492350846,\n",
       " 0.009987152248721423,\n",
       " 0.9803323595177762,\n",
       " 0.15677631589692514,\n",
       " 0.963846184151835,\n",
       " 0.4381798200070711,\n",
       " 0.19405864902664843,\n",
       " 0.8158730942822099,\n",
       " 0.1075087427463769,\n",
       " 0.5441840847904542,\n",
       " 0.6122619794984656,\n",
       " 0.3297070338708959,\n",
       " 0.559234972287122,\n",
       " 0.863005701056933,\n",
       " 0.6300768576173243,\n",
       " 0.7255732284907541,\n",
       " 0.7627901845755225,\n",
       " 0.4570052354054363,\n",
       " 0.7574355134022293,\n",
       " 0.5247318863769423,\n",
       " 0.4319906059762536,\n",
       " 0.7717096229303331,\n",
       " 0.7603285147238985,\n",
       " 0.6676283148455353,\n",
       " 0.25974297874614916,\n",
       " 0.6137887342255316,\n",
       " 0.391378646588158,\n",
       " 0.008985499391702,\n",
       " 0.7454695561057275,\n",
       " 0.2910179214977445,\n",
       " 0.7238696234800175,\n",
       " 0.7878951780669916,\n",
       " 0.05062497707894975,\n",
       " 0.7986815095991308,\n",
       " 0.26214004606985664,\n",
       " 0.18891850401277,\n",
       " 0.8873013472140425,\n",
       " 0.6656912614047312,\n",
       " 0.8547105450507773,\n",
       " 0.580738293776211,\n",
       " 0.18508588282432786,\n",
       " 0.12540425781018955,\n",
       " 0.7056688407780858,\n",
       " 0.44711364135922255,\n",
       " 0.25355285634472663,\n",
       " 0.7303585189055384,\n",
       " 0.033710704856282,\n",
       " 0.28059799659168955,\n",
       " 0.16255807048451815,\n",
       " ...]"
      ]
     },
     "execution_count": 254,
     "metadata": {},
     "output_type": "execute_result"
    }
   ],
   "source": [
    "cdf_town"
   ]
  },
  {
   "cell_type": "code",
   "execution_count": 256,
   "metadata": {},
   "outputs": [
    {
     "data": {
      "image/png": "[encoded data removed]",
      "text/plain": [
       "<Figure size 432x288 with 1 Axes>"
      ]
     },
     "metadata": {
      "needs_background": "light"
     },
     "output_type": "display_data"
    }
   ],
   "source": [
    "sns.distplot(cdf_town,\n",
    "            hist_kws=dict(cumulative=True),\n",
    "             kde_kws=dict(cumulative=True))\n",
    "\n",
    "#plt.axvline(obs_height, color='red', linestyle='--')\n",
    "\n",
    "plt.show()"
   ]
  },
  {
   "cell_type": "markdown",
   "metadata": {},
   "source": [
    "__Q:__ Turning this question around. Let's say we randomly pick one person and measure their height and find they are 2.00 m tall? How surprised should we be at this result, given what we know about the population distribution? In other words, how likely would it be to obtain a value at least as extreme as this? Express this as a probability."
   ]
  },
  {
   "cell_type": "code",
   "execution_count": 240,
   "metadata": {},
   "outputs": [
    {
     "name": "stdout",
     "output_type": "stream",
     "text": [
      "This extreme height is 5.6 deviations from the mean\n"
     ]
    }
   ],
   "source": [
    "extreme = 200\n",
    "\n",
    "extreme_abs_zscore = abs((extreme - avg_height) / town_std)\n",
    "print('This extreme height is {}'.format(deviations) + ' deviations from the mean')"
   ]
  },
  {
   "cell_type": "markdown",
   "metadata": {},
   "source": [
    "Next, we will calculate deviations from the mean for all sample values"
   ]
  },
  {
   "cell_type": "code",
   "execution_count": 241,
   "metadata": {},
   "outputs": [],
   "source": [
    "all_abs_zscores =  [ abs((x - avg_height) / town_std) for x in norm_town[0] ] "
   ]
  },
  {
   "cell_type": "code",
   "execution_count": 242,
   "metadata": {},
   "outputs": [
    {
     "data": {
      "text/plain": [
       "<matplotlib.axes._subplots.AxesSubplot at 0x1a35a15ba8>"
      ]
     },
     "execution_count": 242,
     "metadata": {},
     "output_type": "execute_result"
    },
    {
     "data": {
      "image/png": "[encoded data removed]",
      "text/plain": [
       "<Figure size 432x288 with 1 Axes>"
      ]
     },
     "metadata": {
      "needs_background": "light"
     },
     "output_type": "display_data"
    }
   ],
   "source": [
    "sns.distplot(all_deviations)"
   ]
  },
  {
   "cell_type": "code",
   "execution_count": 243,
   "metadata": {},
   "outputs": [
    {
     "data": {
      "text/plain": [
       "0.9999999892824097"
      ]
     },
     "execution_count": 243,
     "metadata": {},
     "output_type": "execute_result"
    }
   ],
   "source": [
    "norm.cdf(extreme_abs_zscore)"
   ]
  },
  {
   "cell_type": "markdown",
   "metadata": {},
   "source": [
    "### __A:__ <b> There is a very low probability of seeing someone this far from the average height (in either direction) - almost 0.00000001% likelihood! </b>"
   ]
  },
  {
   "cell_type": "markdown",
   "metadata": {},
   "source": [
    "We could calculate this probability by virtue of knowing the population parameters. We were then able to use the known properties of the relevant normal distribution to calculate the probability of observing a value at least as extreme as our test value. We have essentially just performed a z-test (albeit without having prespecified a threshold for our \"level of surprise\")!"
   ]
  },
  {
   "cell_type": "markdown",
   "metadata": {},
   "source": [
    "We're about to come to a pinch, though here. We've said a couple of times that we rarely, if ever, know the true population parameters; we have to estimate them from our sample and we cannot even begin to estimate the standard deviation from a single observation. This is very true and usually we have sample sizes larger than one. This means we can calculate the mean of the sample as our best estimate of the population mean and the standard deviation as our best estimate of the population standard deviation. In other words, we are now coming to deal with the sampling distributions we mentioned above as we are generally concerned with the properties of the sample means we obtain.\n",
    "\n",
    "Above, we highlighted one result from the CLT, whereby the sampling distribution (of the mean) becomes narrower and narrower with the square root of the sample size. We remind ourselves that another result from the CLT is that _even if the underlying population distribution is not normal, the sampling distribution will tend to become normal with sufficiently large sample size_. This is the key driver for us 'requiring' a certain sample size, for example you may frequently see a minimum sample size of 30 stated in many places. In reality this is simply a rule of thumb; if the underlying distribution is approximately normal then your sampling distribution will already be pretty normal, but if the underlying distribution is heavily skewed then you'd want to increase your sample size."
   ]
  },
  {
   "cell_type": "markdown",
   "metadata": {},
   "source": [
    "__Q:__ Let's now start from the position of knowing nothing about the heights of people in our town.\n",
    "* Use our favorite random seed of 47, to randomly sample the heights of 50 townsfolk\n",
    "* Estimate the population mean using np.mean\n",
    "* Estimate the population standard deviation using np.std (remember which denominator to use!)\n",
    "* Calculate the (95%) [margin of error](https://www.statisticshowto.datasciencecentral.com/probability-and-statistics/hypothesis-testing/margin-of-error/#WhatMofE) (use the exact critial z value to 2 decimal places - [look this up](https://www.statisticshowto.datasciencecentral.com/probability-and-statistics/find-critical-values/) or use norm.ppf())\n",
    "* Calculate the 95% Confidence Interval of the mean\n",
    "* Does this interval include the true population mean?"
   ]
  },
  {
   "cell_type": "markdown",
   "metadata": {},
   "source": [
    "__A:__"
   ]
  },
  {
   "cell_type": "markdown",
   "metadata": {},
   "source": [
    "### <b> I don't really understand the question here - how to randomly sample 50 people without knowing anything about them? Can't use the formula created above because it has known parameters built into it (i.e., 172cm average height with 5cm standard deviation)."
   ]
  },
  {
   "cell_type": "code",
   "execution_count": 265,
   "metadata": {},
   "outputs": [],
   "source": [
    "#seed(47)\n",
    "# take your sample now\n",
    "new_sample = np.random.seed(47)\n",
    "new_sample"
   ]
  },
  {
   "cell_type": "code",
   "execution_count": null,
   "metadata": {},
   "outputs": [],
   "source": [
    "sample_mean = np.mean(new_sample)"
   ]
  },
  {
   "cell_type": "code",
   "execution_count": null,
   "metadata": {},
   "outputs": [],
   "source": []
  },
  {
   "cell_type": "code",
   "execution_count": null,
   "metadata": {},
   "outputs": [],
   "source": []
  },
  {
   "cell_type": "code",
   "execution_count": null,
   "metadata": {},
   "outputs": [],
   "source": []
  },
  {
   "cell_type": "markdown",
   "metadata": {},
   "source": [
    "__Q:__ Above we calculated the confidence interval using the critical z value. What is the problem with this? What requirement, or requirements, are we (strictly) failing?"
   ]
  },
  {
   "cell_type": "markdown",
   "metadata": {},
   "source": [
    "__A:__"
   ]
  },
  {
   "cell_type": "markdown",
   "metadata": {},
   "source": [
    "__Q:__ Calculate the 95% confidence interval for the mean using the _t_ distribution. Is this wider or narrower than that based on the normal distribution above? If you're unsure, you may find this [resource](https://www.statisticshowto.datasciencecentral.com/probability-and-statistics/confidence-interval/) useful. For calculating the critical value, remember how you could calculate this for the normal distribution using norm.ppf()."
   ]
  },
  {
   "cell_type": "markdown",
   "metadata": {},
   "source": [
    "__A:__"
   ]
  },
  {
   "cell_type": "code",
   "execution_count": null,
   "metadata": {},
   "outputs": [],
   "source": []
  },
  {
   "cell_type": "code",
   "execution_count": null,
   "metadata": {},
   "outputs": [],
   "source": []
  },
  {
   "cell_type": "code",
   "execution_count": null,
   "metadata": {},
   "outputs": [],
   "source": []
  },
  {
   "cell_type": "markdown",
   "metadata": {},
   "source": [
    "This is slightly wider than the previous confidence interval. This reflects the greater uncertainty given that we are estimating population parameters from a sample."
   ]
  },
  {
   "cell_type": "markdown",
   "metadata": {},
   "source": [
    "## Learning outcomes"
   ]
  },
  {
   "cell_type": "markdown",
   "metadata": {},
   "source": [
    "Having completed this project notebook, you now have hands-on experience:\n",
    "* sampling and calculating probabilities from a normal distribution\n",
    "* the correct way to estimate the standard deviation of a population (the population parameter) from a sample\n",
    "* what a sampling distribution is and how the Central Limit Theorem applies\n",
    "* how to calculate critical values and confidence intervals"
   ]
  }
 ],
 "metadata": {
  "kernelspec": {
   "display_name": "Python 3",
   "language": "python",
   "name": "python3"
  },
  "language_info": {
   "codemirror_mode": {
    "name": "ipython",
    "version": 3
   },
   "file_extension": ".py",
   "mimetype": "text/x-python",
   "name": "python",
   "nbconvert_exporter": "python",
   "pygments_lexer": "ipython3",
   "version": "3.6.9"
  }
 },
 "nbformat": 4,
 "nbformat_minor": 2
}
