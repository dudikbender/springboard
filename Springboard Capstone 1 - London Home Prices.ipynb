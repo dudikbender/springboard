{
 "cells": [
  {
   "cell_type": "code",
   "execution_count": 1,
   "metadata": {},
   "outputs": [],
   "source": [
    "## Intro to the problem that is being addressed.\n",
    "## Looking at residential home prices paid data from UK Data\n",
    "## Predicting home price paid"
   ]
  },
  {
   "cell_type": "code",
   "execution_count": 2,
   "metadata": {},
   "outputs": [],
   "source": [
    "## Import the relevant python packages\n",
    "\n",
    "## Core packages for data wrangling, analysis, and charting\n",
    "import pandas as pd\n",
    "import numpy as np\n",
    "import matplotlib.pyplot as plt\n",
    "import requests\n",
    "import seaborn as sns\n",
    "import datetime\n",
    "from collections import Counter\n",
    "import json\n",
    "from pandas.io.json import json_normalize\n",
    "\n",
    "## Mapping packages for presentation and geocoding\n",
    "import folium\n",
    "from folium.plugins import HeatMap\n",
    "import geopandas\n",
    "import gmaps #Google Maps python package\n",
    "import branca\n",
    "import geopy\n",
    "from geopy.geocoders import Nominatim\n",
    "\n",
    "## Statistics and machine learning packages\n",
    "import scipy.stats as stats\n",
    "from sklearn.model_selection import train_test_split \n",
    "from sklearn.linear_model import LinearRegression\n",
    "from sklearn import metrics\n",
    "from sklearn.preprocessing import LabelEncoder, OneHotEncoder, LabelBinarizer\n",
    "from sklearn.tree import DecisionTreeRegressor # Import Decision Tree Regressor\n",
    "from sklearn.model_selection import train_test_split # Import train_test_split function\n",
    "from sklearn import metrics #Import scikit-learn metrics module for accuracy calculation\n",
    "\n",
    "import locale\n",
    "\n",
    "%matplotlib inline"
   ]
  },
  {
   "cell_type": "code",
   "execution_count": 68,
   "metadata": {},
   "outputs": [],
   "source": [
    "## Introduce the dataset and provide a url\n",
    "\n",
    "## import the whole dataset for 2018\n",
    "## Data does not have column headers, so we set these up to add custom column names\n",
    "column_labels = ['transaction_ID', 'price', 'transfer_date', 'postcode','property_type', \n",
    "              'new_build','duration', 'PAON', 'SAON', 'street', 'locality', 'town_city', \n",
    "              'district', 'county', 'PPD_category_type', 'record_status']\n",
    "\n",
    "## Read in the UK Housing Prices Paid 2018 dataset\n",
    "## requires chunking (importing it in pieces) as it is a large file\n",
    "df_chunk = pd.read_csv(\"/Users/user/Desktop/Datasets/pp-2018.csv\", names=column_labels,\n",
    "                      iterator=True, chunksize=10000)\n",
    "\n",
    "## concatenate the chunks into one DataFrame \n",
    "chunk_list = []  # append each chunk here \n",
    "\n",
    "# Each chunk is in df format\n",
    "for chunk in df_chunk:      \n",
    "    # Once the data filtering is done, append the chunk to list\n",
    "    chunk_list.append(chunk)\n",
    "    \n",
    "# concat the list into dataframe \n",
    "df = pd.concat(chunk_list)"
   ]
  },
  {
   "cell_type": "code",
   "execution_count": 69,
   "metadata": {},
   "outputs": [
    {
     "data": {
      "text/html": [
       "<div>\n",
       "<style scoped>\n",
       "    .dataframe tbody tr th:only-of-type {\n",
       "        vertical-align: middle;\n",
       "    }\n",
       "\n",
       "    .dataframe tbody tr th {\n",
       "        vertical-align: top;\n",
       "    }\n",
       "\n",
       "    .dataframe thead th {\n",
       "        text-align: right;\n",
       "    }\n",
       "</style>\n",
       "<table border=\"1\" class=\"dataframe\">\n",
       "  <thead>\n",
       "    <tr style=\"text-align: right;\">\n",
       "      <th></th>\n",
       "      <th>transaction_ID</th>\n",
       "      <th>price</th>\n",
       "      <th>transfer_date</th>\n",
       "      <th>postcode</th>\n",
       "      <th>property_type</th>\n",
       "      <th>new_build</th>\n",
       "      <th>duration</th>\n",
       "      <th>PAON</th>\n",
       "      <th>SAON</th>\n",
       "      <th>street</th>\n",
       "      <th>locality</th>\n",
       "      <th>town_city</th>\n",
       "      <th>district</th>\n",
       "      <th>county</th>\n",
       "      <th>PPD_category_type</th>\n",
       "      <th>record_status</th>\n",
       "    </tr>\n",
       "  </thead>\n",
       "  <tbody>\n",
       "    <tr>\n",
       "      <td>0</td>\n",
       "      <td>{79A74E21-D11E-1289-E053-6B04A8C01627}</td>\n",
       "      <td>770000</td>\n",
       "      <td>2018-09-25 00:00</td>\n",
       "      <td>SK7 1AR</td>\n",
       "      <td>D</td>\n",
       "      <td>N</td>\n",
       "      <td>F</td>\n",
       "      <td>5</td>\n",
       "      <td>NaN</td>\n",
       "      <td>OAK MEADOW</td>\n",
       "      <td>BRAMHALL</td>\n",
       "      <td>STOCKPORT</td>\n",
       "      <td>STOCKPORT</td>\n",
       "      <td>GREATER MANCHESTER</td>\n",
       "      <td>A</td>\n",
       "      <td>A</td>\n",
       "    </tr>\n",
       "    <tr>\n",
       "      <td>1</td>\n",
       "      <td>{79A74E21-D11F-1289-E053-6B04A8C01627}</td>\n",
       "      <td>253500</td>\n",
       "      <td>2018-09-24 00:00</td>\n",
       "      <td>M6 8GQ</td>\n",
       "      <td>D</td>\n",
       "      <td>N</td>\n",
       "      <td>F</td>\n",
       "      <td>1</td>\n",
       "      <td>NaN</td>\n",
       "      <td>RIVINGTON ROAD</td>\n",
       "      <td>NaN</td>\n",
       "      <td>SALFORD</td>\n",
       "      <td>SALFORD</td>\n",
       "      <td>GREATER MANCHESTER</td>\n",
       "      <td>A</td>\n",
       "      <td>A</td>\n",
       "    </tr>\n",
       "    <tr>\n",
       "      <td>2</td>\n",
       "      <td>{79A74E21-D120-1289-E053-6B04A8C01627}</td>\n",
       "      <td>231950</td>\n",
       "      <td>2018-09-28 00:00</td>\n",
       "      <td>WA3 2UE</td>\n",
       "      <td>D</td>\n",
       "      <td>Y</td>\n",
       "      <td>F</td>\n",
       "      <td>35</td>\n",
       "      <td>NaN</td>\n",
       "      <td>STONEACRE CLOSE</td>\n",
       "      <td>LOWTON</td>\n",
       "      <td>WARRINGTON</td>\n",
       "      <td>WIGAN</td>\n",
       "      <td>GREATER MANCHESTER</td>\n",
       "      <td>A</td>\n",
       "      <td>A</td>\n",
       "    </tr>\n",
       "    <tr>\n",
       "      <td>3</td>\n",
       "      <td>{79A74E21-D121-1289-E053-6B04A8C01627}</td>\n",
       "      <td>112500</td>\n",
       "      <td>2018-08-29 00:00</td>\n",
       "      <td>OL6 6RJ</td>\n",
       "      <td>S</td>\n",
       "      <td>N</td>\n",
       "      <td>F</td>\n",
       "      <td>102</td>\n",
       "      <td>NaN</td>\n",
       "      <td>THORNFIELD GROVE</td>\n",
       "      <td>NaN</td>\n",
       "      <td>ASHTON-UNDER-LYNE</td>\n",
       "      <td>TAMESIDE</td>\n",
       "      <td>GREATER MANCHESTER</td>\n",
       "      <td>A</td>\n",
       "      <td>A</td>\n",
       "    </tr>\n",
       "    <tr>\n",
       "      <td>4</td>\n",
       "      <td>{79A74E21-D122-1289-E053-6B04A8C01627}</td>\n",
       "      <td>184995</td>\n",
       "      <td>2018-06-15 00:00</td>\n",
       "      <td>M46 0TW</td>\n",
       "      <td>S</td>\n",
       "      <td>Y</td>\n",
       "      <td>F</td>\n",
       "      <td>37</td>\n",
       "      <td>NaN</td>\n",
       "      <td>THREADNEEDLE PLACE</td>\n",
       "      <td>ATHERTON</td>\n",
       "      <td>MANCHESTER</td>\n",
       "      <td>WIGAN</td>\n",
       "      <td>GREATER MANCHESTER</td>\n",
       "      <td>A</td>\n",
       "      <td>A</td>\n",
       "    </tr>\n",
       "  </tbody>\n",
       "</table>\n",
       "</div>"
      ],
      "text/plain": [
       "                           transaction_ID   price     transfer_date postcode  \\\n",
       "0  {79A74E21-D11E-1289-E053-6B04A8C01627}  770000  2018-09-25 00:00  SK7 1AR   \n",
       "1  {79A74E21-D11F-1289-E053-6B04A8C01627}  253500  2018-09-24 00:00   M6 8GQ   \n",
       "2  {79A74E21-D120-1289-E053-6B04A8C01627}  231950  2018-09-28 00:00  WA3 2UE   \n",
       "3  {79A74E21-D121-1289-E053-6B04A8C01627}  112500  2018-08-29 00:00  OL6 6RJ   \n",
       "4  {79A74E21-D122-1289-E053-6B04A8C01627}  184995  2018-06-15 00:00  M46 0TW   \n",
       "\n",
       "  property_type new_build duration PAON SAON              street  locality  \\\n",
       "0             D         N        F    5  NaN          OAK MEADOW  BRAMHALL   \n",
       "1             D         N        F    1  NaN      RIVINGTON ROAD       NaN   \n",
       "2             D         Y        F   35  NaN     STONEACRE CLOSE    LOWTON   \n",
       "3             S         N        F  102  NaN    THORNFIELD GROVE       NaN   \n",
       "4             S         Y        F   37  NaN  THREADNEEDLE PLACE  ATHERTON   \n",
       "\n",
       "           town_city   district              county PPD_category_type  \\\n",
       "0          STOCKPORT  STOCKPORT  GREATER MANCHESTER                 A   \n",
       "1            SALFORD    SALFORD  GREATER MANCHESTER                 A   \n",
       "2         WARRINGTON      WIGAN  GREATER MANCHESTER                 A   \n",
       "3  ASHTON-UNDER-LYNE   TAMESIDE  GREATER MANCHESTER                 A   \n",
       "4         MANCHESTER      WIGAN  GREATER MANCHESTER                 A   \n",
       "\n",
       "  record_status  \n",
       "0             A  \n",
       "1             A  \n",
       "2             A  \n",
       "3             A  \n",
       "4             A  "
      ]
     },
     "execution_count": 69,
     "metadata": {},
     "output_type": "execute_result"
    }
   ],
   "source": [
    "df.head()"
   ]
  },
  {
   "cell_type": "code",
   "execution_count": 70,
   "metadata": {},
   "outputs": [
    {
     "data": {
      "text/plain": [
       "66191"
      ]
     },
     "execution_count": 70,
     "metadata": {},
     "output_type": "execute_result"
    }
   ],
   "source": [
    "## Filter down to London only\n",
    "df = df[df['town_city'] == 'LONDON']\n",
    "len(df)"
   ]
  },
  {
   "cell_type": "code",
   "execution_count": 71,
   "metadata": {},
   "outputs": [],
   "source": [
    "## We will create a couple new columns, which will help in our later analysis.\n",
    "## These will be a trimmed postcode that correlates to postcode areas, as well as \n",
    "## month and year separated out from date column.\n",
    "\n",
    "## Trim the postcode column down to the first set of characters (removing last 3)\n",
    "df['postcode_area'] = [str(x)[:-4] for x in df.postcode]\n",
    "\n",
    "## Convert transfer date to DateTime object\n",
    "df['transfer_date'] = pd.to_datetime(df.transfer_date)\n",
    "\n",
    "## Add month and year columns\n",
    "df['month'] = df['transfer_date'].dt.month\n",
    "df['year'] = df['transfer_date'].dt.year"
   ]
  },
  {
   "cell_type": "code",
   "execution_count": 72,
   "metadata": {},
   "outputs": [],
   "source": [
    "prop_type_dict = {'D': 'Detached',\n",
    "                 'S': 'Semi-detached',\n",
    "                 'F': 'Flat',\n",
    "                 'T': 'Terraced',\n",
    "                 'O': 'Other'}\n",
    "\n",
    "new_build_dict = {'N': 'Old',\n",
    "                 'Y': 'New'}\n",
    "\n",
    "duration_dict = {'F': 'Freehold',\n",
    "                 'L': 'Leasehold'}"
   ]
  },
  {
   "cell_type": "markdown",
   "metadata": {},
   "source": [
    "We also add a conditional to this conversion so that if this notebook is run multiple times we won't get an error."
   ]
  },
  {
   "cell_type": "code",
   "execution_count": 73,
   "metadata": {},
   "outputs": [],
   "source": [
    "## Change the property type for more readability\n",
    "if len(df['property_type'].iloc[0]) == 1:\n",
    "    df['property_type'] = df['property_type'].map(prop_type_dict)"
   ]
  },
  {
   "cell_type": "code",
   "execution_count": 74,
   "metadata": {},
   "outputs": [],
   "source": [
    "## Change the build type for more readability\n",
    "if len(df['new_build'].iloc[0]) == 1:\n",
    "    df['new_build'] = df['new_build'].map(new_build_dict)"
   ]
  },
  {
   "cell_type": "code",
   "execution_count": 75,
   "metadata": {},
   "outputs": [],
   "source": [
    "## Change the Duration attribute for more readability\n",
    "if len(df['duration'].iloc[0]) == 1:\n",
    "    df['duration'] = df['duration'].map(duration_dict)"
   ]
  },
  {
   "cell_type": "code",
   "execution_count": 76,
   "metadata": {},
   "outputs": [
    {
     "data": {
      "text/html": [
       "<div>\n",
       "<style scoped>\n",
       "    .dataframe tbody tr th:only-of-type {\n",
       "        vertical-align: middle;\n",
       "    }\n",
       "\n",
       "    .dataframe tbody tr th {\n",
       "        vertical-align: top;\n",
       "    }\n",
       "\n",
       "    .dataframe thead th {\n",
       "        text-align: right;\n",
       "    }\n",
       "</style>\n",
       "<table border=\"1\" class=\"dataframe\">\n",
       "  <thead>\n",
       "    <tr style=\"text-align: right;\">\n",
       "      <th></th>\n",
       "      <th>transaction_ID</th>\n",
       "      <th>price</th>\n",
       "      <th>transfer_date</th>\n",
       "      <th>postcode</th>\n",
       "      <th>property_type</th>\n",
       "      <th>new_build</th>\n",
       "      <th>duration</th>\n",
       "      <th>PAON</th>\n",
       "      <th>SAON</th>\n",
       "      <th>street</th>\n",
       "      <th>locality</th>\n",
       "      <th>town_city</th>\n",
       "      <th>district</th>\n",
       "      <th>county</th>\n",
       "      <th>PPD_category_type</th>\n",
       "      <th>record_status</th>\n",
       "      <th>postcode_area</th>\n",
       "      <th>month</th>\n",
       "      <th>year</th>\n",
       "    </tr>\n",
       "  </thead>\n",
       "  <tbody>\n",
       "    <tr>\n",
       "      <td>1032</td>\n",
       "      <td>{7011B109-D879-8ED6-E053-6B04A8C075C1}</td>\n",
       "      <td>1205000</td>\n",
       "      <td>2018-05-25</td>\n",
       "      <td>SW13 0NZ</td>\n",
       "      <td>Terraced</td>\n",
       "      <td>Old</td>\n",
       "      <td>Freehold</td>\n",
       "      <td>6</td>\n",
       "      <td>NaN</td>\n",
       "      <td>CHARLES STREET</td>\n",
       "      <td>NaN</td>\n",
       "      <td>LONDON</td>\n",
       "      <td>RICHMOND UPON THAMES</td>\n",
       "      <td>GREATER LONDON</td>\n",
       "      <td>A</td>\n",
       "      <td>A</td>\n",
       "      <td>SW13</td>\n",
       "      <td>5</td>\n",
       "      <td>2018</td>\n",
       "    </tr>\n",
       "    <tr>\n",
       "      <td>1037</td>\n",
       "      <td>{7011B109-D87E-8ED6-E053-6B04A8C075C1}</td>\n",
       "      <td>5200000</td>\n",
       "      <td>2018-06-04</td>\n",
       "      <td>SW19 7BW</td>\n",
       "      <td>Detached</td>\n",
       "      <td>Old</td>\n",
       "      <td>Freehold</td>\n",
       "      <td>8</td>\n",
       "      <td>NaN</td>\n",
       "      <td>ST MARYS ROAD</td>\n",
       "      <td>NaN</td>\n",
       "      <td>LONDON</td>\n",
       "      <td>MERTON</td>\n",
       "      <td>GREATER LONDON</td>\n",
       "      <td>A</td>\n",
       "      <td>A</td>\n",
       "      <td>SW19</td>\n",
       "      <td>6</td>\n",
       "      <td>2018</td>\n",
       "    </tr>\n",
       "    <tr>\n",
       "      <td>1046</td>\n",
       "      <td>{7011B109-D888-8ED6-E053-6B04A8C075C1}</td>\n",
       "      <td>616000</td>\n",
       "      <td>2018-05-17</td>\n",
       "      <td>SW13 0PN</td>\n",
       "      <td>Terraced</td>\n",
       "      <td>Old</td>\n",
       "      <td>Freehold</td>\n",
       "      <td>51</td>\n",
       "      <td>NaN</td>\n",
       "      <td>RAILWAY SIDE</td>\n",
       "      <td>NaN</td>\n",
       "      <td>LONDON</td>\n",
       "      <td>RICHMOND UPON THAMES</td>\n",
       "      <td>GREATER LONDON</td>\n",
       "      <td>A</td>\n",
       "      <td>A</td>\n",
       "      <td>SW13</td>\n",
       "      <td>5</td>\n",
       "      <td>2018</td>\n",
       "    </tr>\n",
       "    <tr>\n",
       "      <td>1059</td>\n",
       "      <td>{7011B109-D895-8ED6-E053-6B04A8C075C1}</td>\n",
       "      <td>620000</td>\n",
       "      <td>2018-05-30</td>\n",
       "      <td>SW14 8EZ</td>\n",
       "      <td>Terraced</td>\n",
       "      <td>Old</td>\n",
       "      <td>Freehold</td>\n",
       "      <td>22</td>\n",
       "      <td>NaN</td>\n",
       "      <td>MULLINS PATH</td>\n",
       "      <td>NaN</td>\n",
       "      <td>LONDON</td>\n",
       "      <td>RICHMOND UPON THAMES</td>\n",
       "      <td>GREATER LONDON</td>\n",
       "      <td>A</td>\n",
       "      <td>A</td>\n",
       "      <td>SW14</td>\n",
       "      <td>5</td>\n",
       "      <td>2018</td>\n",
       "    </tr>\n",
       "    <tr>\n",
       "      <td>1340</td>\n",
       "      <td>{666758D7-3BE8-3363-E053-6B04A8C0D74E}</td>\n",
       "      <td>211500</td>\n",
       "      <td>2018-01-31</td>\n",
       "      <td>SE20 8DN</td>\n",
       "      <td>Flat</td>\n",
       "      <td>Old</td>\n",
       "      <td>Leasehold</td>\n",
       "      <td>55</td>\n",
       "      <td>NaN</td>\n",
       "      <td>ORCHARD GROVE</td>\n",
       "      <td>NaN</td>\n",
       "      <td>LONDON</td>\n",
       "      <td>BROMLEY</td>\n",
       "      <td>GREATER LONDON</td>\n",
       "      <td>A</td>\n",
       "      <td>A</td>\n",
       "      <td>SE20</td>\n",
       "      <td>1</td>\n",
       "      <td>2018</td>\n",
       "    </tr>\n",
       "  </tbody>\n",
       "</table>\n",
       "</div>"
      ],
      "text/plain": [
       "                              transaction_ID    price transfer_date  postcode  \\\n",
       "1032  {7011B109-D879-8ED6-E053-6B04A8C075C1}  1205000    2018-05-25  SW13 0NZ   \n",
       "1037  {7011B109-D87E-8ED6-E053-6B04A8C075C1}  5200000    2018-06-04  SW19 7BW   \n",
       "1046  {7011B109-D888-8ED6-E053-6B04A8C075C1}   616000    2018-05-17  SW13 0PN   \n",
       "1059  {7011B109-D895-8ED6-E053-6B04A8C075C1}   620000    2018-05-30  SW14 8EZ   \n",
       "1340  {666758D7-3BE8-3363-E053-6B04A8C0D74E}   211500    2018-01-31  SE20 8DN   \n",
       "\n",
       "     property_type new_build   duration PAON SAON          street locality  \\\n",
       "1032      Terraced       Old   Freehold    6  NaN  CHARLES STREET      NaN   \n",
       "1037      Detached       Old   Freehold    8  NaN   ST MARYS ROAD      NaN   \n",
       "1046      Terraced       Old   Freehold   51  NaN    RAILWAY SIDE      NaN   \n",
       "1059      Terraced       Old   Freehold   22  NaN    MULLINS PATH      NaN   \n",
       "1340          Flat       Old  Leasehold   55  NaN   ORCHARD GROVE      NaN   \n",
       "\n",
       "     town_city              district          county PPD_category_type  \\\n",
       "1032    LONDON  RICHMOND UPON THAMES  GREATER LONDON                 A   \n",
       "1037    LONDON                MERTON  GREATER LONDON                 A   \n",
       "1046    LONDON  RICHMOND UPON THAMES  GREATER LONDON                 A   \n",
       "1059    LONDON  RICHMOND UPON THAMES  GREATER LONDON                 A   \n",
       "1340    LONDON               BROMLEY  GREATER LONDON                 A   \n",
       "\n",
       "     record_status postcode_area  month  year  \n",
       "1032             A          SW13      5  2018  \n",
       "1037             A          SW19      6  2018  \n",
       "1046             A          SW13      5  2018  \n",
       "1059             A          SW14      5  2018  \n",
       "1340             A          SE20      1  2018  "
      ]
     },
     "execution_count": 76,
     "metadata": {},
     "output_type": "execute_result"
    }
   ],
   "source": [
    "df.head()"
   ]
  },
  {
   "cell_type": "markdown",
   "metadata": {},
   "source": [
    "#### Add in the population density information to create a scatter plot of prices to density\n",
    "#### Data source: Nomis UK population database of all postcode areas and population density from\n",
    "#### 2011 - ONS Crown Copyright Reserved [from Nomis on 24 October 2019]\n",
    "pop_density = pd.read_csv('UK_pop_density_postcodes.csv')[8:]\n",
    "density_columns = ['long_code', 'postcode_area', 'population_density']\n",
    "pop_density.columns = density_columns\n",
    "pop_density = pop_density.drop(columns='long_code')\n",
    "pop_density.head(10)"
   ]
  },
  {
   "cell_type": "code",
   "execution_count": null,
   "metadata": {},
   "outputs": [],
   "source": [
    "## Add the population density data to the prices paid dataset by merging the tables\n",
    "## Used an if-statement to prevent multiple merges.\n",
    "if 'population_density' not in df.columns:\n",
    "    df = df.merge(pop_density, how='left', on='postcode_area')\n",
    "\n",
    "df[df['postcode_area'] == 'N4'].head()"
   ]
  },
  {
   "cell_type": "code",
   "execution_count": 18,
   "metadata": {},
   "outputs": [
    {
     "data": {
      "text/plain": [
       "0    POLYGON ((517175.296 164077.303, 517177.300 16...\n",
       "1    POLYGON ((519552.998 164295.600, 519508.096 16...\n",
       "2    POLYGON ((518107.499 167303.399, 518114.301 16...\n",
       "3    POLYGON ((520336.700 165105.498, 520332.198 16...\n",
       "4    POLYGON ((521201.203 169275.505, 521204.303 16...\n",
       "Name: geometry, dtype: geometry"
      ]
     },
     "execution_count": 18,
     "metadata": {},
     "output_type": "execute_result"
    }
   ],
   "source": [
    "## Add additional datasets that will be used - London boroughs and London wards\n",
    "\n",
    "wards = geopandas.read_file('/Users/user/Desktop/Datasets/London_Wards.geojson')\n",
    "#wards = f'/Users/user/Desktop/Datasets/London_Wards.json'\n",
    "#boroughs = geopandas.read_file(boroughs, SHAPE_RESTORE_SHX='yes')\n",
    "wards['geometry'].head()"
   ]
  },
  {
   "cell_type": "code",
   "execution_count": 21,
   "metadata": {},
   "outputs": [],
   "source": [
    "london_centre = [51.5074, -0.1278]\n",
    "london_map = folium.Map(location=london_centre, \n",
    "                        zoom_start=10)\n",
    "\n",
    "#folium.GeoJson(wards, name='London Wards').add_to(london_map)"
   ]
  },
  {
   "cell_type": "code",
   "execution_count": 22,
   "metadata": {},
   "outputs": [
    {
     "data": {
      "text/html": [
       "<div style=\"width:100%;\"><div style=\"position:relative;width:100%;height:0;padding-bottom:60%;\"><iframe src=\"data:text/html;charset=utf-8;base64,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\" style=\"position:absolute;width:100%;height:100%;left:0;top:0;border:none !important;\" allowfullscreen webkitallowfullscreen mozallowfullscreen></iframe></div></div>"
      ],
      "text/plain": [
       "<folium.folium.Map at 0x1a25568e10>"
      ]
     },
     "execution_count": 22,
     "metadata": {},
     "output_type": "execute_result"
    }
   ],
   "source": [
    "london_map"
   ]
  },
  {
   "cell_type": "code",
   "execution_count": 12,
   "metadata": {},
   "outputs": [],
   "source": [
    "london_map.save('London Wards.html')"
   ]
  },
  {
   "cell_type": "code",
   "execution_count": 122,
   "metadata": {},
   "outputs": [],
   "source": [
    "credentials = pd.read_csv('/Users/user/Desktop/Datasets/credentials.csv')\n",
    "google_api = credentials.iloc[0,1]"
   ]
  },
  {
   "cell_type": "code",
   "execution_count": 143,
   "metadata": {},
   "outputs": [],
   "source": [
    "## geotag the London data using Google's Geocoding service\n",
    "\n",
    "API_KEY = google_api\n",
    "#url = 'https://maps.googleapis.com/maps/api/geocode/json?address={}&key={}'.format(address, API_KEY)\n",
    "coordinates = []\n",
    "\n",
    "\n",
    "for x in range(100):\n",
    "    address = str(df.iloc[x]['PAON']) + ', ' + \\\n",
    "          str(df.iloc[x]['street']) + ', ' + \\\n",
    "          str(df.iloc[x]['town_city']) + ', ' + \\\n",
    "          str(df.iloc[x]['district'])\n",
    "    url = 'https://maps.googleapis.com/maps/api/geocode/json?address={}&key={}'.format(address, API_KEY)\n",
    "    r = requests.get(url)\n",
    "    lat_lng = [r.json()['results'][0]['geometry']['location']['lat'],\n",
    "                             r.json()['results'][0]['geometry']['location']['lng']]\n",
    "    coordinates.append(lat_lng)"
   ]
  },
  {
   "cell_type": "code",
   "execution_count": 144,
   "metadata": {},
   "outputs": [],
   "source": [
    "london_centre = [51.5074, -0.1278]\n",
    "homes_map = folium.Map(location=london_centre, \n",
    "                        zoom_start=10,\n",
    "                       tiles='cartodbpositron',\n",
    "                       attr='CartoDB')\n",
    "\n",
    "folium.Layer()\n",
    "\n",
    "for x in range(len(coordinates)):\n",
    "    marker = folium.Marker(location=coordinates[x])\n",
    "    marker.add_to(homes_map)"
   ]
  },
  {
   "cell_type": "code",
   "execution_count": 149,
   "metadata": {},
   "outputs": [
    {
     "data": {
      "text/html": [
       "<div style=\"width:100%;\"><div style=\"position:relative;width:100%;height:0;padding-bottom:60%;\"><iframe src=\"data:text/html;charset=utf-8;base64,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\" style=\"position:absolute;width:100%;height:100%;left:0;top:0;border:none !important;\" allowfullscreen webkitallowfullscreen mozallowfullscreen></iframe></div></div>"
      ],
      "text/plain": [
       "<folium.folium.Map at 0x1a400b18d0>"
      ]
     },
     "execution_count": 149,
     "metadata": {},
     "output_type": "execute_result"
    }
   ],
   "source": [
    "HeatMap(coordinates, name='Heatmap').add_to(homes_map)\n",
    "\n",
    "folium.LayerControl().add_to(homes_map)\n",
    "\n",
    "homes_map"
   ]
  },
  {
   "cell_type": "code",
   "execution_count": 16,
   "metadata": {},
   "outputs": [],
   "source": [
    "## Map the London dataset\n",
    "\n",
    "## Add the polygon boroughs and wards as optional layers\n",
    "## Add a heatmap of the properties as optional layer"
   ]
  },
  {
   "cell_type": "code",
   "execution_count": 21,
   "metadata": {},
   "outputs": [],
   "source": [
    "## Create a function that adds the number of nearby sales as an additional attribute to the homes dataset\n",
    "## for x in len(range(dataset)):\n",
    "#        geopandas.overlay(how='intersection')\n",
    "    \n",
    "from shapely.geometry import Polygon\n",
    "\n",
    "polys1 = geopandas.GeoSeries([Polygon([(0,0), (2,0), (2,2), (0,2)]),\n",
    "                               Polygon([(2,2), (4,2), (4,4), (2,4)])])\n",
    "\n",
    "polys2 = geopandas.GeoSeries([Polygon([(1,1), (3,1), (3,3), (1,3)]),\n",
    "                               Polygon([(3,3), (5,3), (5,5), (3,5)])])\n",
    "\n",
    "df1 = geopandas.GeoDataFrame({'geometry': polys1, 'df1':[1,2]})\n",
    "\n",
    "df2 = geopandas.GeoDataFrame({'geometry': polys2, 'df2':[1,2]})"
   ]
  },
  {
   "cell_type": "code",
   "execution_count": 23,
   "metadata": {},
   "outputs": [
    {
     "data": {
      "image/png": "[encoded data removed]",
      "text/plain": [
       "<Figure size 432x288 with 1 Axes>"
      ]
     },
     "metadata": {
      "needs_background": "light"
     },
     "output_type": "display_data"
    }
   ],
   "source": [
    "ax = df1.plot(color='red');\n",
    "\n",
    "df2.plot(ax=ax, color='green', alpha=0.5);"
   ]
  },
  {
   "cell_type": "code",
   "execution_count": 34,
   "metadata": {},
   "outputs": [
    {
     "data": {
      "image/png": "[encoded data removed]",
      "text/plain": [
       "<Figure size 432x288 with 1 Axes>"
      ]
     },
     "metadata": {
      "needs_background": "light"
     },
     "output_type": "display_data"
    }
   ],
   "source": [
    "res_union = geopandas.overlay(df1, df2, how='union') # or intersection, symmetric_difference, difference\n",
    "ax = res_union.plot(alpha=0.8, cmap='tab10')\n",
    "\n",
    "df1.plot(ax=ax, facecolor='none', edgecolor='k');\n",
    "\n",
    "df2.plot(ax=ax, facecolor='none', edgecolor='k');"
   ]
  },
  {
   "cell_type": "markdown",
   "metadata": {},
   "source": [
    "### For predictive modelling, first we will preprocess the data to ensure it can by properly read by the scikit-learn packge. This involves converting ordinal (categorical) data into numerical data."
   ]
  },
  {
   "cell_type": "code",
   "execution_count": 110,
   "metadata": {},
   "outputs": [
    {
     "data": {
      "text/html": [
       "<div>\n",
       "<style scoped>\n",
       "    .dataframe tbody tr th:only-of-type {\n",
       "        vertical-align: middle;\n",
       "    }\n",
       "\n",
       "    .dataframe tbody tr th {\n",
       "        vertical-align: top;\n",
       "    }\n",
       "\n",
       "    .dataframe thead th {\n",
       "        text-align: right;\n",
       "    }\n",
       "</style>\n",
       "<table border=\"1\" class=\"dataframe\">\n",
       "  <thead>\n",
       "    <tr style=\"text-align: right;\">\n",
       "      <th></th>\n",
       "      <th>property_type</th>\n",
       "      <th>new_build</th>\n",
       "      <th>district</th>\n",
       "    </tr>\n",
       "  </thead>\n",
       "  <tbody>\n",
       "    <tr>\n",
       "      <td>1032</td>\n",
       "      <td>Terraced</td>\n",
       "      <td>Old</td>\n",
       "      <td>RICHMOND UPON THAMES</td>\n",
       "    </tr>\n",
       "    <tr>\n",
       "      <td>1037</td>\n",
       "      <td>Detached</td>\n",
       "      <td>Old</td>\n",
       "      <td>MERTON</td>\n",
       "    </tr>\n",
       "    <tr>\n",
       "      <td>1046</td>\n",
       "      <td>Terraced</td>\n",
       "      <td>Old</td>\n",
       "      <td>RICHMOND UPON THAMES</td>\n",
       "    </tr>\n",
       "    <tr>\n",
       "      <td>1059</td>\n",
       "      <td>Terraced</td>\n",
       "      <td>Old</td>\n",
       "      <td>RICHMOND UPON THAMES</td>\n",
       "    </tr>\n",
       "    <tr>\n",
       "      <td>1340</td>\n",
       "      <td>Flat</td>\n",
       "      <td>Old</td>\n",
       "      <td>BROMLEY</td>\n",
       "    </tr>\n",
       "  </tbody>\n",
       "</table>\n",
       "</div>"
      ],
      "text/plain": [
       "     property_type new_build              district\n",
       "1032      Terraced       Old  RICHMOND UPON THAMES\n",
       "1037      Detached       Old                MERTON\n",
       "1046      Terraced       Old  RICHMOND UPON THAMES\n",
       "1059      Terraced       Old  RICHMOND UPON THAMES\n",
       "1340          Flat       Old               BROMLEY"
      ]
     },
     "execution_count": 110,
     "metadata": {},
     "output_type": "execute_result"
    }
   ],
   "source": [
    "## Create a new dataframe using the function created above to capture the attributes\n",
    "## to use in the prediction\n",
    "\n",
    "attributes = ['property_type', 'new_build', 'district']\n",
    "df_attr = df[attributes]\n",
    "df_attr.head()"
   ]
  },
  {
   "cell_type": "code",
   "execution_count": null,
   "metadata": {},
   "outputs": [],
   "source": [
    "enc = OneHotEncoder(sparse=False)\n",
    "\n",
    "x_encoded = enc.fit_transform(df_attr)\n",
    "\n",
    "x_encoded = pd.DataFrame(x_encoded)\n",
    "\n",
    "x_encoded"
   ]
  },
  {
   "cell_type": "code",
   "execution_count": null,
   "metadata": {},
   "outputs": [],
   "source": [
    "data_ohe = OneHotEncoder().fit_transform(data).toarray()\n",
    "z = pd.DataFrame(data_ohe)\n",
    "\n",
    "z.columns = cols\n",
    "z['price'] = df_ten.price.reset_index().price\n",
    "z.head()"
   ]
  },
  {
   "cell_type": "code",
   "execution_count": null,
   "metadata": {},
   "outputs": [],
   "source": [
    "build_type = df_ten['new_build']\n",
    "prop_type = df_ten['property_type']\n",
    "cityID = df_ten['town_city']\n",
    "\n",
    "xencode = LabelEncoder()\n",
    "build_type = xencode.fit_transform(build_type)\n",
    "xkeys = xencode.classes_\n",
    "xkeys = list(xkeys)\n",
    "\n",
    "yencode = LabelEncoder()\n",
    "prop_type = yencode.fit_transform(prop_type)\n",
    "ykeys = yencode.classes_\n",
    "ykeys = list(ykeys)\n",
    "\n",
    "zencode = LabelEncoder()\n",
    "cityID = zencode.fit_transform(cityID)\n",
    "zkeys = zencode.classes_\n",
    "zkeys = list(zkeys)\n",
    "\n",
    "cols = xkeys + ykeys + zkeys\n",
    "cols"
   ]
  },
  {
   "cell_type": "code",
   "execution_count": null,
   "metadata": {},
   "outputs": [],
   "source": [
    "build_type = pd.DataFrame(build_type)\n",
    "prop_type = pd.DataFrame(prop_type)\n",
    "cityID = pd.DataFrame(cityID)\n",
    "\n",
    "data = pd.concat([build_type, prop_type, cityID], axis=1)\n",
    "data"
   ]
  },
  {
   "cell_type": "markdown",
   "metadata": {},
   "source": [
    "### Assign the data to the scikit-learn packages, starting with Decision Trees"
   ]
  },
  {
   "cell_type": "code",
   "execution_count": null,
   "metadata": {},
   "outputs": [],
   "source": [
    "locale.setlocale(locale.LC_ALL, \"\")\n",
    "\n",
    "feature_cols = cols\n",
    "\n",
    "X = z[feature_cols] #features\n",
    "y = z.price #target variable\n",
    "\n",
    "X_train, X_test, y_train, y_test = train_test_split(X, y, test_size=0.30, random_state=1)\n",
    "\n",
    "# Create Decision Tree classifer object\n",
    "reg = DecisionTreeRegressor()\n",
    "\n",
    "# Train Decision Tree Classifer\n",
    "model = reg.fit(X_train,y_train)\n",
    "\n",
    "#Predict the response for test dataset\n",
    "y_pred = model.predict(X_test)"
   ]
  },
  {
   "cell_type": "code",
   "execution_count": null,
   "metadata": {},
   "outputs": [],
   "source": [
    "y_train_pred = model.predict(X_train)\n",
    "\n",
    "np.sqrt(metrics.mean_squared_error(y_train, y_train_pred))"
   ]
  },
  {
   "cell_type": "code",
   "execution_count": null,
   "metadata": {},
   "outputs": [],
   "source": [
    "\n",
    "\n",
    "np.sqrt(metrics.mean_squared_error(y_test, y_pred))"
   ]
  },
  {
   "cell_type": "code",
   "execution_count": null,
   "metadata": {},
   "outputs": [],
   "source": [
    "rand = np.random.uniform(low=0, high=len(df_ten))\n",
    "\n",
    "X_new = df_ten.iloc[int(rand)]\n",
    "\n",
    "# Model Accuracy, how often is the regressor correct?\n",
    "print(\"City X: %s\" % X_new.loc['town_city'])\n",
    "print('X: £{:,.2f}, Predicted: £{:,.2f}'.format(X_new[0], y_pred[X_new[0]]))\n",
    "print('Difference (£): {:+,.0f}'.format(X_new[0] - y_pred[0]))\n",
    "print('Difference Predicted (%): {:+.2f}%'.format(((y_pred[0] - X_new[0]) / X_new[0]) * 100))"
   ]
  }
 ],
 "metadata": {
  "kernelspec": {
   "display_name": "Python 3",
   "language": "python",
   "name": "python3"
  },
  "language_info": {
   "codemirror_mode": {
    "name": "ipython",
    "version": 3
   },
   "file_extension": ".py",
   "mimetype": "text/x-python",
   "name": "python",
   "nbconvert_exporter": "python",
   "pygments_lexer": "ipython3",
   "version": "3.6.9"
  }
 },
 "nbformat": 4,
 "nbformat_minor": 2
}
